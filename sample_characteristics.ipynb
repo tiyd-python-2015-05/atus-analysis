{
 "cells": [
  {
   "cell_type": "markdown",
   "metadata": {},
   "source": [
    "##Nature of the respondents"
   ]
  },
  {
   "cell_type": "code",
   "execution_count": 36,
   "metadata": {
    "collapsed": true
   },
   "outputs": [],
   "source": [
    "import pandas as pd\n",
    "import numpy as np\n",
    "import re\n",
    "import matplotlib.pyplot as plt"
   ]
  },
  {
   "cell_type": "code",
   "execution_count": 2,
   "metadata": {
    "collapsed": true
   },
   "outputs": [],
   "source": [
    "%matplotlib inline"
   ]
  },
  {
   "cell_type": "code",
   "execution_count": 3,
   "metadata": {
    "collapsed": false
   },
   "outputs": [
    {
     "name": "stdout",
     "output_type": "stream",
     "text": [
      "<class 'pandas.core.frame.DataFrame'>\n",
      "Int64Index: 11385 entries, 0 to 11384\n",
      "Columns: 413 entries, tucaseid to t500107\n",
      "dtypes: float64(1), int64(412)\n",
      "memory usage: 36.0 MB\n"
     ]
    }
   ],
   "source": [
    "summary = pd.read_csv(\"data/summary.dat\")\n",
    "summary.info()"
   ]
  },
  {
   "cell_type": "code",
   "execution_count": 4,
   "metadata": {
    "collapsed": false
   },
   "outputs": [
    {
     "data": {
      "text/plain": [
       "Index(['tucaseid', 'TUFINLWGT', 'TRYHHCHILD', 'TEAGE', 'TESEX', 'PEEDUCA',\n",
       "       'PTDTRACE', 'PEHSPNON', 'GTMETSTA', 'TELFS', \n",
       "       ...\n",
       "       't181501', 't181599', 't181601', 't181801', 't189999', 't500101',\n",
       "       't500103', 't500105', 't500106', 't500107'],\n",
       "      dtype='object', length=413)"
      ]
     },
     "execution_count": 4,
     "metadata": {},
     "output_type": "execute_result"
    }
   ],
   "source": [
    "summary.columns"
   ]
  },
  {
   "cell_type": "code",
   "execution_count": 5,
   "metadata": {
    "collapsed": false
   },
   "outputs": [
    {
     "data": {
      "text/plain": [
       "array([2, 1])"
      ]
     },
     "execution_count": 5,
     "metadata": {},
     "output_type": "execute_result"
    }
   ],
   "source": [
    "summary['TESEX'].unique()"
   ]
  },
  {
   "cell_type": "code",
   "execution_count": 6,
   "metadata": {
    "collapsed": false
   },
   "outputs": [],
   "source": [
    "Female = summary['TESEX'] == 2"
   ]
  },
  {
   "cell_type": "code",
   "execution_count": 7,
   "metadata": {
    "collapsed": false
   },
   "outputs": [],
   "source": [
    "Male = summary['TESEX'] == 1"
   ]
  },
  {
   "cell_type": "code",
   "execution_count": 8,
   "metadata": {
    "collapsed": false
   },
   "outputs": [
    {
     "name": "stderr",
     "output_type": "stream",
     "text": [
      "/Users/sovello/tiy2015/atus-analysis/.direnv/python-3.4.3/lib/python3.4/site-packages/IPython/kernel/__main__.py:1: SettingWithCopyWarning: \n",
      "A value is trying to be set on a copy of a slice from a DataFrame\n",
      "\n",
      "See the the caveats in the documentation: http://pandas.pydata.org/pandas-docs/stable/indexing.html#indexing-view-versus-copy\n",
      "  if __name__ == '__main__':\n"
     ]
    }
   ],
   "source": [
    "summary['TESEX'][Female] = 'FEMALE'\n",
    "summary['TESEX'][Male] = 'MALE'"
   ]
  },
  {
   "cell_type": "markdown",
   "metadata": {},
   "source": [
    "## Male to Female Ratio in the Study"
   ]
  },
  {
   "cell_type": "code",
   "execution_count": 22,
   "metadata": {
    "collapsed": true
   },
   "outputs": [],
   "source": [
    "gender = summary[['TESEX']]"
   ]
  },
  {
   "cell_type": "code",
   "execution_count": 23,
   "metadata": {
    "collapsed": false
   },
   "outputs": [
    {
     "data": {
      "text/plain": [
       "<matplotlib.axes._subplots.AxesSubplot at 0x116eb8710>"
      ]
     },
     "execution_count": 23,
     "metadata": {},
     "output_type": "execute_result"
    },
    {
     "data": {
      "image/png": "[encoded data removed]",
      "text/plain": [
       "<matplotlib.figure.Figure at 0x116f77128>"
      ]
     },
     "metadata": {},
     "output_type": "display_data"
    }
   ],
   "source": [
    "gender['TESEX'].value_counts().plot(kind='pie', title=\"Male to Female Proportion\")"
   ]
  },
  {
   "cell_type": "markdown",
   "metadata": {},
   "source": [
    "## Age Distribution\n",
    "### Age Groups"
   ]
  },
  {
   "cell_type": "code",
   "execution_count": 24,
   "metadata": {
    "collapsed": true
   },
   "outputs": [],
   "source": [
    "summary.loc[summary.TEAGE >= 60,'Age Group']='60+'\n",
    "above50 = summary.TEAGE >= 50 \n",
    "below60 = summary.TEAGE < 60\n",
    "summary.loc[above50 & below60, 'Age Group'] = '50-59'\n",
    "\n",
    "above40 = summary.TEAGE >= 40\n",
    "below50 = summary.TEAGE < 50\n",
    "\n",
    "above30 = summary.TEAGE >= 30\n",
    "below40 = summary.TEAGE < 40\n",
    "\n",
    "above20 = summary.TEAGE >= 20\n",
    "below30 = summary.TEAGE < 30\n",
    "\n",
    "summary.loc[above40 & below50, 'Age Group'] = '40-49'\n",
    "summary.loc[above30 & below40, 'Age Group'] = '30-39'\n",
    "summary.loc[above20 & below30, 'Age Group'] = '20-29'\n",
    "summary.loc[summary.TEAGE < 20, 'Age Group'] = '0-20'"
   ]
  },
  {
   "cell_type": "code",
   "execution_count": 25,
   "metadata": {
    "collapsed": false
   },
   "outputs": [],
   "source": [
    "age_groups = summary[['TEAGE', 'TESEX', 'Age Group']]"
   ]
  },
  {
   "cell_type": "code",
   "execution_count": 12,
   "metadata": {
    "collapsed": false
   },
   "outputs": [
    {
     "name": "stderr",
     "output_type": "stream",
     "text": [
      "/Users/sovello/tiy2015/atus-analysis/.direnv/python-3.4.3/lib/python3.4/site-packages/pandas/core/indexing.py:243: SettingWithCopyWarning: \n",
      "A value is trying to be set on a copy of a slice from a DataFrame.\n",
      "Try using .loc[row_indexer,col_indexer] = value instead\n",
      "\n",
      "See the the caveats in the documentation: http://pandas.pydata.org/pandas-docs/stable/indexing.html#indexing-view-versus-copy\n",
      "  self.obj[key] = _infer_fill_value(value)\n",
      "/Users/sovello/tiy2015/atus-analysis/.direnv/python-3.4.3/lib/python3.4/site-packages/pandas/core/indexing.py:407: SettingWithCopyWarning: \n",
      "A value is trying to be set on a copy of a slice from a DataFrame.\n",
      "Try using .loc[row_indexer,col_indexer] = value instead\n",
      "\n",
      "See the the caveats in the documentation: http://pandas.pydata.org/pandas-docs/stable/indexing.html#indexing-view-versus-copy\n",
      "  self.obj[item] = s\n"
     ]
    }
   ],
   "source": []
  },
  {
   "cell_type": "code",
   "execution_count": 26,
   "metadata": {
    "collapsed": false
   },
   "outputs": [],
   "source": [
    "age_groups = age_groups.loc[:,['Age Group', 'TESEX']]\n",
    "df2 = age_groups.groupby(['Age Group', 'TESEX'])['Age Group'].count().unstack('TESEX')#.fillna(0)"
   ]
  },
  {
   "cell_type": "code",
   "execution_count": 27,
   "metadata": {
    "collapsed": false
   },
   "outputs": [
    {
     "data": {
      "text/plain": [
       "<matplotlib.axes._subplots.AxesSubplot at 0x116ebd198>"
      ]
     },
     "execution_count": 27,
     "metadata": {},
     "output_type": "execute_result"
    },
    {
     "data": {
      "image/png": "[encoded data removed]",
      "text/plain": [
       "<matplotlib.figure.Figure at 0x116fa4710>"
      ]
     },
     "metadata": {},
     "output_type": "display_data"
    }
   ],
   "source": [
    "df2[['MALE', 'FEMALE']].plot(kind='bar', title='Comparison of Males to Females by Age Groups')"
   ]
  },
  {
   "cell_type": "markdown",
   "metadata": {
    "collapsed": true
   },
   "source": [
    "## Sleeplessness"
   ]
  },
  {
   "cell_type": "code",
   "execution_count": 49,
   "metadata": {
    "collapsed": false
   },
   "outputs": [],
   "source": [
    "sleepless = summary.loc[:,['Age Group', 'TESEX', 't010102']]\n",
    "sleeplessness = pd.pivot_table(sleepless, values='t010102', index=['Age Group'], columns='TESEX', aggfunc=np.sum)"
   ]
  },
  {
   "cell_type": "code",
   "execution_count": 54,
   "metadata": {
    "collapsed": false
   },
   "outputs": [
    {
     "data": {
      "text/plain": [
       "<matplotlib.axes._subplots.AxesSubplot at 0x1173d9a90>"
      ]
     },
     "execution_count": 54,
     "metadata": {},
     "output_type": "execute_result"
    },
    {
     "data": {
      "image/png": "[encoded data removed]",
      "text/plain": [
       "<matplotlib.figure.Figure at 0x117288c50>"
      ]
     },
     "metadata": {},
     "output_type": "display_data"
    }
   ],
   "source": [
    "sleeplessness.plot(kind='line', title=\"Sleeplessness Among Men and Women for different Age Groups\")"
   ]
  },
  {
   "cell_type": "markdown",
   "metadata": {},
   "source": [
    "# Elder Care Services"
   ]
  },
  {
   "cell_type": "code",
   "execution_count": 56,
   "metadata": {
    "collapsed": true
   },
   "outputs": [],
   "source": [
    "eldercare = pd.read_csv('data/eldercare.dat')"
   ]
  },
  {
   "cell_type": "code",
   "execution_count": 62,
   "metadata": {
    "collapsed": false
   },
   "outputs": [
    {
     "data": {
      "text/plain": [
       "array([-1,  3,  2,  4,  5,  6,  8,  7])"
      ]
     },
     "execution_count": 62,
     "metadata": {},
     "output_type": "execute_result"
    }
   ],
   "source": [
    "elderscared = eldercare.loc[:,['TUCASEID', 'TULINENO']]\n",
    "elderscared['TULINENO'].unique()"
   ]
  },
  {
   "cell_type": "code",
   "execution_count": 63,
   "metadata": {
    "collapsed": false
   },
   "outputs": [
    {
     "name": "stdout",
     "output_type": "stream",
     "text": [
      "<class 'pandas.core.frame.DataFrame'>\n",
      "Int64Index: 2800 entries, 0 to 2799\n",
      "Data columns (total 2 columns):\n",
      "TUCASEID    2800 non-null int64\n",
      "TULINENO    2800 non-null int64\n",
      "dtypes: int64(2)\n",
      "memory usage: 65.6 KB\n"
     ]
    }
   ],
   "source": [
    "elderscared.info()"
   ]
  },
  {
   "cell_type": "code",
   "execution_count": 64,
   "metadata": {
    "collapsed": false
   },
   "outputs": [
    {
     "name": "stdout",
     "output_type": "stream",
     "text": [
      "<class 'pandas.core.frame.DataFrame'>\n",
      "Int64Index: 11385 entries, 0 to 11384\n",
      "Columns: 414 entries, tucaseid to Age Group\n",
      "dtypes: float64(1), int64(411), object(2)\n",
      "memory usage: 36.0+ MB\n"
     ]
    }
   ],
   "source": [
    "summary.info()"
   ]
  },
  {
   "cell_type": "code",
   "execution_count": 69,
   "metadata": {
    "collapsed": false
   },
   "outputs": [],
   "source": [
    "summaryinfo = summary[['tucaseid', 'TEAGE', 'TESEX', 'Age Group']]\n",
    "summaryinfo.index = summaryinfo['tucaseid']\n",
    "elderscared.index = elderscared['TUCASEID']"
   ]
  },
  {
   "cell_type": "code",
   "execution_count": 72,
   "metadata": {
    "collapsed": false
   },
   "outputs": [
    {
     "data": {
      "text/html": [
       "<div style=\"max-height:1000px;max-width:1500px;overflow:auto;\">\n",
       "<table border=\"1\" class=\"dataframe\">\n",
       "  <thead>\n",
       "    <tr style=\"text-align: right;\">\n",
       "      <th></th>\n",
       "      <th>tucaseid</th>\n",
       "      <th>TEAGE</th>\n",
       "      <th>TESEX</th>\n",
       "      <th>Age Group</th>\n",
       "      <th>TUCASEID</th>\n",
       "      <th>TULINENO</th>\n",
       "    </tr>\n",
       "  </thead>\n",
       "  <tbody>\n",
       "    <tr>\n",
       "      <th>20130101130123</th>\n",
       "      <td>20130101130123</td>\n",
       "      <td>47</td>\n",
       "      <td>FEMALE</td>\n",
       "      <td>40-49</td>\n",
       "      <td>20130101130123</td>\n",
       "      <td>-1</td>\n",
       "    </tr>\n",
       "    <tr>\n",
       "      <th>20130101130123</th>\n",
       "      <td>20130101130123</td>\n",
       "      <td>47</td>\n",
       "      <td>FEMALE</td>\n",
       "      <td>40-49</td>\n",
       "      <td>20130101130123</td>\n",
       "      <td>-1</td>\n",
       "    </tr>\n",
       "    <tr>\n",
       "      <th>20130101130611</th>\n",
       "      <td>20130101130611</td>\n",
       "      <td>50</td>\n",
       "      <td>FEMALE</td>\n",
       "      <td>50-59</td>\n",
       "      <td>20130101130611</td>\n",
       "      <td>-1</td>\n",
       "    </tr>\n",
       "    <tr>\n",
       "      <th>20130101130734</th>\n",
       "      <td>20130101130734</td>\n",
       "      <td>57</td>\n",
       "      <td>FEMALE</td>\n",
       "      <td>50-59</td>\n",
       "      <td>20130101130734</td>\n",
       "      <td>-1</td>\n",
       "    </tr>\n",
       "    <tr>\n",
       "      <th>20130101130735</th>\n",
       "      <td>20130101130735</td>\n",
       "      <td>27</td>\n",
       "      <td>FEMALE</td>\n",
       "      <td>20-29</td>\n",
       "      <td>20130101130735</td>\n",
       "      <td>-1</td>\n",
       "    </tr>\n",
       "  </tbody>\n",
       "</table>\n",
       "</div>"
      ],
      "text/plain": [
       "                      tucaseid  TEAGE   TESEX Age Group        TUCASEID  \\\n",
       "20130101130123  20130101130123     47  FEMALE     40-49  20130101130123   \n",
       "20130101130123  20130101130123     47  FEMALE     40-49  20130101130123   \n",
       "20130101130611  20130101130611     50  FEMALE     50-59  20130101130611   \n",
       "20130101130734  20130101130734     57  FEMALE     50-59  20130101130734   \n",
       "20130101130735  20130101130735     27  FEMALE     20-29  20130101130735   \n",
       "\n",
       "                TULINENO  \n",
       "20130101130123        -1  \n",
       "20130101130123        -1  \n",
       "20130101130611        -1  \n",
       "20130101130734        -1  \n",
       "20130101130735        -1  "
      ]
     },
     "execution_count": 72,
     "metadata": {},
     "output_type": "execute_result"
    }
   ],
   "source": [
    "careproviders = pd.concat([summaryinfo, elderscared], axis = 1, join='inner')\n",
    "careproviders.head()"
   ]
  },
  {
   "cell_type": "markdown",
   "metadata": {},
   "source": [
    "# Comparison at providing of elderly care"
   ]
  },
  {
   "cell_type": "code",
   "execution_count": 80,
   "metadata": {
    "collapsed": false
   },
   "outputs": [
    {
     "data": {
      "text/plain": [
       "<matplotlib.axes._subplots.AxesSubplot at 0x1175f75f8>"
      ]
     },
     "execution_count": 80,
     "metadata": {},
     "output_type": "execute_result"
    },
    {
     "data": {
      "image/png": "[encoded data removed]",
      "text/plain": [
       "<matplotlib.figure.Figure at 0x1175e1ac8>"
      ]
     },
     "metadata": {},
     "output_type": "display_data"
    }
   ],
   "source": [
    "careproviders['count'] = 1\n",
    "pd.pivot_table(careproviders, values='count', index=['Age Group'], columns='TESEX', aggfunc=np.sum).plot(kind='bar')"
   ]
  },
  {
   "cell_type": "markdown",
   "metadata": {},
   "source": [
    "## Providing care outside the household"
   ]
  },
  {
   "cell_type": "code",
   "execution_count": 81,
   "metadata": {
    "collapsed": true
   },
   "outputs": [],
   "source": [
    "INHOUSE = careproviders.TULINENO == -1\n",
    "EXTERNAL = careproviders.TULINENO > 1\n",
    "\n",
    "careproviders.loc[INHOUSE, 'Beneficiary'] = 'EXTERNAL'\n",
    "careproviders.loc[EXTERNAL, 'Beneficiary'] = 'INHOUSE'"
   ]
  },
  {
   "cell_type": "code",
   "execution_count": 82,
   "metadata": {
    "collapsed": false
   },
   "outputs": [
    {
     "data": {
      "text/html": [
       "<div style=\"max-height:1000px;max-width:1500px;overflow:auto;\">\n",
       "<table border=\"1\" class=\"dataframe\">\n",
       "  <thead>\n",
       "    <tr style=\"text-align: right;\">\n",
       "      <th></th>\n",
       "      <th>tucaseid</th>\n",
       "      <th>TEAGE</th>\n",
       "      <th>TESEX</th>\n",
       "      <th>Age Group</th>\n",
       "      <th>TUCASEID</th>\n",
       "      <th>TULINENO</th>\n",
       "      <th>count</th>\n",
       "      <th>Beneficiary</th>\n",
       "    </tr>\n",
       "  </thead>\n",
       "  <tbody>\n",
       "    <tr>\n",
       "      <th>20130101130123</th>\n",
       "      <td>20130101130123</td>\n",
       "      <td>47</td>\n",
       "      <td>FEMALE</td>\n",
       "      <td>40-49</td>\n",
       "      <td>20130101130123</td>\n",
       "      <td>-1</td>\n",
       "      <td>1</td>\n",
       "      <td>EXTERNAL</td>\n",
       "    </tr>\n",
       "    <tr>\n",
       "      <th>20130101130123</th>\n",
       "      <td>20130101130123</td>\n",
       "      <td>47</td>\n",
       "      <td>FEMALE</td>\n",
       "      <td>40-49</td>\n",
       "      <td>20130101130123</td>\n",
       "      <td>-1</td>\n",
       "      <td>1</td>\n",
       "      <td>EXTERNAL</td>\n",
       "    </tr>\n",
       "    <tr>\n",
       "      <th>20130101130611</th>\n",
       "      <td>20130101130611</td>\n",
       "      <td>50</td>\n",
       "      <td>FEMALE</td>\n",
       "      <td>50-59</td>\n",
       "      <td>20130101130611</td>\n",
       "      <td>-1</td>\n",
       "      <td>1</td>\n",
       "      <td>EXTERNAL</td>\n",
       "    </tr>\n",
       "    <tr>\n",
       "      <th>20130101130734</th>\n",
       "      <td>20130101130734</td>\n",
       "      <td>57</td>\n",
       "      <td>FEMALE</td>\n",
       "      <td>50-59</td>\n",
       "      <td>20130101130734</td>\n",
       "      <td>-1</td>\n",
       "      <td>1</td>\n",
       "      <td>EXTERNAL</td>\n",
       "    </tr>\n",
       "    <tr>\n",
       "      <th>20130101130735</th>\n",
       "      <td>20130101130735</td>\n",
       "      <td>27</td>\n",
       "      <td>FEMALE</td>\n",
       "      <td>20-29</td>\n",
       "      <td>20130101130735</td>\n",
       "      <td>-1</td>\n",
       "      <td>1</td>\n",
       "      <td>EXTERNAL</td>\n",
       "    </tr>\n",
       "  </tbody>\n",
       "</table>\n",
       "</div>"
      ],
      "text/plain": [
       "                      tucaseid  TEAGE   TESEX Age Group        TUCASEID  \\\n",
       "20130101130123  20130101130123     47  FEMALE     40-49  20130101130123   \n",
       "20130101130123  20130101130123     47  FEMALE     40-49  20130101130123   \n",
       "20130101130611  20130101130611     50  FEMALE     50-59  20130101130611   \n",
       "20130101130734  20130101130734     57  FEMALE     50-59  20130101130734   \n",
       "20130101130735  20130101130735     27  FEMALE     20-29  20130101130735   \n",
       "\n",
       "                TULINENO  count Beneficiary  \n",
       "20130101130123        -1      1    EXTERNAL  \n",
       "20130101130123        -1      1    EXTERNAL  \n",
       "20130101130611        -1      1    EXTERNAL  \n",
       "20130101130734        -1      1    EXTERNAL  \n",
       "20130101130735        -1      1    EXTERNAL  "
      ]
     },
     "execution_count": 82,
     "metadata": {},
     "output_type": "execute_result"
    }
   ],
   "source": [
    "careproviders.head()"
   ]
  },
  {
   "cell_type": "code",
   "execution_count": 91,
   "metadata": {
    "collapsed": false
   },
   "outputs": [
    {
     "data": {
      "text/plain": [
       "<matplotlib.axes._subplots.AxesSubplot at 0x116d411d0>"
      ]
     },
     "execution_count": 91,
     "metadata": {},
     "output_type": "execute_result"
    },
    {
     "data": {
      "image/png": "[encoded data removed]",
      "text/plain": [
       "<matplotlib.figure.Figure at 0x117c7cdd8>"
      ]
     },
     "metadata": {},
     "output_type": "display_data"
    }
   ],
   "source": [
    "pd.pivot_table(careproviders, values = ('count'), index=['Age Group'], columns=['Beneficiary', 'TESEX'], \n",
    "                        aggfunc=np.sum).plot(kind='line')"
   ]
  },
  {
   "cell_type": "code",
   "execution_count": null,
   "metadata": {
    "collapsed": true
   },
   "outputs": [],
   "source": []
  }
 ],
 "metadata": {
  "kernelspec": {
   "display_name": "Python 3",
   "language": "python",
   "name": "python3"
  },
  "language_info": {
   "codemirror_mode": {
    "name": "ipython",
    "version": 3
   },
   "file_extension": ".py",
   "mimetype": "text/x-python",
   "name": "python",
   "nbconvert_exporter": "python",
   "pygments_lexer": "ipython3",
   "version": "3.4.3"
  }
 },
 "nbformat": 4,
 "nbformat_minor": 0
}
