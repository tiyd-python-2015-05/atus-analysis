{
 "cells": [
  {
   "cell_type": "markdown",
   "metadata": {},
   "source": [
    "# Analysis of Housework"
   ]
  },
  {
   "cell_type": "code",
   "execution_count": 1,
   "metadata": {
    "collapsed": true
   },
   "outputs": [],
   "source": [
    "import pandas as pd\n",
    "import re\n",
    "import matplotlib.pyplot as plt\n",
    "%matplotlib inline\n",
    "import atus_tools\n",
    "import john_list"
   ]
  },
  {
   "cell_type": "code",
   "execution_count": 112,
   "metadata": {
    "collapsed": true
   },
   "outputs": [],
   "source": [
    "summary = pd.read_csv(\"../atusdata/atussum_2013/atussum_2013.dat\")       # Activity Summary"
   ]
  },
  {
   "cell_type": "markdown",
   "metadata": {},
   "source": [
    "Variables needed for this task\n",
    "- Gender (TESEX)\n",
    "- Household work (t02.....)"
   ]
  },
  {
   "cell_type": "code",
   "execution_count": null,
   "metadata": {
    "collapsed": true
   },
   "outputs": [],
   "source": []
  },
  {
   "cell_type": "code",
   "execution_count": null,
   "metadata": {
    "collapsed": true
   },
   "outputs": [],
   "source": []
  },
  {
   "cell_type": "code",
   "execution_count": 114,
   "metadata": {
    "collapsed": true
   },
   "outputs": [],
   "source": [
    "def activity_columns2(data, activity_code):\n",
    "    \"\"\"For the activity code given, return all columns that fall under that activity.\"\"\"\n",
    "    col_prefix = \"t{}\".format(activity_code)\n",
    "    return [column for column in data.columns if re.match(col_prefix, column) and len(column)==5]\n",
    "\n",
    "def cat_descriptions2(df, activity_code):\n",
    "    codes = activity_columns2(df, activity_code)\n",
    "    out_list = []\n",
    "    for i in range(len(john_list.atus_codes_list)):\n",
    "        c, d = john_list.atus_codes_list[i]\n",
    "        if c in codes:\n",
    "            out_list.append(d)\n",
    "    return out_list"
   ]
  },
  {
   "cell_type": "code",
   "execution_count": 6,
   "metadata": {
    "collapsed": true
   },
   "outputs": [],
   "source": [
    "def merge_2nd_level(df_in):\n",
    "    '''Merge all columns in dataframe that share the same 2nd level category'''\n",
    "    df = df_in\n",
    "    def get_ints(st):\n",
    "        i = int(st[1:3])\n",
    "        j = int(st[3:5])\n",
    "        k = int(st[5:7])\n",
    "        return i, j, k\n",
    "    def create_str(i, j, k):\n",
    "        ret = \"t\"\n",
    "        ret += str(i).rjust(2)\n",
    "        ret += str(j).rjust(2)\n",
    "        if k != 0:\n",
    "            ret += str(k).rjust(2)\n",
    "        ret = ret.replace(\" \", \"0\")\n",
    "        return ret\n",
    "    col_save = df.columns\n",
    "    gen = (col for col in col_save if col[1:].isdigit())\n",
    "    for col in gen:\n",
    "        i, j, k = get_ints(col)\n",
    "        str_2nd = create_str(i, j, 0)\n",
    "        if str_2nd in df.columns:\n",
    "            df[str_2nd] += df[col]\n",
    "        else:\n",
    "            df[str_2nd] = df[col]\n",
    "        df.drop(col, 1, inplace=True)\n",
    "    return df"
   ]
  },
  {
   "cell_type": "code",
   "execution_count": 116,
   "metadata": {
    "collapsed": false
   },
   "outputs": [],
   "source": [
    "s2 = merge_2nd_level(summary)"
   ]
  },
  {
   "cell_type": "code",
   "execution_count": 117,
   "metadata": {
    "collapsed": false
   },
   "outputs": [
    {
     "data": {
      "text/html": [
       "<div style=\"max-height:1000px;max-width:1500px;overflow:auto;\">\n",
       "<table border=\"1\" class=\"dataframe\">\n",
       "  <thead>\n",
       "    <tr style=\"text-align: right;\">\n",
       "      <th></th>\n",
       "      <th>tucaseid</th>\n",
       "      <th>TUFINLWGT</th>\n",
       "      <th>TRYHHCHILD</th>\n",
       "      <th>TEAGE</th>\n",
       "      <th>TESEX</th>\n",
       "      <th>PEEDUCA</th>\n",
       "      <th>PTDTRACE</th>\n",
       "      <th>PEHSPNON</th>\n",
       "      <th>GTMETSTA</th>\n",
       "      <th>TELFS</th>\n",
       "      <th>...</th>\n",
       "      <th>t1810</th>\n",
       "      <th>t1811</th>\n",
       "      <th>t1812</th>\n",
       "      <th>t1813</th>\n",
       "      <th>t1814</th>\n",
       "      <th>t1815</th>\n",
       "      <th>t1816</th>\n",
       "      <th>t1818</th>\n",
       "      <th>t1899</th>\n",
       "      <th>t5001</th>\n",
       "    </tr>\n",
       "  </thead>\n",
       "  <tbody>\n",
       "    <tr>\n",
       "      <th>0</th>\n",
       "      <td>20130101130004</td>\n",
       "      <td>11899905.662034</td>\n",
       "      <td>12</td>\n",
       "      <td>22</td>\n",
       "      <td>2</td>\n",
       "      <td>40</td>\n",
       "      <td>8</td>\n",
       "      <td>2</td>\n",
       "      <td>1</td>\n",
       "      <td>5</td>\n",
       "      <td>...</td>\n",
       "      <td>0</td>\n",
       "      <td>0</td>\n",
       "      <td>0</td>\n",
       "      <td>0</td>\n",
       "      <td>0</td>\n",
       "      <td>0</td>\n",
       "      <td>0</td>\n",
       "      <td>0</td>\n",
       "      <td>0</td>\n",
       "      <td>0</td>\n",
       "    </tr>\n",
       "    <tr>\n",
       "      <th>1</th>\n",
       "      <td>20130101130112</td>\n",
       "      <td>4447638.009513</td>\n",
       "      <td>1</td>\n",
       "      <td>39</td>\n",
       "      <td>1</td>\n",
       "      <td>43</td>\n",
       "      <td>1</td>\n",
       "      <td>2</td>\n",
       "      <td>1</td>\n",
       "      <td>1</td>\n",
       "      <td>...</td>\n",
       "      <td>0</td>\n",
       "      <td>0</td>\n",
       "      <td>0</td>\n",
       "      <td>0</td>\n",
       "      <td>0</td>\n",
       "      <td>0</td>\n",
       "      <td>0</td>\n",
       "      <td>0</td>\n",
       "      <td>0</td>\n",
       "      <td>0</td>\n",
       "    </tr>\n",
       "    <tr>\n",
       "      <th>2</th>\n",
       "      <td>20130101130123</td>\n",
       "      <td>10377056.507734</td>\n",
       "      <td>-1</td>\n",
       "      <td>47</td>\n",
       "      <td>2</td>\n",
       "      <td>40</td>\n",
       "      <td>1</td>\n",
       "      <td>2</td>\n",
       "      <td>1</td>\n",
       "      <td>4</td>\n",
       "      <td>...</td>\n",
       "      <td>0</td>\n",
       "      <td>0</td>\n",
       "      <td>0</td>\n",
       "      <td>0</td>\n",
       "      <td>0</td>\n",
       "      <td>25</td>\n",
       "      <td>0</td>\n",
       "      <td>0</td>\n",
       "      <td>0</td>\n",
       "      <td>0</td>\n",
       "    </tr>\n",
       "    <tr>\n",
       "      <th>3</th>\n",
       "      <td>20130101130611</td>\n",
       "      <td>7731257.992805</td>\n",
       "      <td>-1</td>\n",
       "      <td>50</td>\n",
       "      <td>2</td>\n",
       "      <td>40</td>\n",
       "      <td>1</td>\n",
       "      <td>1</td>\n",
       "      <td>1</td>\n",
       "      <td>1</td>\n",
       "      <td>...</td>\n",
       "      <td>0</td>\n",
       "      <td>0</td>\n",
       "      <td>30</td>\n",
       "      <td>0</td>\n",
       "      <td>0</td>\n",
       "      <td>0</td>\n",
       "      <td>0</td>\n",
       "      <td>0</td>\n",
       "      <td>0</td>\n",
       "      <td>0</td>\n",
       "    </tr>\n",
       "    <tr>\n",
       "      <th>4</th>\n",
       "      <td>20130101130616</td>\n",
       "      <td>4725269.227067</td>\n",
       "      <td>-1</td>\n",
       "      <td>45</td>\n",
       "      <td>2</td>\n",
       "      <td>40</td>\n",
       "      <td>2</td>\n",
       "      <td>2</td>\n",
       "      <td>1</td>\n",
       "      <td>1</td>\n",
       "      <td>...</td>\n",
       "      <td>0</td>\n",
       "      <td>0</td>\n",
       "      <td>0</td>\n",
       "      <td>0</td>\n",
       "      <td>0</td>\n",
       "      <td>0</td>\n",
       "      <td>0</td>\n",
       "      <td>0</td>\n",
       "      <td>0</td>\n",
       "      <td>0</td>\n",
       "    </tr>\n",
       "  </tbody>\n",
       "</table>\n",
       "<p>5 rows × 125 columns</p>\n",
       "</div>"
      ],
      "text/plain": [
       "         tucaseid        TUFINLWGT  TRYHHCHILD  TEAGE  TESEX  PEEDUCA  \\\n",
       "0  20130101130004  11899905.662034          12     22      2       40   \n",
       "1  20130101130112   4447638.009513           1     39      1       43   \n",
       "2  20130101130123  10377056.507734          -1     47      2       40   \n",
       "3  20130101130611   7731257.992805          -1     50      2       40   \n",
       "4  20130101130616   4725269.227067          -1     45      2       40   \n",
       "\n",
       "   PTDTRACE  PEHSPNON  GTMETSTA  TELFS  ...    t1810  t1811  t1812  t1813  \\\n",
       "0         8         2         1      5  ...        0      0      0      0   \n",
       "1         1         2         1      1  ...        0      0      0      0   \n",
       "2         1         2         1      4  ...        0      0      0      0   \n",
       "3         1         1         1      1  ...        0      0     30      0   \n",
       "4         2         2         1      1  ...        0      0      0      0   \n",
       "\n",
       "   t1814  t1815  t1816  t1818  t1899  t5001  \n",
       "0      0      0      0      0      0      0  \n",
       "1      0      0      0      0      0      0  \n",
       "2      0     25      0      0      0      0  \n",
       "3      0      0      0      0      0      0  \n",
       "4      0      0      0      0      0      0  \n",
       "\n",
       "[5 rows x 125 columns]"
      ]
     },
     "execution_count": 117,
     "metadata": {},
     "output_type": "execute_result"
    }
   ],
   "source": [
    "s2.head()"
   ]
  },
  {
   "cell_type": "code",
   "execution_count": 124,
   "metadata": {
    "collapsed": false
   },
   "outputs": [
    {
     "data": {
      "text/plain": [
       "Index(['TESPEMPNOT', 'TRERNWA', 'TRCHILDNUM', 'TRSPFTPT', 'TEHRUSLT',\n",
       "       'TUDIARYDAY', 'TRHOLIDAY', 'TRTEC', 'TRTHH', 't0101', \n",
       "       ...\n",
       "       't1810', 't1811', 't1812', 't1813', 't1814', 't1815', 't1816', 't1818',\n",
       "       't1899', 't5001'],\n",
       "      dtype='object', length=110)"
      ]
     },
     "execution_count": 124,
     "metadata": {},
     "output_type": "execute_result"
    }
   ],
   "source": [
    "s2.columns[-110:]"
   ]
  },
  {
   "cell_type": "code",
   "execution_count": null,
   "metadata": {
    "collapsed": true
   },
   "outputs": [],
   "source": []
  },
  {
   "cell_type": "code",
   "execution_count": null,
   "metadata": {
    "collapsed": true
   },
   "outputs": [],
   "source": []
  },
  {
   "cell_type": "code",
   "execution_count": 126,
   "metadata": {
    "collapsed": false
   },
   "outputs": [
    {
     "data": {
      "text/plain": [
       "['t0201',\n",
       " 't0202',\n",
       " 't0203',\n",
       " 't0204',\n",
       " 't0205',\n",
       " 't0206',\n",
       " 't0207',\n",
       " 't0208',\n",
       " 't0209',\n",
       " 't0299']"
      ]
     },
     "execution_count": 126,
     "metadata": {},
     "output_type": "execute_result"
    }
   ],
   "source": [
    "atus_tools.activity_columns(s2, \"02\")"
   ]
  },
  {
   "cell_type": "code",
   "execution_count": null,
   "metadata": {
    "collapsed": true
   },
   "outputs": [],
   "source": []
  },
  {
   "cell_type": "code",
   "execution_count": 129,
   "metadata": {
    "collapsed": true
   },
   "outputs": [],
   "source": [
    "men   = summary[s2.TESEX == 1] # men / women\n",
    "women = summary[s2.TESEX == 2]"
   ]
  },
  {
   "cell_type": "code",
   "execution_count": 130,
   "metadata": {
    "collapsed": false
   },
   "outputs": [],
   "source": [
    "women_hours = women[atus_tools.activity_columns(s2, \"02\")].mean() / 60 * 7\n",
    "men_hours   = men[atus_tools.activity_columns(s2, \"02\")].mean() / 60 * 7\n",
    "print_cols  = atus_tools.cat_descriptions(s2, \"02\")\n",
    "for i in range(len(print_cols)):\n",
    "    print_cols[i] = print_cols[i][:20]\n",
    "women_hours.index = print_cols\n",
    "men_hours.index   = print_cols"
   ]
  },
  {
   "cell_type": "code",
   "execution_count": null,
   "metadata": {
    "collapsed": true
   },
   "outputs": [],
   "source": []
  },
  {
   "cell_type": "code",
   "execution_count": 131,
   "metadata": {
    "collapsed": false
   },
   "outputs": [],
   "source": [
    "mixed = pd.DataFrame(columns=print_cols)\n",
    "mixed.loc[0] = men_hours\n",
    "mixed.loc[1] = women_hours\n",
    "mixed.index = [\"men\", \"women\"]"
   ]
  },
  {
   "cell_type": "code",
   "execution_count": 132,
   "metadata": {
    "collapsed": false
   },
   "outputs": [
    {
     "data": {
      "text/html": [
       "<div style=\"max-height:1000px;max-width:1500px;overflow:auto;\">\n",
       "<table border=\"1\" class=\"dataframe\">\n",
       "  <thead>\n",
       "    <tr style=\"text-align: right;\">\n",
       "      <th></th>\n",
       "      <th>Housework</th>\n",
       "      <th>Food &amp; Drink Prep.,</th>\n",
       "      <th>Interior Maintenance</th>\n",
       "      <th>Exterior Maintenance</th>\n",
       "      <th>Lawn, Garden, and Ho</th>\n",
       "      <th>Animals and Pets</th>\n",
       "      <th>Vehicles</th>\n",
       "      <th>Appliances, Tools, a</th>\n",
       "      <th>Household Management</th>\n",
       "      <th>Household Activities</th>\n",
       "    </tr>\n",
       "  </thead>\n",
       "  <tbody>\n",
       "    <tr>\n",
       "      <th>men</th>\n",
       "      <td>2.261065</td>\n",
       "      <td>2.622039</td>\n",
       "      <td>0.579982</td>\n",
       "      <td>0.648783</td>\n",
       "      <td>1.916873</td>\n",
       "      <td>0.641873</td>\n",
       "      <td>0.604339</td>\n",
       "      <td>0.244927</td>\n",
       "      <td>1.059045</td>\n",
       "      <td>0.010216</td>\n",
       "    </tr>\n",
       "    <tr>\n",
       "      <th>women</th>\n",
       "      <td>6.528410</td>\n",
       "      <td>5.716685</td>\n",
       "      <td>0.312851</td>\n",
       "      <td>0.197721</td>\n",
       "      <td>0.919470</td>\n",
       "      <td>0.764710</td>\n",
       "      <td>0.050883</td>\n",
       "      <td>0.046644</td>\n",
       "      <td>1.551372</td>\n",
       "      <td>0.003702</td>\n",
       "    </tr>\n",
       "  </tbody>\n",
       "</table>\n",
       "</div>"
      ],
      "text/plain": [
       "       Housework  Food & Drink Prep.,   Interior Maintenance  \\\n",
       "men     2.261065              2.622039              0.579982   \n",
       "women   6.528410              5.716685              0.312851   \n",
       "\n",
       "       Exterior Maintenance  Lawn, Garden, and Ho  Animals and Pets  Vehicles  \\\n",
       "men                0.648783              1.916873          0.641873  0.604339   \n",
       "women              0.197721              0.919470          0.764710  0.050883   \n",
       "\n",
       "       Appliances, Tools, a  Household Management  Household Activities  \n",
       "men                0.244927              1.059045              0.010216  \n",
       "women              0.046644              1.551372              0.003702  "
      ]
     },
     "execution_count": 132,
     "metadata": {},
     "output_type": "execute_result"
    }
   ],
   "source": [
    "mixed"
   ]
  },
  {
   "cell_type": "code",
   "execution_count": 143,
   "metadata": {
    "collapsed": false
   },
   "outputs": [
    {
     "data": {
      "image/png": "[encoded data removed]",
      "text/plain": [
       "<matplotlib.figure.Figure at 0x11695db38>"
      ]
     },
     "metadata": {},
     "output_type": "display_data"
    }
   ],
   "source": [
    "mixed.plot(kind=\"bar\", stacked=True)\n",
    "plt.legend(loc=9, bbox_to_anchor=(0.5, -0.2))\n",
    "plt.ylabel(\"Hours per week\")\n",
    "plt.show()"
   ]
  },
  {
   "cell_type": "markdown",
   "metadata": {},
   "source": [
    "By grouping the housework activities into the 2nd tier categories, we can get a better picture of how the gender difference in contributions breaks down. We see that women perform a vastly larger share of household work overall. The work that women do is also much more homogenous by the BLS categories - with food and housework making up the vast majority. Men, on the other hand, only contribute to food and housework sparingly while engaging in much more lawn work, exterior work, interior maintenance, animal care, and several others."
   ]
  },
  {
   "cell_type": "code",
   "execution_count": null,
   "metadata": {
    "collapsed": true
   },
   "outputs": [],
   "source": []
  },
  {
   "cell_type": "code",
   "execution_count": 2,
   "metadata": {
    "collapsed": true
   },
   "outputs": [],
   "source": [
    "summary = pd.read_csv(\"../atusdata/atussum_2013/atussum_2013.dat\")       # Start over for new analysis"
   ]
  },
  {
   "cell_type": "code",
   "execution_count": 3,
   "metadata": {
    "collapsed": false
   },
   "outputs": [],
   "source": [
    "child = []\n",
    "for i in range(5):\n",
    "    new_df = summary[summary.TRCHILDNUM == i]  # pick out rows that have \"i\" number of children\n",
    "    new_df = new_df[atus_tools.activity_columns(summary, \"02\")].mean() / 60 * 7 # cut down included columns, do math\n",
    "    child.append(new_df)"
   ]
  },
  {
   "cell_type": "code",
   "execution_count": 4,
   "metadata": {
    "collapsed": false
   },
   "outputs": [],
   "source": [
    "#child_list = pd.DataFrame(columns=print_cols)\n",
    "use_cols = atus_tools.activity_columns(summary, \"02\")\n",
    "child_list = pd.DataFrame(columns=use_cols)\n",
    "for i in range(5):\n",
    "    child_list.loc[i] = child[i]\n",
    "child_list.index = [str(i)+\" children\" for i in range(5)]"
   ]
  },
  {
   "cell_type": "code",
   "execution_count": 7,
   "metadata": {
    "collapsed": false
   },
   "outputs": [],
   "source": [
    "child_list = atus_tools.merge_2nd_level(child_list)"
   ]
  },
  {
   "cell_type": "code",
   "execution_count": 8,
   "metadata": {
    "collapsed": true
   },
   "outputs": [],
   "source": [
    "print_cols  = atus_tools.cat_descriptions(child_list, \"02\")\n",
    "for i in range(len(print_cols)):\n",
    "    print_cols[i] = print_cols[i][:20]"
   ]
  },
  {
   "cell_type": "code",
   "execution_count": 9,
   "metadata": {
    "collapsed": false
   },
   "outputs": [
    {
     "data": {
      "text/plain": [
       "['Housework',\n",
       " 'Food & Drink Prep., ',\n",
       " 'Interior Maintenance',\n",
       " 'Exterior Maintenance',\n",
       " 'Lawn, Garden, and Ho',\n",
       " 'Animals and Pets',\n",
       " 'Vehicles',\n",
       " 'Appliances, Tools, a',\n",
       " 'Household Management',\n",
       " 'Household Activities']"
      ]
     },
     "execution_count": 9,
     "metadata": {},
     "output_type": "execute_result"
    }
   ],
   "source": [
    "print_cols"
   ]
  },
  {
   "cell_type": "code",
   "execution_count": 10,
   "metadata": {
    "collapsed": false
   },
   "outputs": [],
   "source": [
    "child_list.columns = print_cols"
   ]
  },
  {
   "cell_type": "code",
   "execution_count": 11,
   "metadata": {
    "collapsed": false
   },
   "outputs": [
    {
     "data": {
      "text/html": [
       "<div style=\"max-height:1000px;max-width:1500px;overflow:auto;\">\n",
       "<table border=\"1\" class=\"dataframe\">\n",
       "  <thead>\n",
       "    <tr style=\"text-align: right;\">\n",
       "      <th></th>\n",
       "      <th>Housework</th>\n",
       "      <th>Food &amp; Drink Prep.,</th>\n",
       "      <th>Interior Maintenance</th>\n",
       "      <th>Exterior Maintenance</th>\n",
       "      <th>Lawn, Garden, and Ho</th>\n",
       "      <th>Animals and Pets</th>\n",
       "      <th>Vehicles</th>\n",
       "      <th>Appliances, Tools, a</th>\n",
       "      <th>Household Management</th>\n",
       "      <th>Household Activities</th>\n",
       "    </tr>\n",
       "  </thead>\n",
       "  <tbody>\n",
       "    <tr>\n",
       "      <th>0 children</th>\n",
       "      <td>4.308494</td>\n",
       "      <td>3.919575</td>\n",
       "      <td>0.475307</td>\n",
       "      <td>0.446361</td>\n",
       "      <td>1.668418</td>\n",
       "      <td>0.906457</td>\n",
       "      <td>0.335653</td>\n",
       "      <td>0.149897</td>\n",
       "      <td>1.573299</td>\n",
       "      <td>0.000090</td>\n",
       "    </tr>\n",
       "    <tr>\n",
       "      <th>1 children</th>\n",
       "      <td>4.636852</td>\n",
       "      <td>4.304098</td>\n",
       "      <td>0.213776</td>\n",
       "      <td>0.267713</td>\n",
       "      <td>1.014436</td>\n",
       "      <td>0.537343</td>\n",
       "      <td>0.276111</td>\n",
       "      <td>0.113849</td>\n",
       "      <td>0.879734</td>\n",
       "      <td>0.030998</td>\n",
       "    </tr>\n",
       "    <tr>\n",
       "      <th>2 children</th>\n",
       "      <td>4.904581</td>\n",
       "      <td>5.079362</td>\n",
       "      <td>0.452609</td>\n",
       "      <td>0.399516</td>\n",
       "      <td>0.908167</td>\n",
       "      <td>0.459575</td>\n",
       "      <td>0.205908</td>\n",
       "      <td>0.134427</td>\n",
       "      <td>1.133531</td>\n",
       "      <td>0.005648</td>\n",
       "    </tr>\n",
       "    <tr>\n",
       "      <th>3 children</th>\n",
       "      <td>5.989687</td>\n",
       "      <td>5.437830</td>\n",
       "      <td>0.609848</td>\n",
       "      <td>0.313221</td>\n",
       "      <td>1.144599</td>\n",
       "      <td>0.275758</td>\n",
       "      <td>0.276784</td>\n",
       "      <td>0.092033</td>\n",
       "      <td>1.110728</td>\n",
       "      <td>0.000000</td>\n",
       "    </tr>\n",
       "    <tr>\n",
       "      <th>4 children</th>\n",
       "      <td>6.904074</td>\n",
       "      <td>5.808963</td>\n",
       "      <td>0.555852</td>\n",
       "      <td>0.497778</td>\n",
       "      <td>0.596296</td>\n",
       "      <td>0.210000</td>\n",
       "      <td>0.305926</td>\n",
       "      <td>0.068444</td>\n",
       "      <td>0.942148</td>\n",
       "      <td>0.000000</td>\n",
       "    </tr>\n",
       "  </tbody>\n",
       "</table>\n",
       "</div>"
      ],
      "text/plain": [
       "            Housework  Food & Drink Prep.,   Interior Maintenance  \\\n",
       "0 children   4.308494              3.919575              0.475307   \n",
       "1 children   4.636852              4.304098              0.213776   \n",
       "2 children   4.904581              5.079362              0.452609   \n",
       "3 children   5.989687              5.437830              0.609848   \n",
       "4 children   6.904074              5.808963              0.555852   \n",
       "\n",
       "            Exterior Maintenance  Lawn, Garden, and Ho  Animals and Pets  \\\n",
       "0 children              0.446361              1.668418          0.906457   \n",
       "1 children              0.267713              1.014436          0.537343   \n",
       "2 children              0.399516              0.908167          0.459575   \n",
       "3 children              0.313221              1.144599          0.275758   \n",
       "4 children              0.497778              0.596296          0.210000   \n",
       "\n",
       "            Vehicles  Appliances, Tools, a  Household Management  \\\n",
       "0 children  0.335653              0.149897              1.573299   \n",
       "1 children  0.276111              0.113849              0.879734   \n",
       "2 children  0.205908              0.134427              1.133531   \n",
       "3 children  0.276784              0.092033              1.110728   \n",
       "4 children  0.305926              0.068444              0.942148   \n",
       "\n",
       "            Household Activities  \n",
       "0 children              0.000090  \n",
       "1 children              0.030998  \n",
       "2 children              0.005648  \n",
       "3 children              0.000000  \n",
       "4 children              0.000000  "
      ]
     },
     "execution_count": 11,
     "metadata": {},
     "output_type": "execute_result"
    }
   ],
   "source": [
    "child_list.head()"
   ]
  },
  {
   "cell_type": "code",
   "execution_count": null,
   "metadata": {
    "collapsed": true
   },
   "outputs": [],
   "source": []
  },
  {
   "cell_type": "code",
   "execution_count": 12,
   "metadata": {
    "collapsed": false
   },
   "outputs": [
    {
     "data": {
      "image/png": "[encoded data removed]",
      "text/plain": [
       "<matplotlib.figure.Figure at 0x105234710>"
      ]
     },
     "metadata": {},
     "output_type": "display_data"
    }
   ],
   "source": [
    "child_list.plot(kind=\"bar\", stacked=True)\n",
    "plt.legend(loc=9, bbox_to_anchor=(0.5, -0.3))\n",
    "plt.ylabel(\"Hours per week\")\n",
    "plt.show()"
   ]
  },
  {
   "cell_type": "markdown",
   "metadata": {},
   "source": [
    "What drives the amount of time spend on housework? Could it be the kids? Common sense might suggest \"yes\". Driving into the data, however, it seems that having no children correlates with doing more housework than having just 1 child. This seems like a strange result, but if we consider that child care is classified in its own category, perhaps it is not highly surprising. Unsurprisingly, the amount of housework increases with a larger family."
   ]
  },
  {
   "cell_type": "markdown",
   "metadata": {},
   "source": [
    "The nature of the work done also shows a pronounced trend. Childless people spend a strangely large amount of time on Lawn care. More children seems to correlate with more housework and food prep, which seem to be singled out in this analysis as the bread and butter of keeping a home together."
   ]
  },
  {
   "cell_type": "code",
   "execution_count": null,
   "metadata": {
    "collapsed": true
   },
   "outputs": [],
   "source": []
  },
  {
   "cell_type": "code",
   "execution_count": null,
   "metadata": {
    "collapsed": true
   },
   "outputs": [],
   "source": []
  },
  {
   "cell_type": "code",
   "execution_count": null,
   "metadata": {
    "collapsed": true
   },
   "outputs": [],
   "source": []
  }
 ],
 "metadata": {
  "kernelspec": {
   "display_name": "Python 3",
   "language": "python",
   "name": "python3"
  },
  "language_info": {
   "codemirror_mode": {
    "name": "ipython",
    "version": 3
   },
   "file_extension": ".py",
   "mimetype": "text/x-python",
   "name": "python",
   "nbconvert_exporter": "python",
   "pygments_lexer": "ipython3",
   "version": "3.4.3"
  }
 },
 "nbformat": 4,
 "nbformat_minor": 0
}
