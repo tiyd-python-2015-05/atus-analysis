{
 "cells": [
  {
   "cell_type": "code",
   "execution_count": 1,
   "metadata": {
    "collapsed": false
   },
   "outputs": [],
   "source": [
    "import pandas as pd\n",
    "import re"
   ]
  },
  {
   "cell_type": "code",
   "execution_count": 2,
   "metadata": {
    "collapsed": false
   },
   "outputs": [],
   "source": [
    "import matplotlib.pyplot as plt"
   ]
  },
  {
   "cell_type": "code",
   "execution_count": 3,
   "metadata": {
    "collapsed": false
   },
   "outputs": [],
   "source": [
    "%matplotlib inline"
   ]
  },
  {
   "cell_type": "code",
   "execution_count": 4,
   "metadata": {
    "collapsed": false
   },
   "outputs": [
    {
     "name": "stdout",
     "output_type": "stream",
     "text": [
      "<class 'pandas.core.frame.DataFrame'>\n",
      "Int64Index: 11385 entries, 0 to 11384\n",
      "Columns: 413 entries, tucaseid to t500107\n",
      "dtypes: float64(1), int64(412)\n",
      "memory usage: 36.0 MB\n"
     ]
    }
   ],
   "source": [
    "summary = pd.read_csv(\"atusdata/atussum_2013/atussum_2013.dat\")\n",
    "summary.info()"
   ]
  },
  {
   "cell_type": "code",
   "execution_count": 5,
   "metadata": {
    "collapsed": false
   },
   "outputs": [
    {
     "data": {
      "text/plain": [
       "Index(['tucaseid', 'TUFINLWGT', 'TRYHHCHILD', 'TEAGE', 'TESEX', 'PEEDUCA',\n",
       "       'PTDTRACE', 'PEHSPNON', 'GTMETSTA', 'TELFS', \n",
       "       ...\n",
       "       't181501', 't181599', 't181601', 't181801', 't189999', 't500101',\n",
       "       't500103', 't500105', 't500106', 't500107'],\n",
       "      dtype='object', length=413)"
      ]
     },
     "execution_count": 5,
     "metadata": {},
     "output_type": "execute_result"
    }
   ],
   "source": [
    "summary.columns"
   ]
  },
  {
   "cell_type": "markdown",
   "metadata": {},
   "source": [
    "Pertinent columns:\n",
    "\n",
    "* TUFINLWGT - statistical weight of respondent\n",
    "* TRYHHCHILD - age of youngest child in household\n",
    "* TEAGE - age of respondent\n",
    "* TESEX - sex of respondent\n",
    "* TELFS - working status of respondent\n",
    "* TRCHILDNUM - number of children in household"
   ]
  },
  {
   "cell_type": "code",
   "execution_count": 6,
   "metadata": {
    "collapsed": false
   },
   "outputs": [
    {
     "data": {
      "text/html": [
       "<div style=\"max-height:1000px;max-width:1500px;overflow:auto;\">\n",
       "<table border=\"1\" class=\"dataframe\">\n",
       "  <thead>\n",
       "    <tr style=\"text-align: right;\">\n",
       "      <th></th>\n",
       "      <th>tucaseid</th>\n",
       "      <th>TUFINLWGT</th>\n",
       "      <th>TRYHHCHILD</th>\n",
       "      <th>TEAGE</th>\n",
       "      <th>TESEX</th>\n",
       "      <th>PEEDUCA</th>\n",
       "      <th>PTDTRACE</th>\n",
       "      <th>PEHSPNON</th>\n",
       "      <th>GTMETSTA</th>\n",
       "      <th>TELFS</th>\n",
       "      <th>...</th>\n",
       "      <th>t181501</th>\n",
       "      <th>t181599</th>\n",
       "      <th>t181601</th>\n",
       "      <th>t181801</th>\n",
       "      <th>t189999</th>\n",
       "      <th>t500101</th>\n",
       "      <th>t500103</th>\n",
       "      <th>t500105</th>\n",
       "      <th>t500106</th>\n",
       "      <th>t500107</th>\n",
       "    </tr>\n",
       "  </thead>\n",
       "  <tbody>\n",
       "    <tr>\n",
       "      <th>0</th>\n",
       "      <td>20130101130004</td>\n",
       "      <td>11899905.662034</td>\n",
       "      <td>12</td>\n",
       "      <td>22</td>\n",
       "      <td>2</td>\n",
       "      <td>40</td>\n",
       "      <td>8</td>\n",
       "      <td>2</td>\n",
       "      <td>1</td>\n",
       "      <td>5</td>\n",
       "      <td>...</td>\n",
       "      <td>0</td>\n",
       "      <td>0</td>\n",
       "      <td>0</td>\n",
       "      <td>0</td>\n",
       "      <td>0</td>\n",
       "      <td>0</td>\n",
       "      <td>0</td>\n",
       "      <td>0</td>\n",
       "      <td>0</td>\n",
       "      <td>0</td>\n",
       "    </tr>\n",
       "    <tr>\n",
       "      <th>1</th>\n",
       "      <td>20130101130112</td>\n",
       "      <td>4447638.009513</td>\n",
       "      <td>1</td>\n",
       "      <td>39</td>\n",
       "      <td>1</td>\n",
       "      <td>43</td>\n",
       "      <td>1</td>\n",
       "      <td>2</td>\n",
       "      <td>1</td>\n",
       "      <td>1</td>\n",
       "      <td>...</td>\n",
       "      <td>0</td>\n",
       "      <td>0</td>\n",
       "      <td>0</td>\n",
       "      <td>0</td>\n",
       "      <td>0</td>\n",
       "      <td>0</td>\n",
       "      <td>0</td>\n",
       "      <td>0</td>\n",
       "      <td>0</td>\n",
       "      <td>0</td>\n",
       "    </tr>\n",
       "    <tr>\n",
       "      <th>2</th>\n",
       "      <td>20130101130123</td>\n",
       "      <td>10377056.507734</td>\n",
       "      <td>-1</td>\n",
       "      <td>47</td>\n",
       "      <td>2</td>\n",
       "      <td>40</td>\n",
       "      <td>1</td>\n",
       "      <td>2</td>\n",
       "      <td>1</td>\n",
       "      <td>4</td>\n",
       "      <td>...</td>\n",
       "      <td>25</td>\n",
       "      <td>0</td>\n",
       "      <td>0</td>\n",
       "      <td>0</td>\n",
       "      <td>0</td>\n",
       "      <td>0</td>\n",
       "      <td>0</td>\n",
       "      <td>0</td>\n",
       "      <td>0</td>\n",
       "      <td>0</td>\n",
       "    </tr>\n",
       "    <tr>\n",
       "      <th>3</th>\n",
       "      <td>20130101130611</td>\n",
       "      <td>7731257.992805</td>\n",
       "      <td>-1</td>\n",
       "      <td>50</td>\n",
       "      <td>2</td>\n",
       "      <td>40</td>\n",
       "      <td>1</td>\n",
       "      <td>1</td>\n",
       "      <td>1</td>\n",
       "      <td>1</td>\n",
       "      <td>...</td>\n",
       "      <td>0</td>\n",
       "      <td>0</td>\n",
       "      <td>0</td>\n",
       "      <td>0</td>\n",
       "      <td>0</td>\n",
       "      <td>0</td>\n",
       "      <td>0</td>\n",
       "      <td>0</td>\n",
       "      <td>0</td>\n",
       "      <td>0</td>\n",
       "    </tr>\n",
       "    <tr>\n",
       "      <th>4</th>\n",
       "      <td>20130101130616</td>\n",
       "      <td>4725269.227067</td>\n",
       "      <td>-1</td>\n",
       "      <td>45</td>\n",
       "      <td>2</td>\n",
       "      <td>40</td>\n",
       "      <td>2</td>\n",
       "      <td>2</td>\n",
       "      <td>1</td>\n",
       "      <td>1</td>\n",
       "      <td>...</td>\n",
       "      <td>0</td>\n",
       "      <td>0</td>\n",
       "      <td>0</td>\n",
       "      <td>0</td>\n",
       "      <td>0</td>\n",
       "      <td>0</td>\n",
       "      <td>0</td>\n",
       "      <td>0</td>\n",
       "      <td>0</td>\n",
       "      <td>0</td>\n",
       "    </tr>\n",
       "  </tbody>\n",
       "</table>\n",
       "<p>5 rows × 413 columns</p>\n",
       "</div>"
      ],
      "text/plain": [
       "         tucaseid        TUFINLWGT  TRYHHCHILD  TEAGE  TESEX  PEEDUCA  \\\n",
       "0  20130101130004  11899905.662034          12     22      2       40   \n",
       "1  20130101130112   4447638.009513           1     39      1       43   \n",
       "2  20130101130123  10377056.507734          -1     47      2       40   \n",
       "3  20130101130611   7731257.992805          -1     50      2       40   \n",
       "4  20130101130616   4725269.227067          -1     45      2       40   \n",
       "\n",
       "   PTDTRACE  PEHSPNON  GTMETSTA  TELFS   ...     t181501  t181599  t181601  \\\n",
       "0         8         2         1      5   ...           0        0        0   \n",
       "1         1         2         1      1   ...           0        0        0   \n",
       "2         1         2         1      4   ...          25        0        0   \n",
       "3         1         1         1      1   ...           0        0        0   \n",
       "4         2         2         1      1   ...           0        0        0   \n",
       "\n",
       "   t181801  t189999  t500101  t500103  t500105  t500106  t500107  \n",
       "0        0        0        0        0        0        0        0  \n",
       "1        0        0        0        0        0        0        0  \n",
       "2        0        0        0        0        0        0        0  \n",
       "3        0        0        0        0        0        0        0  \n",
       "4        0        0        0        0        0        0        0  \n",
       "\n",
       "[5 rows x 413 columns]"
      ]
     },
     "execution_count": 6,
     "metadata": {},
     "output_type": "execute_result"
    }
   ],
   "source": [
    "summary.head()"
   ]
  },
  {
   "cell_type": "code",
   "execution_count": 7,
   "metadata": {
    "collapsed": false
   },
   "outputs": [],
   "source": [
    "adults_crit = summary.TEAGE >= 18\n",
    "no_children_crit = summary.TRCHILDNUM == 0"
   ]
  },
  {
   "cell_type": "code",
   "execution_count": 8,
   "metadata": {
    "collapsed": false
   },
   "outputs": [
    {
     "name": "stdout",
     "output_type": "stream",
     "text": [
      "<class 'pandas.core.frame.DataFrame'>\n",
      "Int64Index: 10953 entries, 0 to 11384\n",
      "Columns: 413 entries, tucaseid to t500107\n",
      "dtypes: float64(1), int64(412)\n",
      "memory usage: 34.6 MB\n"
     ]
    }
   ],
   "source": [
    "adults = summary[adults_crit]\n",
    "adults.info()"
   ]
  },
  {
   "cell_type": "code",
   "execution_count": 9,
   "metadata": {
    "collapsed": false
   },
   "outputs": [
    {
     "name": "stdout",
     "output_type": "stream",
     "text": [
      "<class 'pandas.core.frame.DataFrame'>\n",
      "Int64Index: 6481 entries, 2 to 11381\n",
      "Columns: 413 entries, tucaseid to t500107\n",
      "dtypes: float64(1), int64(412)\n",
      "memory usage: 20.5 MB\n"
     ]
    }
   ],
   "source": [
    "people_with_no_children = summary[no_children_crit]\n",
    "people_with_no_children.info()"
   ]
  },
  {
   "cell_type": "code",
   "execution_count": 10,
   "metadata": {
    "collapsed": false
   },
   "outputs": [
    {
     "name": "stdout",
     "output_type": "stream",
     "text": [
      "<class 'pandas.core.frame.DataFrame'>\n",
      "Int64Index: 6481 entries, 2 to 11381\n",
      "Columns: 413 entries, tucaseid to t500107\n",
      "dtypes: float64(1), int64(412)\n",
      "memory usage: 20.5 MB\n"
     ]
    }
   ],
   "source": [
    "adults_with_no_children = summary[adults_crit & no_children_crit]\n",
    "adults_with_no_children.info()"
   ]
  },
  {
   "cell_type": "code",
   "execution_count": 11,
   "metadata": {
    "collapsed": false
   },
   "outputs": [
    {
     "data": {
      "text/html": [
       "<div style=\"max-height:1000px;max-width:1500px;overflow:auto;\">\n",
       "<table border=\"1\" class=\"dataframe\">\n",
       "  <thead>\n",
       "    <tr style=\"text-align: right;\">\n",
       "      <th></th>\n",
       "      <th>weight</th>\n",
       "      <th>minutes</th>\n",
       "    </tr>\n",
       "  </thead>\n",
       "  <tbody>\n",
       "    <tr>\n",
       "      <th>2</th>\n",
       "      <td>10377056.507734</td>\n",
       "      <td>60</td>\n",
       "    </tr>\n",
       "    <tr>\n",
       "      <th>3</th>\n",
       "      <td>7731257.992805</td>\n",
       "      <td>65</td>\n",
       "    </tr>\n",
       "    <tr>\n",
       "      <th>4</th>\n",
       "      <td>4725269.227067</td>\n",
       "      <td>90</td>\n",
       "    </tr>\n",
       "    <tr>\n",
       "      <th>5</th>\n",
       "      <td>2372791.046351</td>\n",
       "      <td>270</td>\n",
       "    </tr>\n",
       "    <tr>\n",
       "      <th>6</th>\n",
       "      <td>5671341.270490</td>\n",
       "      <td>244</td>\n",
       "    </tr>\n",
       "  </tbody>\n",
       "</table>\n",
       "</div>"
      ],
      "text/plain": [
       "            weight  minutes\n",
       "2  10377056.507734       60\n",
       "3   7731257.992805       65\n",
       "4   4725269.227067       90\n",
       "5   2372791.046351      270\n",
       "6   5671341.270490      244"
      ]
     },
     "execution_count": 11,
     "metadata": {},
     "output_type": "execute_result"
    }
   ],
   "source": [
    "data = adults_with_no_children[['TUFINLWGT', 't120303']]\n",
    "data = data.rename(columns={\"TUFINLWGT\": \"weight\", \"t120303\": \"minutes\"})\n",
    "data.head()"
   ]
  },
  {
   "cell_type": "code",
   "execution_count": 12,
   "metadata": {
    "collapsed": false
   },
   "outputs": [],
   "source": [
    "data['weighted_minutes'] = data.weight * data.minutes"
   ]
  },
  {
   "cell_type": "code",
   "execution_count": 13,
   "metadata": {
    "collapsed": false
   },
   "outputs": [
    {
     "data": {
      "text/html": [
       "<div style=\"max-height:1000px;max-width:1500px;overflow:auto;\">\n",
       "<table border=\"1\" class=\"dataframe\">\n",
       "  <thead>\n",
       "    <tr style=\"text-align: right;\">\n",
       "      <th></th>\n",
       "      <th>weight</th>\n",
       "      <th>minutes</th>\n",
       "      <th>weighted_minutes</th>\n",
       "    </tr>\n",
       "  </thead>\n",
       "  <tbody>\n",
       "    <tr>\n",
       "      <th>2</th>\n",
       "      <td>10377056.507734</td>\n",
       "      <td>60</td>\n",
       "      <td>6.226234e+08</td>\n",
       "    </tr>\n",
       "    <tr>\n",
       "      <th>3</th>\n",
       "      <td>7731257.992805</td>\n",
       "      <td>65</td>\n",
       "      <td>5.025318e+08</td>\n",
       "    </tr>\n",
       "    <tr>\n",
       "      <th>4</th>\n",
       "      <td>4725269.227067</td>\n",
       "      <td>90</td>\n",
       "      <td>4.252742e+08</td>\n",
       "    </tr>\n",
       "    <tr>\n",
       "      <th>5</th>\n",
       "      <td>2372791.046351</td>\n",
       "      <td>270</td>\n",
       "      <td>6.406536e+08</td>\n",
       "    </tr>\n",
       "    <tr>\n",
       "      <th>6</th>\n",
       "      <td>5671341.270490</td>\n",
       "      <td>244</td>\n",
       "      <td>1.383807e+09</td>\n",
       "    </tr>\n",
       "  </tbody>\n",
       "</table>\n",
       "</div>"
      ],
      "text/plain": [
       "            weight  minutes  weighted_minutes\n",
       "2  10377056.507734       60      6.226234e+08\n",
       "3   7731257.992805       65      5.025318e+08\n",
       "4   4725269.227067       90      4.252742e+08\n",
       "5   2372791.046351      270      6.406536e+08\n",
       "6   5671341.270490      244      1.383807e+09"
      ]
     },
     "execution_count": 13,
     "metadata": {},
     "output_type": "execute_result"
    }
   ],
   "source": [
    "data.head()"
   ]
  },
  {
   "cell_type": "code",
   "execution_count": 14,
   "metadata": {
    "collapsed": false
   },
   "outputs": [
    {
     "data": {
      "text/plain": [
       "211.67427866070051"
      ]
     },
     "execution_count": 14,
     "metadata": {},
     "output_type": "execute_result"
    }
   ],
   "source": [
    "# Minutes on average spent watching TV (unweighted) - DO NOT USE\n",
    "data.minutes.sum() / len(data)"
   ]
  },
  {
   "cell_type": "code",
   "execution_count": 15,
   "metadata": {
    "collapsed": false
   },
   "outputs": [
    {
     "data": {
      "text/plain": [
       "190.25402840855642"
      ]
     },
     "execution_count": 15,
     "metadata": {},
     "output_type": "execute_result"
    }
   ],
   "source": [
    "# Minutes on average spent watching TV (weighted)\n",
    "data.weighted_minutes.sum() / data.weight.sum()"
   ]
  },
  {
   "cell_type": "code",
   "execution_count": 16,
   "metadata": {
    "collapsed": false
   },
   "outputs": [],
   "source": [
    "def activity_columns(data, activity_code):\n",
    "    \"\"\"For the activity code given, return all columns that fall under that activity.\"\"\"\n",
    "    col_prefix = \"t{}\".format(activity_code)\n",
    "    return [column for column in data.columns if re.match(col_prefix, column)]"
   ]
  },
  {
   "cell_type": "code",
   "execution_count": 17,
   "metadata": {
    "collapsed": false
   },
   "outputs": [
    {
     "data": {
      "text/plain": [
       "['t010101', 't010102']"
      ]
     },
     "execution_count": 17,
     "metadata": {},
     "output_type": "execute_result"
    }
   ],
   "source": [
    "activity_columns(summary, \"0101\")"
   ]
  },
  {
   "cell_type": "code",
   "execution_count": 18,
   "metadata": {
    "collapsed": false
   },
   "outputs": [],
   "source": [
    "def average_minutes(data, activity_code):\n",
    "    cols = activity_columns(data, activity_code)\n",
    "    activity_data = data[cols]\n",
    "    activity_sums = activity_data.sum(axis=1)\n",
    "    data = data.loc[:, ['TUFINLWGT']]\n",
    "    data['minutes'] = activity_sums\n",
    "    data = data.rename(columns={\"TUFINLWGT\": \"weight\"})\n",
    "    data['weighted_minutes'] = data.weight * data.minutes\n",
    "    return data.weighted_minutes.sum() / data.weight.sum()"
   ]
  },
  {
   "cell_type": "code",
   "execution_count": 19,
   "metadata": {
    "collapsed": false
   },
   "outputs": [
    {
     "data": {
      "text/plain": [
       "8.750853706181001"
      ]
     },
     "execution_count": 19,
     "metadata": {},
     "output_type": "execute_result"
    }
   ],
   "source": [
    "average_minutes(adults_with_no_children, \"0101\") / 60"
   ]
  },
  {
   "cell_type": "code",
   "execution_count": 20,
   "metadata": {
    "collapsed": false
   },
   "outputs": [
    {
     "data": {
      "text/plain": [
       "9.5541911543273592"
      ]
     },
     "execution_count": 20,
     "metadata": {},
     "output_type": "execute_result"
    }
   ],
   "source": [
    "average_minutes(adults_with_no_children, \"01\") / 60"
   ]
  },
  {
   "cell_type": "code",
   "execution_count": 21,
   "metadata": {
    "collapsed": false
   },
   "outputs": [
    {
     "data": {
      "text/plain": [
       "0.68844051636328452"
      ]
     },
     "execution_count": 21,
     "metadata": {},
     "output_type": "execute_result"
    }
   ],
   "source": [
    "average_minutes(adults_with_no_children, \"0102\") / 60"
   ]
  },
  {
   "cell_type": "markdown",
   "metadata": {},
   "source": [
    "## Joining files"
   ]
  },
  {
   "cell_type": "code",
   "execution_count": 22,
   "metadata": {
    "collapsed": false
   },
   "outputs": [],
   "source": [
    "respondents = pd.read_csv(\"atusdata/atusresp_2013/atusresp_2013.dat\")\n",
    "activities = pd.read_csv(\"atusdata/atusact_2013/atusact_2013.dat\")"
   ]
  },
  {
   "cell_type": "code",
   "execution_count": 23,
   "metadata": {
    "collapsed": false
   },
   "outputs": [
    {
     "name": "stdout",
     "output_type": "stream",
     "text": [
      "<class 'pandas.core.frame.DataFrame'>\n",
      "Int64Index: 11385 entries, 0 to 11384\n",
      "Columns: 175 entries, TUCASEID to TXTONHH\n",
      "dtypes: float64(1), int64(172), object(2)\n",
      "memory usage: 15.3+ MB\n"
     ]
    }
   ],
   "source": [
    "respondents.info()"
   ]
  },
  {
   "cell_type": "code",
   "execution_count": 24,
   "metadata": {
    "collapsed": false
   },
   "outputs": [
    {
     "name": "stdout",
     "output_type": "stream",
     "text": [
      "<class 'pandas.core.frame.DataFrame'>\n",
      "Int64Index: 215576 entries, 0 to 215575\n",
      "Data columns (total 31 columns):\n",
      "TUCASEID        215576 non-null int64\n",
      "TUACTIVITY_N    215576 non-null int64\n",
      "TEWHERE         215576 non-null int64\n",
      "TRTCCTOT_LN     215576 non-null int64\n",
      "TRTCC_LN        215576 non-null int64\n",
      "TRTCOC_LN       215576 non-null int64\n",
      "TRTEC_LN        215576 non-null int64\n",
      "TRTHH_LN        215576 non-null int64\n",
      "TRTNOHH_LN      215576 non-null int64\n",
      "TRTOHH_LN       215576 non-null int64\n",
      "TRTONHH_LN      215576 non-null int64\n",
      "TRTO_LN         215576 non-null int64\n",
      "TRWBELIG        215576 non-null int64\n",
      "TUACTDUR        215576 non-null int64\n",
      "TUACTDUR24      215576 non-null int64\n",
      "TUCC5           215576 non-null int64\n",
      "TUCC5B          215576 non-null int64\n",
      "TUCC7           215576 non-null int64\n",
      "TUCC8           215576 non-null int64\n",
      "TUCUMDUR        215576 non-null int64\n",
      "TUCUMDUR24      215576 non-null int64\n",
      "TUDURSTOP       215576 non-null int64\n",
      "TUEC24          215576 non-null int64\n",
      "TUSTARTTIM      215576 non-null object\n",
      "TUSTOPTIME      215576 non-null object\n",
      "TUTIER1CODE     215576 non-null int64\n",
      "TUTIER2CODE     215576 non-null int64\n",
      "TUTIER3CODE     215576 non-null int64\n",
      "TRCODE          215576 non-null int64\n",
      "TRTIER2         215576 non-null int64\n",
      "TXWHERE         215576 non-null int64\n",
      "dtypes: int64(29), object(2)\n",
      "memory usage: 52.6+ MB\n"
     ]
    }
   ],
   "source": [
    "activities.info()"
   ]
  },
  {
   "cell_type": "code",
   "execution_count": 25,
   "metadata": {
    "collapsed": false
   },
   "outputs": [
    {
     "data": {
      "text/html": [
       "<div style=\"max-height:1000px;max-width:1500px;overflow:auto;\">\n",
       "<table border=\"1\" class=\"dataframe\">\n",
       "  <thead>\n",
       "    <tr style=\"text-align: right;\">\n",
       "      <th></th>\n",
       "      <th>TUCASEID</th>\n",
       "      <th>TULINENO</th>\n",
       "      <th>TUYEAR</th>\n",
       "      <th>TUMONTH</th>\n",
       "      <th>TEABSRSN</th>\n",
       "      <th>TEERN</th>\n",
       "      <th>TEERNH1O</th>\n",
       "      <th>TEERNH2</th>\n",
       "      <th>TEERNHRO</th>\n",
       "      <th>TEERNHRY</th>\n",
       "      <th>...</th>\n",
       "      <th>TXSPEMPNOT</th>\n",
       "      <th>TXSPUHRS</th>\n",
       "      <th>TXTCC</th>\n",
       "      <th>TXTCCTOT</th>\n",
       "      <th>TXTCOC</th>\n",
       "      <th>TXTHH</th>\n",
       "      <th>TXTNOHH</th>\n",
       "      <th>TXTO</th>\n",
       "      <th>TXTOHH</th>\n",
       "      <th>TXTONHH</th>\n",
       "    </tr>\n",
       "  </thead>\n",
       "  <tbody>\n",
       "    <tr>\n",
       "      <th>0</th>\n",
       "      <td>20130101130004</td>\n",
       "      <td>1</td>\n",
       "      <td>2013</td>\n",
       "      <td>1</td>\n",
       "      <td>-1</td>\n",
       "      <td>-1</td>\n",
       "      <td>-1</td>\n",
       "      <td>-1</td>\n",
       "      <td>-1</td>\n",
       "      <td>-1</td>\n",
       "      <td>...</td>\n",
       "      <td>-1</td>\n",
       "      <td>-1</td>\n",
       "      <td>0</td>\n",
       "      <td>0</td>\n",
       "      <td>0</td>\n",
       "      <td>0</td>\n",
       "      <td>0</td>\n",
       "      <td>-1</td>\n",
       "      <td>-1</td>\n",
       "      <td>-1</td>\n",
       "    </tr>\n",
       "    <tr>\n",
       "      <th>1</th>\n",
       "      <td>20130101130112</td>\n",
       "      <td>1</td>\n",
       "      <td>2013</td>\n",
       "      <td>1</td>\n",
       "      <td>-1</td>\n",
       "      <td>-1</td>\n",
       "      <td>-1</td>\n",
       "      <td>-1</td>\n",
       "      <td>-1</td>\n",
       "      <td>2</td>\n",
       "      <td>...</td>\n",
       "      <td>0</td>\n",
       "      <td>0</td>\n",
       "      <td>0</td>\n",
       "      <td>0</td>\n",
       "      <td>0</td>\n",
       "      <td>0</td>\n",
       "      <td>-1</td>\n",
       "      <td>0</td>\n",
       "      <td>0</td>\n",
       "      <td>-1</td>\n",
       "    </tr>\n",
       "    <tr>\n",
       "      <th>2</th>\n",
       "      <td>20130101130123</td>\n",
       "      <td>1</td>\n",
       "      <td>2013</td>\n",
       "      <td>1</td>\n",
       "      <td>-1</td>\n",
       "      <td>-1</td>\n",
       "      <td>-1</td>\n",
       "      <td>-1</td>\n",
       "      <td>-1</td>\n",
       "      <td>-1</td>\n",
       "      <td>...</td>\n",
       "      <td>0</td>\n",
       "      <td>0</td>\n",
       "      <td>-1</td>\n",
       "      <td>0</td>\n",
       "      <td>0</td>\n",
       "      <td>-1</td>\n",
       "      <td>-1</td>\n",
       "      <td>-1</td>\n",
       "      <td>-1</td>\n",
       "      <td>-1</td>\n",
       "    </tr>\n",
       "    <tr>\n",
       "      <th>3</th>\n",
       "      <td>20130101130611</td>\n",
       "      <td>1</td>\n",
       "      <td>2013</td>\n",
       "      <td>1</td>\n",
       "      <td>-1</td>\n",
       "      <td>-1</td>\n",
       "      <td>-1</td>\n",
       "      <td>-1</td>\n",
       "      <td>-1</td>\n",
       "      <td>2</td>\n",
       "      <td>...</td>\n",
       "      <td>-1</td>\n",
       "      <td>-1</td>\n",
       "      <td>-1</td>\n",
       "      <td>0</td>\n",
       "      <td>0</td>\n",
       "      <td>-1</td>\n",
       "      <td>-1</td>\n",
       "      <td>-1</td>\n",
       "      <td>-1</td>\n",
       "      <td>-1</td>\n",
       "    </tr>\n",
       "    <tr>\n",
       "      <th>4</th>\n",
       "      <td>20130101130616</td>\n",
       "      <td>1</td>\n",
       "      <td>2013</td>\n",
       "      <td>1</td>\n",
       "      <td>-1</td>\n",
       "      <td>-1</td>\n",
       "      <td>-1</td>\n",
       "      <td>-1</td>\n",
       "      <td>-1</td>\n",
       "      <td>2</td>\n",
       "      <td>...</td>\n",
       "      <td>-1</td>\n",
       "      <td>-1</td>\n",
       "      <td>-1</td>\n",
       "      <td>0</td>\n",
       "      <td>0</td>\n",
       "      <td>-1</td>\n",
       "      <td>-1</td>\n",
       "      <td>-1</td>\n",
       "      <td>-1</td>\n",
       "      <td>-1</td>\n",
       "    </tr>\n",
       "  </tbody>\n",
       "</table>\n",
       "<p>5 rows × 175 columns</p>\n",
       "</div>"
      ],
      "text/plain": [
       "         TUCASEID  TULINENO  TUYEAR  TUMONTH  TEABSRSN  TEERN  TEERNH1O  \\\n",
       "0  20130101130004         1    2013        1        -1     -1        -1   \n",
       "1  20130101130112         1    2013        1        -1     -1        -1   \n",
       "2  20130101130123         1    2013        1        -1     -1        -1   \n",
       "3  20130101130611         1    2013        1        -1     -1        -1   \n",
       "4  20130101130616         1    2013        1        -1     -1        -1   \n",
       "\n",
       "   TEERNH2  TEERNHRO  TEERNHRY   ...     TXSPEMPNOT  TXSPUHRS  TXTCC  \\\n",
       "0       -1        -1        -1   ...             -1        -1      0   \n",
       "1       -1        -1         2   ...              0         0      0   \n",
       "2       -1        -1        -1   ...              0         0     -1   \n",
       "3       -1        -1         2   ...             -1        -1     -1   \n",
       "4       -1        -1         2   ...             -1        -1     -1   \n",
       "\n",
       "   TXTCCTOT  TXTCOC  TXTHH  TXTNOHH  TXTO  TXTOHH  TXTONHH  \n",
       "0         0       0      0        0    -1      -1       -1  \n",
       "1         0       0      0       -1     0       0       -1  \n",
       "2         0       0     -1       -1    -1      -1       -1  \n",
       "3         0       0     -1       -1    -1      -1       -1  \n",
       "4         0       0     -1       -1    -1      -1       -1  \n",
       "\n",
       "[5 rows x 175 columns]"
      ]
     },
     "execution_count": 25,
     "metadata": {},
     "output_type": "execute_result"
    }
   ],
   "source": [
    "respondents.head()"
   ]
  },
  {
   "cell_type": "code",
   "execution_count": 26,
   "metadata": {
    "collapsed": false
   },
   "outputs": [
    {
     "data": {
      "text/html": [
       "<div style=\"max-height:1000px;max-width:1500px;overflow:auto;\">\n",
       "<table border=\"1\" class=\"dataframe\">\n",
       "  <thead>\n",
       "    <tr style=\"text-align: right;\">\n",
       "      <th></th>\n",
       "      <th>TUCASEID</th>\n",
       "      <th>TUACTIVITY_N</th>\n",
       "      <th>TEWHERE</th>\n",
       "      <th>TRTCCTOT_LN</th>\n",
       "      <th>TRTCC_LN</th>\n",
       "      <th>TRTCOC_LN</th>\n",
       "      <th>TRTEC_LN</th>\n",
       "      <th>TRTHH_LN</th>\n",
       "      <th>TRTNOHH_LN</th>\n",
       "      <th>TRTOHH_LN</th>\n",
       "      <th>...</th>\n",
       "      <th>TUDURSTOP</th>\n",
       "      <th>TUEC24</th>\n",
       "      <th>TUSTARTTIM</th>\n",
       "      <th>TUSTOPTIME</th>\n",
       "      <th>TUTIER1CODE</th>\n",
       "      <th>TUTIER2CODE</th>\n",
       "      <th>TUTIER3CODE</th>\n",
       "      <th>TRCODE</th>\n",
       "      <th>TRTIER2</th>\n",
       "      <th>TXWHERE</th>\n",
       "    </tr>\n",
       "  </thead>\n",
       "  <tbody>\n",
       "    <tr>\n",
       "      <th>0</th>\n",
       "      <td>20130101130004</td>\n",
       "      <td>1</td>\n",
       "      <td>-1</td>\n",
       "      <td>0</td>\n",
       "      <td>0</td>\n",
       "      <td>0</td>\n",
       "      <td>-1</td>\n",
       "      <td>0</td>\n",
       "      <td>0</td>\n",
       "      <td>-1</td>\n",
       "      <td>...</td>\n",
       "      <td>2</td>\n",
       "      <td>-1</td>\n",
       "      <td>04:00:00</td>\n",
       "      <td>12:00:00</td>\n",
       "      <td>1</td>\n",
       "      <td>1</td>\n",
       "      <td>1</td>\n",
       "      <td>10101</td>\n",
       "      <td>101</td>\n",
       "      <td>0</td>\n",
       "    </tr>\n",
       "    <tr>\n",
       "      <th>1</th>\n",
       "      <td>20130101130004</td>\n",
       "      <td>2</td>\n",
       "      <td>1</td>\n",
       "      <td>5</td>\n",
       "      <td>5</td>\n",
       "      <td>0</td>\n",
       "      <td>-1</td>\n",
       "      <td>5</td>\n",
       "      <td>5</td>\n",
       "      <td>-1</td>\n",
       "      <td>...</td>\n",
       "      <td>1</td>\n",
       "      <td>-1</td>\n",
       "      <td>12:00:00</td>\n",
       "      <td>12:05:00</td>\n",
       "      <td>11</td>\n",
       "      <td>1</td>\n",
       "      <td>1</td>\n",
       "      <td>110101</td>\n",
       "      <td>1101</td>\n",
       "      <td>0</td>\n",
       "    </tr>\n",
       "    <tr>\n",
       "      <th>2</th>\n",
       "      <td>20130101130004</td>\n",
       "      <td>3</td>\n",
       "      <td>1</td>\n",
       "      <td>120</td>\n",
       "      <td>120</td>\n",
       "      <td>0</td>\n",
       "      <td>-1</td>\n",
       "      <td>120</td>\n",
       "      <td>120</td>\n",
       "      <td>-1</td>\n",
       "      <td>...</td>\n",
       "      <td>1</td>\n",
       "      <td>-1</td>\n",
       "      <td>12:05:00</td>\n",
       "      <td>14:05:00</td>\n",
       "      <td>12</td>\n",
       "      <td>3</td>\n",
       "      <td>3</td>\n",
       "      <td>120303</td>\n",
       "      <td>1203</td>\n",
       "      <td>0</td>\n",
       "    </tr>\n",
       "    <tr>\n",
       "      <th>3</th>\n",
       "      <td>20130101130004</td>\n",
       "      <td>4</td>\n",
       "      <td>1</td>\n",
       "      <td>0</td>\n",
       "      <td>0</td>\n",
       "      <td>0</td>\n",
       "      <td>-1</td>\n",
       "      <td>0</td>\n",
       "      <td>0</td>\n",
       "      <td>-1</td>\n",
       "      <td>...</td>\n",
       "      <td>2</td>\n",
       "      <td>-1</td>\n",
       "      <td>14:05:00</td>\n",
       "      <td>19:00:00</td>\n",
       "      <td>6</td>\n",
       "      <td>3</td>\n",
       "      <td>1</td>\n",
       "      <td>60301</td>\n",
       "      <td>603</td>\n",
       "      <td>0</td>\n",
       "    </tr>\n",
       "    <tr>\n",
       "      <th>4</th>\n",
       "      <td>20130101130004</td>\n",
       "      <td>5</td>\n",
       "      <td>1</td>\n",
       "      <td>30</td>\n",
       "      <td>30</td>\n",
       "      <td>0</td>\n",
       "      <td>-1</td>\n",
       "      <td>30</td>\n",
       "      <td>30</td>\n",
       "      <td>-1</td>\n",
       "      <td>...</td>\n",
       "      <td>1</td>\n",
       "      <td>-1</td>\n",
       "      <td>19:00:00</td>\n",
       "      <td>19:30:00</td>\n",
       "      <td>11</td>\n",
       "      <td>1</td>\n",
       "      <td>1</td>\n",
       "      <td>110101</td>\n",
       "      <td>1101</td>\n",
       "      <td>0</td>\n",
       "    </tr>\n",
       "  </tbody>\n",
       "</table>\n",
       "<p>5 rows × 31 columns</p>\n",
       "</div>"
      ],
      "text/plain": [
       "         TUCASEID  TUACTIVITY_N  TEWHERE  TRTCCTOT_LN  TRTCC_LN  TRTCOC_LN  \\\n",
       "0  20130101130004             1       -1            0         0          0   \n",
       "1  20130101130004             2        1            5         5          0   \n",
       "2  20130101130004             3        1          120       120          0   \n",
       "3  20130101130004             4        1            0         0          0   \n",
       "4  20130101130004             5        1           30        30          0   \n",
       "\n",
       "   TRTEC_LN  TRTHH_LN  TRTNOHH_LN  TRTOHH_LN   ...     TUDURSTOP  TUEC24  \\\n",
       "0        -1         0           0         -1   ...             2      -1   \n",
       "1        -1         5           5         -1   ...             1      -1   \n",
       "2        -1       120         120         -1   ...             1      -1   \n",
       "3        -1         0           0         -1   ...             2      -1   \n",
       "4        -1        30          30         -1   ...             1      -1   \n",
       "\n",
       "   TUSTARTTIM  TUSTOPTIME  TUTIER1CODE  TUTIER2CODE  TUTIER3CODE  TRCODE  \\\n",
       "0    04:00:00    12:00:00            1            1            1   10101   \n",
       "1    12:00:00    12:05:00           11            1            1  110101   \n",
       "2    12:05:00    14:05:00           12            3            3  120303   \n",
       "3    14:05:00    19:00:00            6            3            1   60301   \n",
       "4    19:00:00    19:30:00           11            1            1  110101   \n",
       "\n",
       "   TRTIER2  TXWHERE  \n",
       "0      101        0  \n",
       "1     1101        0  \n",
       "2     1203        0  \n",
       "3      603        0  \n",
       "4     1101        0  \n",
       "\n",
       "[5 rows x 31 columns]"
      ]
     },
     "execution_count": 26,
     "metadata": {},
     "output_type": "execute_result"
    }
   ],
   "source": [
    "activities.head()"
   ]
  },
  {
   "cell_type": "code",
   "execution_count": 27,
   "metadata": {
    "collapsed": false
   },
   "outputs": [
    {
     "name": "stdout",
     "output_type": "stream",
     "text": [
      "<class 'pandas.core.frame.DataFrame'>\n",
      "Int64Index: 215576 entries, 0 to 215575\n",
      "Columns: 205 entries, TUCASEID to TXWHERE\n",
      "dtypes: float64(1), int64(200), object(4)\n",
      "memory usage: 338.8+ MB\n"
     ]
    }
   ],
   "source": [
    "merged = pd.merge(respondents, activities, left_on=\"TUCASEID\", right_on=\"TUCASEID\")\n",
    "merged.info()"
   ]
  },
  {
   "cell_type": "code",
   "execution_count": 28,
   "metadata": {
    "collapsed": false
   },
   "outputs": [
    {
     "data": {
      "text/html": [
       "<div style=\"max-height:1000px;max-width:1500px;overflow:auto;\">\n",
       "<table border=\"1\" class=\"dataframe\">\n",
       "  <thead>\n",
       "    <tr style=\"text-align: right;\">\n",
       "      <th></th>\n",
       "      <th>TUCASEID</th>\n",
       "      <th>TUACTIVITY_N</th>\n",
       "      <th>TXTCOC</th>\n",
       "    </tr>\n",
       "  </thead>\n",
       "  <tbody>\n",
       "    <tr>\n",
       "      <th>0</th>\n",
       "      <td>20130101130004</td>\n",
       "      <td>1</td>\n",
       "      <td>0</td>\n",
       "    </tr>\n",
       "    <tr>\n",
       "      <th>1</th>\n",
       "      <td>20130101130004</td>\n",
       "      <td>2</td>\n",
       "      <td>0</td>\n",
       "    </tr>\n",
       "    <tr>\n",
       "      <th>2</th>\n",
       "      <td>20130101130004</td>\n",
       "      <td>3</td>\n",
       "      <td>0</td>\n",
       "    </tr>\n",
       "    <tr>\n",
       "      <th>3</th>\n",
       "      <td>20130101130004</td>\n",
       "      <td>4</td>\n",
       "      <td>0</td>\n",
       "    </tr>\n",
       "    <tr>\n",
       "      <th>4</th>\n",
       "      <td>20130101130004</td>\n",
       "      <td>5</td>\n",
       "      <td>0</td>\n",
       "    </tr>\n",
       "  </tbody>\n",
       "</table>\n",
       "</div>"
      ],
      "text/plain": [
       "         TUCASEID  TUACTIVITY_N  TXTCOC\n",
       "0  20130101130004             1       0\n",
       "1  20130101130004             2       0\n",
       "2  20130101130004             3       0\n",
       "3  20130101130004             4       0\n",
       "4  20130101130004             5       0"
      ]
     },
     "execution_count": 28,
     "metadata": {},
     "output_type": "execute_result"
    }
   ],
   "source": [
    "merged[[\"TUCASEID\", \"TUACTIVITY_N\", \"TXTCOC\"]].head()"
   ]
  },
  {
   "cell_type": "code",
   "execution_count": 29,
   "metadata": {
    "collapsed": false
   },
   "outputs": [],
   "source": [
    "telfs = pd.Series({1: \"Employed - at work\",\n",
    "                   2: \"Employed - absent\",\n",
    "                   3: \"Unemployed - laid off\",\n",
    "                   4: \"Unemployed - looking\",\n",
    "                   5: \"Not in labor force\"})"
   ]
  },
  {
   "cell_type": "code",
   "execution_count": 30,
   "metadata": {
    "collapsed": false
   },
   "outputs": [
    {
     "data": {
      "text/plain": [
       "1       Employed - at work\n",
       "2        Employed - absent\n",
       "3    Unemployed - laid off\n",
       "4     Unemployed - looking\n",
       "5       Not in labor force\n",
       "dtype: object"
      ]
     },
     "execution_count": 30,
     "metadata": {},
     "output_type": "execute_result"
    }
   ],
   "source": [
    "telfs"
   ]
  },
  {
   "cell_type": "code",
   "execution_count": 31,
   "metadata": {
    "collapsed": false
   },
   "outputs": [
    {
     "data": {
      "text/plain": [
       "0          Not in labor force\n",
       "1          Employed - at work\n",
       "2        Unemployed - looking\n",
       "3          Employed - at work\n",
       "4          Employed - at work\n",
       "5          Not in labor force\n",
       "6          Not in labor force\n",
       "7          Employed - at work\n",
       "8          Employed - at work\n",
       "9          Employed - at work\n",
       "10         Employed - at work\n",
       "11         Employed - at work\n",
       "12         Employed - at work\n",
       "13         Employed - at work\n",
       "14         Not in labor force\n",
       "15         Not in labor force\n",
       "16         Employed - at work\n",
       "17          Employed - absent\n",
       "18         Employed - at work\n",
       "19       Unemployed - looking\n",
       "20       Unemployed - looking\n",
       "21         Employed - at work\n",
       "22         Employed - at work\n",
       "23         Not in labor force\n",
       "24         Employed - at work\n",
       "25         Employed - at work\n",
       "26         Not in labor force\n",
       "27         Not in labor force\n",
       "28       Unemployed - looking\n",
       "29         Employed - at work\n",
       "                 ...         \n",
       "11355       Employed - absent\n",
       "11356      Employed - at work\n",
       "11357      Not in labor force\n",
       "11358      Employed - at work\n",
       "11359      Employed - at work\n",
       "11360      Employed - at work\n",
       "11361      Employed - at work\n",
       "11362      Employed - at work\n",
       "11363      Not in labor force\n",
       "11364      Not in labor force\n",
       "11365      Employed - at work\n",
       "11366      Not in labor force\n",
       "11367      Employed - at work\n",
       "11368      Employed - at work\n",
       "11369      Not in labor force\n",
       "11370      Employed - at work\n",
       "11371      Employed - at work\n",
       "11372      Employed - at work\n",
       "11373      Not in labor force\n",
       "11374      Employed - at work\n",
       "11375      Employed - at work\n",
       "11376      Employed - at work\n",
       "11377      Employed - at work\n",
       "11378      Not in labor force\n",
       "11379      Employed - at work\n",
       "11380      Not in labor force\n",
       "11381      Employed - at work\n",
       "11382      Employed - at work\n",
       "11383      Employed - at work\n",
       "11384      Not in labor force\n",
       "Name: TELFS, dtype: object"
      ]
     },
     "execution_count": 31,
     "metadata": {},
     "output_type": "execute_result"
    }
   ],
   "source": [
    "summary.TELFS.map(telfs)"
   ]
  },
  {
   "cell_type": "code",
   "execution_count": 32,
   "metadata": {
    "collapsed": false
   },
   "outputs": [
    {
     "data": {
      "text/plain": [
       "pandas.core.series.Series"
      ]
     },
     "execution_count": 32,
     "metadata": {},
     "output_type": "execute_result"
    }
   ],
   "source": [
    "type(summary[\"TELFS\"])"
   ]
  },
  {
   "cell_type": "code",
   "execution_count": 33,
   "metadata": {
    "collapsed": false
   },
   "outputs": [
    {
     "data": {
      "text/plain": [
       "pandas.core.series.Series"
      ]
     },
     "execution_count": 33,
     "metadata": {},
     "output_type": "execute_result"
    }
   ],
   "source": [
    "type(summary.TELFS)"
   ]
  },
  {
   "cell_type": "markdown",
   "metadata": {},
   "source": [
    "# Sleep by age"
   ]
  },
  {
   "cell_type": "code",
   "execution_count": 34,
   "metadata": {
    "collapsed": false
   },
   "outputs": [
    {
     "data": {
      "text/plain": [
       "0     4\n",
       "1     7\n",
       "2     9\n",
       "3    10\n",
       "4     9\n",
       "Name: TEAGE, dtype: int64"
      ]
     },
     "execution_count": 34,
     "metadata": {},
     "output_type": "execute_result"
    }
   ],
   "source": [
    "# Our goal:\n",
    "\n",
    "# Age   Minutes of sleep\n",
    "# 1-5     600\n",
    "# 6-10    590\n",
    "# 11-15 ...\n",
    "\n",
    "def convert_age(age):\n",
    "    return age // 5\n",
    "\n",
    "summary.TEAGE.map(convert_age).head()"
   ]
  },
  {
   "cell_type": "code",
   "execution_count": 35,
   "metadata": {
    "collapsed": true
   },
   "outputs": [],
   "source": [
    "summary['age_band'] = summary.TEAGE.map(convert_age)"
   ]
  },
  {
   "cell_type": "code",
   "execution_count": 36,
   "metadata": {
    "collapsed": false
   },
   "outputs": [
    {
     "data": {
      "text/plain": [
       "[0,\n",
       " 0,\n",
       " 0,\n",
       " 572.87495936471623,\n",
       " 545.04318394849906,\n",
       " 520.25114205525199,\n",
       " 514.23103878935706,\n",
       " 506.35564345802067,\n",
       " 509.21941845245271,\n",
       " 515.01419403985426,\n",
       " 497.90094524405453,\n",
       " 505.96632253572875,\n",
       " 506.25502712030993,\n",
       " 509.91653385147828,\n",
       " 508.20989656086829,\n",
       " 536.97219104267947,\n",
       " 549.6442198313672,\n",
       " 570.92909692576973]"
      ]
     },
     "execution_count": 36,
     "metadata": {},
     "output_type": "execute_result"
    }
   ],
   "source": [
    "[average_minutes(summary[summary.age_band == age_band], \"010101\")\n",
    " if len(summary[summary.age_band == age_band]) > 0 else 0\n",
    " for age_band in range(18)]   "
   ]
  },
  {
   "cell_type": "code",
   "execution_count": 37,
   "metadata": {
    "collapsed": false
   },
   "outputs": [
    {
     "data": {
      "text/plain": [
       "[0,\n",
       " 0,\n",
       " 0,\n",
       " 630,\n",
       " 469,\n",
       " 758,\n",
       " 1067,\n",
       " 1068,\n",
       " 1081,\n",
       " 989,\n",
       " 1031,\n",
       " 1007,\n",
       " 892,\n",
       " 827,\n",
       " 531,\n",
       " 423,\n",
       " 352,\n",
       " 260]"
      ]
     },
     "execution_count": 37,
     "metadata": {},
     "output_type": "execute_result"
    }
   ],
   "source": [
    "[len(summary[summary.age_band == age_band])\n",
    " for age_band in range(18)]   "
   ]
  },
  {
   "cell_type": "markdown",
   "metadata": {},
   "source": [
    "Let's try this just with Pandas."
   ]
  },
  {
   "cell_type": "code",
   "execution_count": 38,
   "metadata": {
    "collapsed": true
   },
   "outputs": [],
   "source": [
    "summary2 = summary.loc[:, [\"age_band\", \"t010101\", \"TUFINLWGT\"]]"
   ]
  },
  {
   "cell_type": "code",
   "execution_count": 39,
   "metadata": {
    "collapsed": false
   },
   "outputs": [
    {
     "data": {
      "text/html": [
       "<div style=\"max-height:1000px;max-width:1500px;overflow:auto;\">\n",
       "<table border=\"1\" class=\"dataframe\">\n",
       "  <thead>\n",
       "    <tr style=\"text-align: right;\">\n",
       "      <th></th>\n",
       "      <th>age_band</th>\n",
       "      <th>t010101</th>\n",
       "      <th>TUFINLWGT</th>\n",
       "    </tr>\n",
       "  </thead>\n",
       "  <tbody>\n",
       "    <tr>\n",
       "      <th>0</th>\n",
       "      <td>4</td>\n",
       "      <td>540</td>\n",
       "      <td>11899905.662034</td>\n",
       "    </tr>\n",
       "    <tr>\n",
       "      <th>1</th>\n",
       "      <td>7</td>\n",
       "      <td>580</td>\n",
       "      <td>4447638.009513</td>\n",
       "    </tr>\n",
       "    <tr>\n",
       "      <th>2</th>\n",
       "      <td>9</td>\n",
       "      <td>450</td>\n",
       "      <td>10377056.507734</td>\n",
       "    </tr>\n",
       "    <tr>\n",
       "      <th>3</th>\n",
       "      <td>10</td>\n",
       "      <td>450</td>\n",
       "      <td>7731257.992805</td>\n",
       "    </tr>\n",
       "    <tr>\n",
       "      <th>4</th>\n",
       "      <td>9</td>\n",
       "      <td>570</td>\n",
       "      <td>4725269.227067</td>\n",
       "    </tr>\n",
       "  </tbody>\n",
       "</table>\n",
       "</div>"
      ],
      "text/plain": [
       "   age_band  t010101        TUFINLWGT\n",
       "0         4      540  11899905.662034\n",
       "1         7      580   4447638.009513\n",
       "2         9      450  10377056.507734\n",
       "3        10      450   7731257.992805\n",
       "4         9      570   4725269.227067"
      ]
     },
     "execution_count": 39,
     "metadata": {},
     "output_type": "execute_result"
    }
   ],
   "source": [
    "summary2.head()"
   ]
  },
  {
   "cell_type": "code",
   "execution_count": 40,
   "metadata": {
    "collapsed": true
   },
   "outputs": [],
   "source": [
    "summary2 = summary2.rename(columns={\"t010101\": \"minutes\", \"TUFINLWGT\": \"weight\"})"
   ]
  },
  {
   "cell_type": "code",
   "execution_count": 41,
   "metadata": {
    "collapsed": false
   },
   "outputs": [
    {
     "data": {
      "text/html": [
       "<div style=\"max-height:1000px;max-width:1500px;overflow:auto;\">\n",
       "<table border=\"1\" class=\"dataframe\">\n",
       "  <thead>\n",
       "    <tr style=\"text-align: right;\">\n",
       "      <th></th>\n",
       "      <th>age_band</th>\n",
       "      <th>minutes</th>\n",
       "      <th>weight</th>\n",
       "    </tr>\n",
       "  </thead>\n",
       "  <tbody>\n",
       "    <tr>\n",
       "      <th>0</th>\n",
       "      <td>4</td>\n",
       "      <td>540</td>\n",
       "      <td>11899905.662034</td>\n",
       "    </tr>\n",
       "    <tr>\n",
       "      <th>1</th>\n",
       "      <td>7</td>\n",
       "      <td>580</td>\n",
       "      <td>4447638.009513</td>\n",
       "    </tr>\n",
       "    <tr>\n",
       "      <th>2</th>\n",
       "      <td>9</td>\n",
       "      <td>450</td>\n",
       "      <td>10377056.507734</td>\n",
       "    </tr>\n",
       "    <tr>\n",
       "      <th>3</th>\n",
       "      <td>10</td>\n",
       "      <td>450</td>\n",
       "      <td>7731257.992805</td>\n",
       "    </tr>\n",
       "    <tr>\n",
       "      <th>4</th>\n",
       "      <td>9</td>\n",
       "      <td>570</td>\n",
       "      <td>4725269.227067</td>\n",
       "    </tr>\n",
       "  </tbody>\n",
       "</table>\n",
       "</div>"
      ],
      "text/plain": [
       "   age_band  minutes           weight\n",
       "0         4      540  11899905.662034\n",
       "1         7      580   4447638.009513\n",
       "2         9      450  10377056.507734\n",
       "3        10      450   7731257.992805\n",
       "4         9      570   4725269.227067"
      ]
     },
     "execution_count": 41,
     "metadata": {},
     "output_type": "execute_result"
    }
   ],
   "source": [
    "summary2.head()"
   ]
  },
  {
   "cell_type": "code",
   "execution_count": 42,
   "metadata": {
    "collapsed": true
   },
   "outputs": [],
   "source": [
    "summary2[\"weighted_minutes\"] = summary2.weight * summary2.minutes"
   ]
  },
  {
   "cell_type": "code",
   "execution_count": 43,
   "metadata": {
    "collapsed": true
   },
   "outputs": [],
   "source": [
    "import numpy as np"
   ]
  },
  {
   "cell_type": "code",
   "execution_count": 44,
   "metadata": {
    "collapsed": false
   },
   "outputs": [],
   "source": [
    "sleep_by_age = summary2.groupby(\"age_band\").aggregate(np.sum)"
   ]
  },
  {
   "cell_type": "code",
   "execution_count": 45,
   "metadata": {
    "collapsed": false
   },
   "outputs": [
    {
     "data": {
      "text/html": [
       "<div style=\"max-height:1000px;max-width:1500px;overflow:auto;\">\n",
       "<table border=\"1\" class=\"dataframe\">\n",
       "  <thead>\n",
       "    <tr style=\"text-align: right;\">\n",
       "      <th></th>\n",
       "      <th>minutes</th>\n",
       "      <th>weight</th>\n",
       "      <th>weighted_minutes</th>\n",
       "    </tr>\n",
       "    <tr>\n",
       "      <th>age_band</th>\n",
       "      <th></th>\n",
       "      <th></th>\n",
       "      <th></th>\n",
       "    </tr>\n",
       "  </thead>\n",
       "  <tbody>\n",
       "    <tr>\n",
       "      <th>3</th>\n",
       "      <td>371328</td>\n",
       "      <td>7.633313e+09</td>\n",
       "      <td>4.372934e+12</td>\n",
       "    </tr>\n",
       "    <tr>\n",
       "      <th>4</th>\n",
       "      <td>259208</td>\n",
       "      <td>8.048953e+09</td>\n",
       "      <td>4.387027e+12</td>\n",
       "    </tr>\n",
       "    <tr>\n",
       "      <th>5</th>\n",
       "      <td>406272</td>\n",
       "      <td>7.619893e+09</td>\n",
       "      <td>3.964258e+12</td>\n",
       "    </tr>\n",
       "    <tr>\n",
       "      <th>6</th>\n",
       "      <td>558336</td>\n",
       "      <td>7.545708e+09</td>\n",
       "      <td>3.880237e+12</td>\n",
       "    </tr>\n",
       "    <tr>\n",
       "      <th>7</th>\n",
       "      <td>551864</td>\n",
       "      <td>6.989612e+09</td>\n",
       "      <td>3.539230e+12</td>\n",
       "    </tr>\n",
       "  </tbody>\n",
       "</table>\n",
       "</div>"
      ],
      "text/plain": [
       "          minutes        weight  weighted_minutes\n",
       "age_band                                         \n",
       "3          371328  7.633313e+09      4.372934e+12\n",
       "4          259208  8.048953e+09      4.387027e+12\n",
       "5          406272  7.619893e+09      3.964258e+12\n",
       "6          558336  7.545708e+09      3.880237e+12\n",
       "7          551864  6.989612e+09      3.539230e+12"
      ]
     },
     "execution_count": 45,
     "metadata": {},
     "output_type": "execute_result"
    }
   ],
   "source": [
    "sleep_by_age.head()"
   ]
  },
  {
   "cell_type": "code",
   "execution_count": 46,
   "metadata": {
    "collapsed": true
   },
   "outputs": [],
   "source": [
    "sleep_by_age[\"mean_minutes\"] = sleep_by_age.weighted_minutes / sleep_by_age.weight"
   ]
  },
  {
   "cell_type": "code",
   "execution_count": 47,
   "metadata": {
    "collapsed": false
   },
   "outputs": [
    {
     "data": {
      "text/html": [
       "<div style=\"max-height:1000px;max-width:1500px;overflow:auto;\">\n",
       "<table border=\"1\" class=\"dataframe\">\n",
       "  <thead>\n",
       "    <tr style=\"text-align: right;\">\n",
       "      <th></th>\n",
       "      <th>minutes</th>\n",
       "      <th>weight</th>\n",
       "      <th>weighted_minutes</th>\n",
       "      <th>mean_minutes</th>\n",
       "    </tr>\n",
       "    <tr>\n",
       "      <th>age_band</th>\n",
       "      <th></th>\n",
       "      <th></th>\n",
       "      <th></th>\n",
       "      <th></th>\n",
       "    </tr>\n",
       "  </thead>\n",
       "  <tbody>\n",
       "    <tr>\n",
       "      <th>3</th>\n",
       "      <td>371328</td>\n",
       "      <td>7.633313e+09</td>\n",
       "      <td>4.372934e+12</td>\n",
       "      <td>572.874959</td>\n",
       "    </tr>\n",
       "    <tr>\n",
       "      <th>4</th>\n",
       "      <td>259208</td>\n",
       "      <td>8.048953e+09</td>\n",
       "      <td>4.387027e+12</td>\n",
       "      <td>545.043184</td>\n",
       "    </tr>\n",
       "    <tr>\n",
       "      <th>5</th>\n",
       "      <td>406272</td>\n",
       "      <td>7.619893e+09</td>\n",
       "      <td>3.964258e+12</td>\n",
       "      <td>520.251142</td>\n",
       "    </tr>\n",
       "    <tr>\n",
       "      <th>6</th>\n",
       "      <td>558336</td>\n",
       "      <td>7.545708e+09</td>\n",
       "      <td>3.880237e+12</td>\n",
       "      <td>514.231039</td>\n",
       "    </tr>\n",
       "    <tr>\n",
       "      <th>7</th>\n",
       "      <td>551864</td>\n",
       "      <td>6.989612e+09</td>\n",
       "      <td>3.539230e+12</td>\n",
       "      <td>506.355643</td>\n",
       "    </tr>\n",
       "    <tr>\n",
       "      <th>8</th>\n",
       "      <td>565815</td>\n",
       "      <td>7.468974e+09</td>\n",
       "      <td>3.803347e+12</td>\n",
       "      <td>509.219418</td>\n",
       "    </tr>\n",
       "    <tr>\n",
       "      <th>9</th>\n",
       "      <td>516899</td>\n",
       "      <td>7.629460e+09</td>\n",
       "      <td>3.929280e+12</td>\n",
       "      <td>515.014194</td>\n",
       "    </tr>\n",
       "    <tr>\n",
       "      <th>10</th>\n",
       "      <td>523819</td>\n",
       "      <td>8.154812e+09</td>\n",
       "      <td>4.060288e+12</td>\n",
       "      <td>497.900945</td>\n",
       "    </tr>\n",
       "    <tr>\n",
       "      <th>11</th>\n",
       "      <td>519690</td>\n",
       "      <td>7.642483e+09</td>\n",
       "      <td>3.866839e+12</td>\n",
       "      <td>505.966323</td>\n",
       "    </tr>\n",
       "    <tr>\n",
       "      <th>12</th>\n",
       "      <td>460189</td>\n",
       "      <td>6.601025e+09</td>\n",
       "      <td>3.341802e+12</td>\n",
       "      <td>506.255027</td>\n",
       "    </tr>\n",
       "    <tr>\n",
       "      <th>13</th>\n",
       "      <td>425810</td>\n",
       "      <td>5.283730e+09</td>\n",
       "      <td>2.694261e+12</td>\n",
       "      <td>509.916534</td>\n",
       "    </tr>\n",
       "    <tr>\n",
       "      <th>14</th>\n",
       "      <td>274889</td>\n",
       "      <td>3.824455e+09</td>\n",
       "      <td>1.943626e+12</td>\n",
       "      <td>508.209897</td>\n",
       "    </tr>\n",
       "    <tr>\n",
       "      <th>15</th>\n",
       "      <td>227301</td>\n",
       "      <td>2.791814e+09</td>\n",
       "      <td>1.499126e+12</td>\n",
       "      <td>536.972191</td>\n",
       "    </tr>\n",
       "    <tr>\n",
       "      <th>16</th>\n",
       "      <td>193264</td>\n",
       "      <td>2.366307e+09</td>\n",
       "      <td>1.300627e+12</td>\n",
       "      <td>549.644220</td>\n",
       "    </tr>\n",
       "    <tr>\n",
       "      <th>17</th>\n",
       "      <td>148231</td>\n",
       "      <td>1.580420e+09</td>\n",
       "      <td>9.023080e+11</td>\n",
       "      <td>570.929097</td>\n",
       "    </tr>\n",
       "  </tbody>\n",
       "</table>\n",
       "</div>"
      ],
      "text/plain": [
       "          minutes        weight  weighted_minutes  mean_minutes\n",
       "age_band                                                       \n",
       "3          371328  7.633313e+09      4.372934e+12    572.874959\n",
       "4          259208  8.048953e+09      4.387027e+12    545.043184\n",
       "5          406272  7.619893e+09      3.964258e+12    520.251142\n",
       "6          558336  7.545708e+09      3.880237e+12    514.231039\n",
       "7          551864  6.989612e+09      3.539230e+12    506.355643\n",
       "8          565815  7.468974e+09      3.803347e+12    509.219418\n",
       "9          516899  7.629460e+09      3.929280e+12    515.014194\n",
       "10         523819  8.154812e+09      4.060288e+12    497.900945\n",
       "11         519690  7.642483e+09      3.866839e+12    505.966323\n",
       "12         460189  6.601025e+09      3.341802e+12    506.255027\n",
       "13         425810  5.283730e+09      2.694261e+12    509.916534\n",
       "14         274889  3.824455e+09      1.943626e+12    508.209897\n",
       "15         227301  2.791814e+09      1.499126e+12    536.972191\n",
       "16         193264  2.366307e+09      1.300627e+12    549.644220\n",
       "17         148231  1.580420e+09      9.023080e+11    570.929097"
      ]
     },
     "execution_count": 47,
     "metadata": {},
     "output_type": "execute_result"
    }
   ],
   "source": [
    "sleep_by_age"
   ]
  },
  {
   "cell_type": "code",
   "execution_count": 48,
   "metadata": {
    "collapsed": false
   },
   "outputs": [
    {
     "data": {
      "text/plain": [
       "<matplotlib.axes._subplots.AxesSubplot at 0x106fe59e8>"
      ]
     },
     "execution_count": 48,
     "metadata": {},
     "output_type": "execute_result"
    },
    {
     "data": {
      "image/png": "[encoded data removed]",
      "text/plain": [
       "<matplotlib.figure.Figure at 0x107121860>"
      ]
     },
     "metadata": {},
     "output_type": "display_data"
    }
   ],
   "source": [
    "sleep_by_age.mean_minutes.plot()"
   ]
  },
  {
   "cell_type": "markdown",
   "metadata": {},
   "source": [
    "Although this isn't linear, there does seem to be a quadratic trend here"
   ]
  },
  {
   "cell_type": "markdown",
   "metadata": {},
   "source": [
    "## Year by year"
   ]
  },
  {
   "cell_type": "code",
   "execution_count": 49,
   "metadata": {
    "collapsed": true
   },
   "outputs": [],
   "source": [
    "summary3 = summary.loc[:, [\"TEAGE\", \"t010101\", \"TUFINLWGT\"]]"
   ]
  },
  {
   "cell_type": "code",
   "execution_count": 50,
   "metadata": {
    "collapsed": true
   },
   "outputs": [],
   "source": [
    "summary3 = summary3.rename(columns={\"TEAGE\": \"age\", \n",
    "                                    \"t010101\": \"minutes\", \n",
    "                                    \"TUFINLWGT\": \"weight\"})"
   ]
  },
  {
   "cell_type": "code",
   "execution_count": 51,
   "metadata": {
    "collapsed": true
   },
   "outputs": [],
   "source": [
    "summary3[\"weighted_minutes\"] = summary3.weight * summary3.minutes"
   ]
  },
  {
   "cell_type": "code",
   "execution_count": 52,
   "metadata": {
    "collapsed": true
   },
   "outputs": [],
   "source": [
    "sleep_by_age = summary3.groupby(\"age\").aggregate(np.sum)"
   ]
  },
  {
   "cell_type": "code",
   "execution_count": 53,
   "metadata": {
    "collapsed": true
   },
   "outputs": [],
   "source": [
    "sleep_by_age[\"mean_minutes\"] = sleep_by_age.weighted_minutes / sleep_by_age.weight"
   ]
  },
  {
   "cell_type": "code",
   "execution_count": 54,
   "metadata": {
    "collapsed": false
   },
   "outputs": [
    {
     "data": {
      "text/plain": [
       "<matplotlib.axes._subplots.AxesSubplot at 0x1031d44a8>"
      ]
     },
     "execution_count": 54,
     "metadata": {},
     "output_type": "execute_result"
    },
    {
     "data": {
      "image/png": "[encoded data removed]",
      "text/plain": [
       "<matplotlib.figure.Figure at 0x10535d438>"
      ]
     },
     "metadata": {},
     "output_type": "display_data"
    }
   ],
   "source": [
    "sleep_by_age.mean_minutes.plot()"
   ]
  },
  {
   "cell_type": "markdown",
   "metadata": {},
   "source": [
    "This is pretty choppy, therefore I used the 5-year grouping for ages for a cleaner look"
   ]
  },
  {
   "cell_type": "code",
   "execution_count": 55,
   "metadata": {
    "collapsed": false
   },
   "outputs": [
    {
     "data": {
      "text/plain": [
       "-0.047836337700453285"
      ]
     },
     "execution_count": 55,
     "metadata": {},
     "output_type": "execute_result"
    }
   ],
   "source": [
    "summary.TEAGE.corr(summary.t010101)"
   ]
  },
  {
   "cell_type": "markdown",
   "metadata": {
    "collapsed": true
   },
   "source": [
    "##Grooming"
   ]
  },
  {
   "cell_type": "markdown",
   "metadata": {},
   "source": [
    "###By Age"
   ]
  },
  {
   "cell_type": "code",
   "execution_count": 56,
   "metadata": {
    "collapsed": false
   },
   "outputs": [],
   "source": [
    "summary_groom = summary.loc[:, [\"age_band\", \"t010201\", \"TUFINLWGT\", \"TESEX\"]]"
   ]
  },
  {
   "cell_type": "code",
   "execution_count": 57,
   "metadata": {
    "collapsed": true
   },
   "outputs": [],
   "source": [
    "summary_groom = summary_groom.rename(columns={\"t010201\": \"minutes\", \"TUFINLWGT\": \"weight\"})"
   ]
  },
  {
   "cell_type": "code",
   "execution_count": 58,
   "metadata": {
    "collapsed": false
   },
   "outputs": [
    {
     "data": {
      "text/html": [
       "<div style=\"max-height:1000px;max-width:1500px;overflow:auto;\">\n",
       "<table border=\"1\" class=\"dataframe\">\n",
       "  <thead>\n",
       "    <tr style=\"text-align: right;\">\n",
       "      <th></th>\n",
       "      <th>age_band</th>\n",
       "      <th>minutes</th>\n",
       "      <th>weight</th>\n",
       "      <th>TESEX</th>\n",
       "    </tr>\n",
       "  </thead>\n",
       "  <tbody>\n",
       "    <tr>\n",
       "      <th>0</th>\n",
       "      <td>4</td>\n",
       "      <td>20</td>\n",
       "      <td>11899905.662034</td>\n",
       "      <td>2</td>\n",
       "    </tr>\n",
       "    <tr>\n",
       "      <th>1</th>\n",
       "      <td>7</td>\n",
       "      <td>35</td>\n",
       "      <td>4447638.009513</td>\n",
       "      <td>1</td>\n",
       "    </tr>\n",
       "    <tr>\n",
       "      <th>2</th>\n",
       "      <td>9</td>\n",
       "      <td>90</td>\n",
       "      <td>10377056.507734</td>\n",
       "      <td>2</td>\n",
       "    </tr>\n",
       "    <tr>\n",
       "      <th>3</th>\n",
       "      <td>10</td>\n",
       "      <td>30</td>\n",
       "      <td>7731257.992805</td>\n",
       "      <td>2</td>\n",
       "    </tr>\n",
       "    <tr>\n",
       "      <th>4</th>\n",
       "      <td>9</td>\n",
       "      <td>0</td>\n",
       "      <td>4725269.227067</td>\n",
       "      <td>2</td>\n",
       "    </tr>\n",
       "  </tbody>\n",
       "</table>\n",
       "</div>"
      ],
      "text/plain": [
       "   age_band  minutes           weight  TESEX\n",
       "0         4       20  11899905.662034      2\n",
       "1         7       35   4447638.009513      1\n",
       "2         9       90  10377056.507734      2\n",
       "3        10       30   7731257.992805      2\n",
       "4         9        0   4725269.227067      2"
      ]
     },
     "execution_count": 58,
     "metadata": {},
     "output_type": "execute_result"
    }
   ],
   "source": [
    "summary_groom.head()"
   ]
  },
  {
   "cell_type": "code",
   "execution_count": 59,
   "metadata": {
    "collapsed": false
   },
   "outputs": [],
   "source": [
    "summary_groom[\"weighted_minutes\"] = summary_groom.weight * summary_groom.minutes"
   ]
  },
  {
   "cell_type": "code",
   "execution_count": 60,
   "metadata": {
    "collapsed": true
   },
   "outputs": [],
   "source": [
    "groom_by_age = summary_groom.groupby(\"age_band\").aggregate(np.sum)"
   ]
  },
  {
   "cell_type": "code",
   "execution_count": 61,
   "metadata": {
    "collapsed": false
   },
   "outputs": [],
   "source": [
    "groom_by_age[\"mean_minutes\"] = groom_by_age.weighted_minutes / groom_by_age.weight"
   ]
  },
  {
   "cell_type": "code",
   "execution_count": 62,
   "metadata": {
    "collapsed": false
   },
   "outputs": [
    {
     "data": {
      "text/plain": [
       "<matplotlib.axes._subplots.AxesSubplot at 0x1071916d8>"
      ]
     },
     "execution_count": 62,
     "metadata": {},
     "output_type": "execute_result"
    },
    {
     "data": {
      "image/png": "[encoded data removed]",
      "text/plain": [
       "<matplotlib.figure.Figure at 0x1071e74a8>"
      ]
     },
     "metadata": {},
     "output_type": "display_data"
    }
   ],
   "source": [
    "groom_by_age.mean_minutes.plot()"
   ]
  },
  {
   "cell_type": "markdown",
   "metadata": {},
   "source": [
    "Slightly quadratic in shape"
   ]
  },
  {
   "cell_type": "code",
   "execution_count": 63,
   "metadata": {
    "collapsed": false
   },
   "outputs": [
    {
     "data": {
      "text/plain": [
       "-0.028595624368569068"
      ]
     },
     "execution_count": 63,
     "metadata": {},
     "output_type": "execute_result"
    }
   ],
   "source": [
    "summary.TEAGE.corr(summary.t010201)"
   ]
  },
  {
   "cell_type": "markdown",
   "metadata": {},
   "source": [
    "### By Gender"
   ]
  },
  {
   "cell_type": "code",
   "execution_count": 64,
   "metadata": {
    "collapsed": false
   },
   "outputs": [],
   "source": [
    "groom_by_sex = summary_groom.groupby(\"TESEX\").aggregate(np.sum)"
   ]
  },
  {
   "cell_type": "code",
   "execution_count": 65,
   "metadata": {
    "collapsed": false
   },
   "outputs": [
    {
     "data": {
      "text/html": [
       "<div style=\"max-height:1000px;max-width:1500px;overflow:auto;\">\n",
       "<table border=\"1\" class=\"dataframe\">\n",
       "  <thead>\n",
       "    <tr style=\"text-align: right;\">\n",
       "      <th></th>\n",
       "      <th>age_band</th>\n",
       "      <th>minutes</th>\n",
       "      <th>weight</th>\n",
       "      <th>weighted_minutes</th>\n",
       "    </tr>\n",
       "    <tr>\n",
       "      <th>TESEX</th>\n",
       "      <th></th>\n",
       "      <th></th>\n",
       "      <th></th>\n",
       "      <th></th>\n",
       "    </tr>\n",
       "  </thead>\n",
       "  <tbody>\n",
       "    <tr>\n",
       "      <th>1</th>\n",
       "      <td>46468</td>\n",
       "      <td>168132</td>\n",
       "      <td>4.407395e+10</td>\n",
       "      <td>1.495422e+12</td>\n",
       "    </tr>\n",
       "    <tr>\n",
       "      <th>2</th>\n",
       "      <td>59188</td>\n",
       "      <td>306555</td>\n",
       "      <td>4.710701e+10</td>\n",
       "      <td>2.309853e+12</td>\n",
       "    </tr>\n",
       "  </tbody>\n",
       "</table>\n",
       "</div>"
      ],
      "text/plain": [
       "       age_band  minutes        weight  weighted_minutes\n",
       "TESEX                                                   \n",
       "1         46468   168132  4.407395e+10      1.495422e+12\n",
       "2         59188   306555  4.710701e+10      2.309853e+12"
      ]
     },
     "execution_count": 65,
     "metadata": {},
     "output_type": "execute_result"
    }
   ],
   "source": [
    "groom_by_sex.head()"
   ]
  },
  {
   "cell_type": "code",
   "execution_count": 66,
   "metadata": {
    "collapsed": false
   },
   "outputs": [],
   "source": [
    "groom_by_sex[\"mean_minutes\"] = groom_by_sex.weighted_minutes / groom_by_sex.weight"
   ]
  },
  {
   "cell_type": "code",
   "execution_count": 67,
   "metadata": {
    "collapsed": false
   },
   "outputs": [
    {
     "data": {
      "text/plain": [
       "<matplotlib.axes._subplots.AxesSubplot at 0x1071ae358>"
      ]
     },
     "execution_count": 67,
     "metadata": {},
     "output_type": "execute_result"
    },
    {
     "data": {
      "image/png": "[encoded data removed]",
      "text/plain": [
       "<matplotlib.figure.Figure at 0x1078d8b70>"
      ]
     },
     "metadata": {},
     "output_type": "display_data"
    }
   ],
   "source": [
    "groom_by_sex.mean_minutes.plot(kind=\"bar\")"
   ]
  },
  {
   "cell_type": "markdown",
   "metadata": {},
   "source": [
    "The 15 minute average difference adds up "
   ]
  },
  {
   "cell_type": "code",
   "execution_count": 68,
   "metadata": {
    "collapsed": false
   },
   "outputs": [
    {
     "data": {
      "text/plain": [
       "0.20881722433048577"
      ]
     },
     "execution_count": 68,
     "metadata": {},
     "output_type": "execute_result"
    }
   ],
   "source": [
    "summary.TESEX.corr(summary.t010201)"
   ]
  },
  {
   "cell_type": "markdown",
   "metadata": {},
   "source": [
    "##Cosumer Purchases"
   ]
  },
  {
   "cell_type": "markdown",
   "metadata": {},
   "source": [
    "###By Age"
   ]
  },
  {
   "cell_type": "code",
   "execution_count": 69,
   "metadata": {
    "collapsed": false
   },
   "outputs": [
    {
     "data": {
      "text/plain": [
       "<matplotlib.axes._subplots.AxesSubplot at 0x1078e0780>"
      ]
     },
     "execution_count": 69,
     "metadata": {},
     "output_type": "execute_result"
    },
    {
     "data": {
      "image/png": "[encoded data removed]",
      "text/plain": [
       "<matplotlib.figure.Figure at 0x107ac08d0>"
      ]
     },
     "metadata": {},
     "output_type": "display_data"
    }
   ],
   "source": [
    "summary_purchase = summary.loc[:, [\"age_band\", \"t070101\", \"TUFINLWGT\", \"TESEX\"]]\n",
    "summary_purchase = summary_purchase.rename(columns={\"t070101\": \"minutes\", \"TUFINLWGT\": \"weight\"})\n",
    "summary_purchase[\"weighted_minutes\"] = summary_purchase.weight * summary_purchase.minutes\n",
    "purchase_by_age = summary_purchase.groupby(\"age_band\").aggregate(np.sum)\n",
    "purchase_by_age[\"mean_minutes\"] = purchase_by_age.weighted_minutes / purchase_by_age.weight\n",
    "purchase_by_age.mean_minutes.plot()"
   ]
  },
  {
   "cell_type": "code",
   "execution_count": 70,
   "metadata": {
    "collapsed": false
   },
   "outputs": [
    {
     "data": {
      "text/plain": [
       "0.029644647916974871"
      ]
     },
     "execution_count": 70,
     "metadata": {},
     "output_type": "execute_result"
    }
   ],
   "source": [
    "summary.TEAGE.corr(summary.t070101)"
   ]
  },
  {
   "cell_type": "markdown",
   "metadata": {},
   "source": [
    "### By Gender"
   ]
  },
  {
   "cell_type": "code",
   "execution_count": 72,
   "metadata": {
    "collapsed": false
   },
   "outputs": [
    {
     "data": {
      "text/plain": [
       "<matplotlib.axes._subplots.AxesSubplot at 0x107bb9710>"
      ]
     },
     "execution_count": 72,
     "metadata": {},
     "output_type": "execute_result"
    },
    {
     "data": {
      "image/png": "[encoded data removed]",
      "text/plain": [
       "<matplotlib.figure.Figure at 0x107b1a4e0>"
      ]
     },
     "metadata": {},
     "output_type": "display_data"
    }
   ],
   "source": [
    "purchase_by_sex = summary_purchase.groupby(\"TESEX\").aggregate(np.sum)\n",
    "purchase_by_sex[\"mean_minutes\"] = purchase_by_sex.weighted_minutes / purchase_by_sex.weight\n",
    "purchase_by_sex.mean_minutes.plot()"
   ]
  },
  {
   "cell_type": "code",
   "execution_count": 73,
   "metadata": {
    "collapsed": false
   },
   "outputs": [
    {
     "data": {
      "text/plain": [
       "0.078088062845615341"
      ]
     },
     "execution_count": 73,
     "metadata": {},
     "output_type": "execute_result"
    }
   ],
   "source": [
    "summary.TESEX.corr(summary.t070101)"
   ]
  },
  {
   "cell_type": "markdown",
   "metadata": {},
   "source": [
    "##Civic Obligations"
   ]
  },
  {
   "cell_type": "markdown",
   "metadata": {},
   "source": [
    "###By Age"
   ]
  },
  {
   "cell_type": "code",
   "execution_count": 74,
   "metadata": {
    "collapsed": false
   },
   "outputs": [
    {
     "data": {
      "text/plain": [
       "<matplotlib.axes._subplots.AxesSubplot at 0x107d7c9b0>"
      ]
     },
     "execution_count": 74,
     "metadata": {},
     "output_type": "execute_result"
    },
    {
     "data": {
      "image/png": "[encoded data removed]",
      "text/plain": [
       "<matplotlib.figure.Figure at 0x107d8b160>"
      ]
     },
     "metadata": {},
     "output_type": "display_data"
    }
   ],
   "source": [
    "summary_civic = summary.loc[:, [\"age_band\", \"t100201\", \"TUFINLWGT\", \"TESEX\"]]\n",
    "summary_civic = summary_civic.rename(columns={\"t100201\": \"minutes\", \"TUFINLWGT\": \"weight\"})\n",
    "summary_civic[\"weighted_minutes\"] = summary_civic.weight * summary_civic.minutes\n",
    "civic_by_age = summary_civic.groupby(\"age_band\").aggregate(np.sum)\n",
    "civic_by_age[\"mean_minutes\"] = civic_by_age.weighted_minutes / civic_by_age.weight\n",
    "civic_by_age.mean_minutes.plot()"
   ]
  },
  {
   "cell_type": "markdown",
   "metadata": {},
   "source": [
    "A big spike in people's 60's and 70's of civic duty"
   ]
  },
  {
   "cell_type": "code",
   "execution_count": 75,
   "metadata": {
    "collapsed": false
   },
   "outputs": [
    {
     "data": {
      "text/plain": [
       "0.0089315732505438946"
      ]
     },
     "execution_count": 75,
     "metadata": {},
     "output_type": "execute_result"
    }
   ],
   "source": [
    "summary.TEAGE.corr(summary.t100201)"
   ]
  },
  {
   "cell_type": "markdown",
   "metadata": {},
   "source": [
    "### By Gender"
   ]
  },
  {
   "cell_type": "code",
   "execution_count": 76,
   "metadata": {
    "collapsed": false
   },
   "outputs": [
    {
     "data": {
      "text/plain": [
       "<matplotlib.axes._subplots.AxesSubplot at 0x107dee320>"
      ]
     },
     "execution_count": 76,
     "metadata": {},
     "output_type": "execute_result"
    },
    {
     "data": {
      "image/png": "[encoded data removed]",
      "text/plain": [
       "<matplotlib.figure.Figure at 0x107e84ef0>"
      ]
     },
     "metadata": {},
     "output_type": "display_data"
    }
   ],
   "source": [
    "civic_by_sex = summary_civic.groupby(\"TESEX\").aggregate(np.sum)\n",
    "civic_by_sex[\"mean_minutes\"] = civic_by_sex.weighted_minutes / civic_by_sex.weight\n",
    "civic_by_sex.mean_minutes.plot()"
   ]
  },
  {
   "cell_type": "markdown",
   "metadata": {},
   "source": [
    "Not sure if I trust this graph"
   ]
  },
  {
   "cell_type": "code",
   "execution_count": 77,
   "metadata": {
    "collapsed": false
   },
   "outputs": [
    {
     "data": {
      "text/plain": [
       "-0.01223412545755094"
      ]
     },
     "execution_count": 77,
     "metadata": {},
     "output_type": "execute_result"
    }
   ],
   "source": [
    "summary.TESEX.corr(summary.t100201)"
   ]
  },
  {
   "cell_type": "markdown",
   "metadata": {},
   "source": [
    "##Socializing"
   ]
  },
  {
   "cell_type": "markdown",
   "metadata": {},
   "source": [
    "###By Age"
   ]
  },
  {
   "cell_type": "code",
   "execution_count": 78,
   "metadata": {
    "collapsed": false
   },
   "outputs": [
    {
     "data": {
      "text/plain": [
       "<matplotlib.axes._subplots.AxesSubplot at 0x107dbe4e0>"
      ]
     },
     "execution_count": 78,
     "metadata": {},
     "output_type": "execute_result"
    },
    {
     "data": {
      "image/png": "[encoded data removed]",
      "text/plain": [
       "<matplotlib.figure.Figure at 0x107eb7438>"
      ]
     },
     "metadata": {},
     "output_type": "display_data"
    }
   ],
   "source": [
    "summary_socialize = summary.loc[:, [\"age_band\", \"t120101\", \"TUFINLWGT\", \"TESEX\"]]\n",
    "summary_socialize = summary_socialize.rename(columns={\"t120101\": \"minutes\", \"TUFINLWGT\": \"weight\"})\n",
    "summary_socialize[\"weighted_minutes\"] = summary_socialize.weight * summary_socialize.minutes\n",
    "socialize_by_age = summary_socialize.groupby(\"age_band\").aggregate(np.sum)\n",
    "socialize_by_age[\"mean_minutes\"] = socialize_by_age.weighted_minutes / socialize_by_age.weight\n",
    "socialize_by_age.mean_minutes.plot()"
   ]
  },
  {
   "cell_type": "code",
   "execution_count": 79,
   "metadata": {
    "collapsed": false
   },
   "outputs": [
    {
     "data": {
      "text/plain": [
       "-0.023059100693610154"
      ]
     },
     "execution_count": 79,
     "metadata": {},
     "output_type": "execute_result"
    }
   ],
   "source": [
    "summary.TEAGE.corr(summary.t120101)"
   ]
  },
  {
   "cell_type": "markdown",
   "metadata": {},
   "source": [
    "### By Gender"
   ]
  },
  {
   "cell_type": "code",
   "execution_count": 80,
   "metadata": {
    "collapsed": false
   },
   "outputs": [
    {
     "data": {
      "text/plain": [
       "<matplotlib.axes._subplots.AxesSubplot at 0x109173b70>"
      ]
     },
     "execution_count": 80,
     "metadata": {},
     "output_type": "execute_result"
    },
    {
     "data": {
      "image/png": "[encoded data removed]",
      "text/plain": [
       "<matplotlib.figure.Figure at 0x1079bcac8>"
      ]
     },
     "metadata": {},
     "output_type": "display_data"
    }
   ],
   "source": [
    "socialize_by_sex = summary_socialize.groupby(\"TESEX\").aggregate(np.sum)\n",
    "socialize_by_sex[\"mean_minutes\"] = socialize_by_sex.weighted_minutes / socialize_by_sex.weight\n",
    "socialize_by_sex.mean_minutes.plot(kind=\"bar\")"
   ]
  },
  {
   "cell_type": "markdown",
   "metadata": {},
   "source": [
    "An average difference of 8 minutes"
   ]
  },
  {
   "cell_type": "code",
   "execution_count": 81,
   "metadata": {
    "collapsed": false
   },
   "outputs": [
    {
     "data": {
      "text/plain": [
       "0.036011334397270937"
      ]
     },
     "execution_count": 81,
     "metadata": {},
     "output_type": "execute_result"
    }
   ],
   "source": [
    "summary.TESEX.corr(summary.t120101)"
   ]
  },
  {
   "cell_type": "markdown",
   "metadata": {},
   "source": [
    "## Religious activities"
   ]
  },
  {
   "cell_type": "markdown",
   "metadata": {},
   "source": [
    "###By Age"
   ]
  },
  {
   "cell_type": "code",
   "execution_count": 82,
   "metadata": {
    "collapsed": false
   },
   "outputs": [
    {
     "data": {
      "text/plain": [
       "<matplotlib.axes._subplots.AxesSubplot at 0x107eb2320>"
      ]
     },
     "execution_count": 82,
     "metadata": {},
     "output_type": "execute_result"
    },
    {
     "data": {
      "image/png": "[encoded data removed]",
      "text/plain": [
       "<matplotlib.figure.Figure at 0x109153550>"
      ]
     },
     "metadata": {},
     "output_type": "display_data"
    }
   ],
   "source": [
    "summary_religious = summary.loc[:, [\"age_band\", \"t140101\", \"TUFINLWGT\", \"TESEX\"]]\n",
    "summary_religious = summary_religious.rename(columns={\"t140101\": \"minutes\", \"TUFINLWGT\": \"weight\"})\n",
    "summary_religious[\"weighted_minutes\"] = summary_religious.weight * summary_religious.minutes\n",
    "religious_by_age = summary_religious.groupby(\"age_band\").aggregate(np.sum)\n",
    "religious_by_age[\"mean_minutes\"] = religious_by_age.weighted_minutes / religious_by_age.weight\n",
    "religious_by_age.mean_minutes.plot()"
   ]
  },
  {
   "cell_type": "code",
   "execution_count": 83,
   "metadata": {
    "collapsed": false
   },
   "outputs": [
    {
     "data": {
      "text/plain": [
       "0.060949760545153379"
      ]
     },
     "execution_count": 83,
     "metadata": {},
     "output_type": "execute_result"
    }
   ],
   "source": [
    "summary.TEAGE.corr(summary.t140101)"
   ]
  },
  {
   "cell_type": "markdown",
   "metadata": {},
   "source": [
    "### By Gender"
   ]
  },
  {
   "cell_type": "code",
   "execution_count": 84,
   "metadata": {
    "collapsed": true
   },
   "outputs": [],
   "source": [
    "religious_by_sex = summary_religious.groupby(\"TESEX\").aggregate(np.sum)\n"
   ]
  },
  {
   "cell_type": "code",
   "execution_count": 87,
   "metadata": {
    "collapsed": false
   },
   "outputs": [
    {
     "data": {
      "text/plain": [
       "<matplotlib.axes._subplots.AxesSubplot at 0x110700400>"
      ]
     },
     "execution_count": 87,
     "metadata": {},
     "output_type": "execute_result"
    },
    {
     "data": {
      "image/png": "[encoded data removed]",
      "text/plain": [
       "<matplotlib.figure.Figure at 0x10719f6d8>"
      ]
     },
     "metadata": {},
     "output_type": "display_data"
    }
   ],
   "source": [
    "religious_by_sex[\"mean_minutes\"] = religious_by_sex.weighted_minutes / religious_by_sex.weight\n",
    "religious_by_sex.mean_minutes.plot()"
   ]
  },
  {
   "cell_type": "code",
   "execution_count": 88,
   "metadata": {
    "collapsed": false
   },
   "outputs": [
    {
     "data": {
      "text/plain": [
       "0.032258850788445523"
      ]
     },
     "execution_count": 88,
     "metadata": {},
     "output_type": "execute_result"
    }
   ],
   "source": [
    "summary.TESEX.corr(summary.t140101)"
   ]
  },
  {
   "cell_type": "markdown",
   "metadata": {},
   "source": [
    "## Volunteer (building)"
   ]
  },
  {
   "cell_type": "markdown",
   "metadata": {},
   "source": [
    "###By Age"
   ]
  },
  {
   "cell_type": "code",
   "execution_count": 89,
   "metadata": {
    "collapsed": false
   },
   "outputs": [
    {
     "data": {
      "text/plain": [
       "<matplotlib.axes._subplots.AxesSubplot at 0x1108d9978>"
      ]
     },
     "execution_count": 89,
     "metadata": {},
     "output_type": "execute_result"
    },
    {
     "data": {
      "image/png": "[encoded data removed]",
      "text/plain": [
       "<matplotlib.figure.Figure at 0x1106d1860>"
      ]
     },
     "metadata": {},
     "output_type": "display_data"
    }
   ],
   "source": [
    "summary_volunteer = summary.loc[:, [\"age_band\", \"t150301\", \"TUFINLWGT\", \"TESEX\"]]\n",
    "summary_volunteer = summary_volunteer.rename(columns={\"t150301\": \"minutes\", \"TUFINLWGT\": \"weight\"})\n",
    "summary_volunteer[\"weighted_minutes\"] = summary_volunteer.weight * summary_volunteer.minutes\n",
    "volunteer_by_age = summary_volunteer.groupby(\"age_band\").aggregate(np.sum)\n",
    "volunteer_by_age[\"mean_minutes\"] = volunteer_by_age.weighted_minutes / volunteer_by_age.weight\n",
    "volunteer_by_age.mean_minutes.plot(kind = \"bar\")"
   ]
  },
  {
   "cell_type": "code",
   "execution_count": 90,
   "metadata": {
    "collapsed": false,
    "scrolled": true
   },
   "outputs": [
    {
     "data": {
      "text/plain": [
       "0.0040402603624437403"
      ]
     },
     "execution_count": 90,
     "metadata": {},
     "output_type": "execute_result"
    }
   ],
   "source": [
    "summary.TEAGE.corr(summary.t150301)"
   ]
  },
  {
   "cell_type": "markdown",
   "metadata": {},
   "source": [
    "###By Gender"
   ]
  },
  {
   "cell_type": "code",
   "execution_count": 91,
   "metadata": {
    "collapsed": false
   },
   "outputs": [
    {
     "data": {
      "text/plain": [
       "<matplotlib.axes._subplots.AxesSubplot at 0x1109c0eb8>"
      ]
     },
     "execution_count": 91,
     "metadata": {},
     "output_type": "execute_result"
    },
    {
     "data": {
      "image/png": "[encoded data removed]",
      "text/plain": [
       "<matplotlib.figure.Figure at 0x1106e18d0>"
      ]
     },
     "metadata": {},
     "output_type": "display_data"
    }
   ],
   "source": [
    "volunteer_by_sex = summary_volunteer.groupby(\"TESEX\").aggregate(np.sum)\n",
    "volunteer_by_sex[\"mean_minutes\"] = volunteer_by_sex.weighted_minutes / volunteer_by_sex.weight\n",
    "volunteer_by_sex.mean_minutes.plot(kind=\"bar\")"
   ]
  },
  {
   "cell_type": "markdown",
   "metadata": {},
   "source": [
    "Very small difference here (.09)"
   ]
  },
  {
   "cell_type": "code",
   "execution_count": 92,
   "metadata": {
    "collapsed": false
   },
   "outputs": [
    {
     "data": {
      "text/plain": [
       "-0.010437797804251473"
      ]
     },
     "execution_count": 92,
     "metadata": {},
     "output_type": "execute_result"
    }
   ],
   "source": [
    "summary.TESEX.corr(summary.t150301)"
   ]
  },
  {
   "cell_type": "code",
   "execution_count": null,
   "metadata": {
    "collapsed": true
   },
   "outputs": [],
   "source": []
  },
  {
   "cell_type": "code",
   "execution_count": null,
   "metadata": {
    "collapsed": true
   },
   "outputs": [],
   "source": []
  }
 ],
 "metadata": {
  "kernelspec": {
   "display_name": "Python 3",
   "language": "python",
   "name": "python3"
  },
  "language_info": {
   "codemirror_mode": {
    "name": "ipython",
    "version": 3
   },
   "file_extension": ".py",
   "mimetype": "text/x-python",
   "name": "python",
   "nbconvert_exporter": "python",
   "pygments_lexer": "ipython3",
   "version": "3.4.3"
  }
 },
 "nbformat": 4,
 "nbformat_minor": 0
}
