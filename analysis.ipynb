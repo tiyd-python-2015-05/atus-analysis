{
 "cells": [
  {
   "cell_type": "code",
   "execution_count": 345,
   "metadata": {
    "collapsed": true
   },
   "outputs": [],
   "source": [
    "import pandas as pd\n",
    "import matplotlib.pyplot as plt\n",
    "import numpy as np\n",
    "import re"
   ]
  },
  {
   "cell_type": "code",
   "execution_count": 283,
   "metadata": {
    "collapsed": true
   },
   "outputs": [],
   "source": [
    "%matplotlib inline"
   ]
  },
  {
   "cell_type": "code",
   "execution_count": 284,
   "metadata": {
    "collapsed": false
   },
   "outputs": [],
   "source": [
    "data = pd.read_csv(\"atusdata/atussum_2013.dat\")"
   ]
  },
  {
   "cell_type": "code",
   "execution_count": 285,
   "metadata": {
    "collapsed": false
   },
   "outputs": [
    {
     "data": {
      "text/html": [
       "<div style=\"max-height:1000px;max-width:1500px;overflow:auto;\">\n",
       "<table border=\"1\" class=\"dataframe\">\n",
       "  <thead>\n",
       "    <tr style=\"text-align: right;\">\n",
       "      <th></th>\n",
       "      <th>tucaseid</th>\n",
       "      <th>TUFINLWGT</th>\n",
       "      <th>TRYHHCHILD</th>\n",
       "      <th>TEAGE</th>\n",
       "      <th>TESEX</th>\n",
       "      <th>PEEDUCA</th>\n",
       "      <th>PTDTRACE</th>\n",
       "      <th>PEHSPNON</th>\n",
       "      <th>GTMETSTA</th>\n",
       "      <th>TELFS</th>\n",
       "      <th>...</th>\n",
       "      <th>t181501</th>\n",
       "      <th>t181599</th>\n",
       "      <th>t181601</th>\n",
       "      <th>t181801</th>\n",
       "      <th>t189999</th>\n",
       "      <th>t500101</th>\n",
       "      <th>t500103</th>\n",
       "      <th>t500105</th>\n",
       "      <th>t500106</th>\n",
       "      <th>t500107</th>\n",
       "    </tr>\n",
       "  </thead>\n",
       "  <tbody>\n",
       "    <tr>\n",
       "      <th>0</th>\n",
       "      <td>20130101130004</td>\n",
       "      <td>11899905.662034</td>\n",
       "      <td>12</td>\n",
       "      <td>22</td>\n",
       "      <td>2</td>\n",
       "      <td>40</td>\n",
       "      <td>8</td>\n",
       "      <td>2</td>\n",
       "      <td>1</td>\n",
       "      <td>5</td>\n",
       "      <td>...</td>\n",
       "      <td>0</td>\n",
       "      <td>0</td>\n",
       "      <td>0</td>\n",
       "      <td>0</td>\n",
       "      <td>0</td>\n",
       "      <td>0</td>\n",
       "      <td>0</td>\n",
       "      <td>0</td>\n",
       "      <td>0</td>\n",
       "      <td>0</td>\n",
       "    </tr>\n",
       "    <tr>\n",
       "      <th>1</th>\n",
       "      <td>20130101130112</td>\n",
       "      <td>4447638.009513</td>\n",
       "      <td>1</td>\n",
       "      <td>39</td>\n",
       "      <td>1</td>\n",
       "      <td>43</td>\n",
       "      <td>1</td>\n",
       "      <td>2</td>\n",
       "      <td>1</td>\n",
       "      <td>1</td>\n",
       "      <td>...</td>\n",
       "      <td>0</td>\n",
       "      <td>0</td>\n",
       "      <td>0</td>\n",
       "      <td>0</td>\n",
       "      <td>0</td>\n",
       "      <td>0</td>\n",
       "      <td>0</td>\n",
       "      <td>0</td>\n",
       "      <td>0</td>\n",
       "      <td>0</td>\n",
       "    </tr>\n",
       "    <tr>\n",
       "      <th>2</th>\n",
       "      <td>20130101130123</td>\n",
       "      <td>10377056.507734</td>\n",
       "      <td>-1</td>\n",
       "      <td>47</td>\n",
       "      <td>2</td>\n",
       "      <td>40</td>\n",
       "      <td>1</td>\n",
       "      <td>2</td>\n",
       "      <td>1</td>\n",
       "      <td>4</td>\n",
       "      <td>...</td>\n",
       "      <td>25</td>\n",
       "      <td>0</td>\n",
       "      <td>0</td>\n",
       "      <td>0</td>\n",
       "      <td>0</td>\n",
       "      <td>0</td>\n",
       "      <td>0</td>\n",
       "      <td>0</td>\n",
       "      <td>0</td>\n",
       "      <td>0</td>\n",
       "    </tr>\n",
       "    <tr>\n",
       "      <th>3</th>\n",
       "      <td>20130101130611</td>\n",
       "      <td>7731257.992805</td>\n",
       "      <td>-1</td>\n",
       "      <td>50</td>\n",
       "      <td>2</td>\n",
       "      <td>40</td>\n",
       "      <td>1</td>\n",
       "      <td>1</td>\n",
       "      <td>1</td>\n",
       "      <td>1</td>\n",
       "      <td>...</td>\n",
       "      <td>0</td>\n",
       "      <td>0</td>\n",
       "      <td>0</td>\n",
       "      <td>0</td>\n",
       "      <td>0</td>\n",
       "      <td>0</td>\n",
       "      <td>0</td>\n",
       "      <td>0</td>\n",
       "      <td>0</td>\n",
       "      <td>0</td>\n",
       "    </tr>\n",
       "    <tr>\n",
       "      <th>4</th>\n",
       "      <td>20130101130616</td>\n",
       "      <td>4725269.227067</td>\n",
       "      <td>-1</td>\n",
       "      <td>45</td>\n",
       "      <td>2</td>\n",
       "      <td>40</td>\n",
       "      <td>2</td>\n",
       "      <td>2</td>\n",
       "      <td>1</td>\n",
       "      <td>1</td>\n",
       "      <td>...</td>\n",
       "      <td>0</td>\n",
       "      <td>0</td>\n",
       "      <td>0</td>\n",
       "      <td>0</td>\n",
       "      <td>0</td>\n",
       "      <td>0</td>\n",
       "      <td>0</td>\n",
       "      <td>0</td>\n",
       "      <td>0</td>\n",
       "      <td>0</td>\n",
       "    </tr>\n",
       "  </tbody>\n",
       "</table>\n",
       "<p>5 rows × 413 columns</p>\n",
       "</div>"
      ],
      "text/plain": [
       "         tucaseid        TUFINLWGT  TRYHHCHILD  TEAGE  TESEX  PEEDUCA  \\\n",
       "0  20130101130004  11899905.662034          12     22      2       40   \n",
       "1  20130101130112   4447638.009513           1     39      1       43   \n",
       "2  20130101130123  10377056.507734          -1     47      2       40   \n",
       "3  20130101130611   7731257.992805          -1     50      2       40   \n",
       "4  20130101130616   4725269.227067          -1     45      2       40   \n",
       "\n",
       "   PTDTRACE  PEHSPNON  GTMETSTA  TELFS   ...     t181501  t181599  t181601  \\\n",
       "0         8         2         1      5   ...           0        0        0   \n",
       "1         1         2         1      1   ...           0        0        0   \n",
       "2         1         2         1      4   ...          25        0        0   \n",
       "3         1         1         1      1   ...           0        0        0   \n",
       "4         2         2         1      1   ...           0        0        0   \n",
       "\n",
       "   t181801  t189999  t500101  t500103  t500105  t500106  t500107  \n",
       "0        0        0        0        0        0        0        0  \n",
       "1        0        0        0        0        0        0        0  \n",
       "2        0        0        0        0        0        0        0  \n",
       "3        0        0        0        0        0        0        0  \n",
       "4        0        0        0        0        0        0        0  \n",
       "\n",
       "[5 rows x 413 columns]"
      ]
     },
     "execution_count": 285,
     "metadata": {},
     "output_type": "execute_result"
    }
   ],
   "source": [
    "data.head()"
   ]
  },
  {
   "cell_type": "code",
   "execution_count": 286,
   "metadata": {
    "collapsed": false
   },
   "outputs": [
    {
     "data": {
      "text/plain": [
       "Index(['tucaseid', 'TUFINLWGT', 'TRYHHCHILD', 'TEAGE', 'TESEX', 'PEEDUCA',\n",
       "       'PTDTRACE', 'PEHSPNON', 'GTMETSTA', 'TELFS'],\n",
       "      dtype='object')"
      ]
     },
     "execution_count": 286,
     "metadata": {},
     "output_type": "execute_result"
    }
   ],
   "source": [
    "data.columns[:10]"
   ]
  },
  {
   "cell_type": "code",
   "execution_count": 287,
   "metadata": {
    "collapsed": false
   },
   "outputs": [
    {
     "name": "stdout",
     "output_type": "stream",
     "text": [
      "<class 'pandas.core.frame.DataFrame'>\n",
      "Int64Index: 11385 entries, 0 to 11384\n",
      "Columns: 413 entries, tucaseid to t500107\n",
      "dtypes: float64(1), int64(412)\n",
      "memory usage: 36.0 MB\n"
     ]
    }
   ],
   "source": [
    "data.info()"
   ]
  },
  {
   "cell_type": "code",
   "execution_count": 288,
   "metadata": {
    "collapsed": true
   },
   "outputs": [],
   "source": [
    "adults = data.TEAGE >= 18"
   ]
  },
  {
   "cell_type": "code",
   "execution_count": 289,
   "metadata": {
    "collapsed": false
   },
   "outputs": [],
   "source": [
    "adults = data[adults]"
   ]
  },
  {
   "cell_type": "code",
   "execution_count": 290,
   "metadata": {
    "collapsed": false
   },
   "outputs": [
    {
     "name": "stdout",
     "output_type": "stream",
     "text": [
      "<class 'pandas.core.frame.DataFrame'>\n",
      "Int64Index: 10953 entries, 0 to 11384\n",
      "Columns: 413 entries, tucaseid to t500107\n",
      "dtypes: float64(1), int64(412)\n",
      "memory usage: 34.6 MB\n"
     ]
    }
   ],
   "source": [
    "adults.info()"
   ]
  },
  {
   "cell_type": "code",
   "execution_count": 291,
   "metadata": {
    "collapsed": false
   },
   "outputs": [
    {
     "name": "stderr",
     "output_type": "stream",
     "text": [
      "/Users/briandeshazer/tiy/atus-analysis/.direnv/python-3.4.3/lib/python3.4/site-packages/IPython/kernel/__main__.py:1: SettingWithCopyWarning: \n",
      "A value is trying to be set on a copy of a slice from a DataFrame.\n",
      "Try using .loc[row_indexer,col_indexer] = value instead\n",
      "\n",
      "See the the caveats in the documentation: http://pandas.pydata.org/pandas-docs/stable/indexing.html#indexing-view-versus-copy\n",
      "  if __name__ == '__main__':\n"
     ]
    }
   ],
   "source": [
    "adults['has_children'] = adults.TRCHILDNUM > 0"
   ]
  },
  {
   "cell_type": "code",
   "execution_count": 292,
   "metadata": {
    "collapsed": false
   },
   "outputs": [
    {
     "name": "stderr",
     "output_type": "stream",
     "text": [
      "/Users/briandeshazer/tiy/atus-analysis/.direnv/python-3.4.3/lib/python3.4/site-packages/pandas/core/indexing.py:407: SettingWithCopyWarning: \n",
      "A value is trying to be set on a copy of a slice from a DataFrame.\n",
      "Try using .loc[row_indexer,col_indexer] = value instead\n",
      "\n",
      "See the the caveats in the documentation: http://pandas.pydata.org/pandas-docs/stable/indexing.html#indexing-view-versus-copy\n",
      "  self.obj[item] = s\n"
     ]
    }
   ],
   "source": [
    "adults.ix[adults.has_children==True,'has_children'] = 'Yes'"
   ]
  },
  {
   "cell_type": "code",
   "execution_count": 293,
   "metadata": {
    "collapsed": false
   },
   "outputs": [
    {
     "name": "stderr",
     "output_type": "stream",
     "text": [
      "/Users/briandeshazer/tiy/atus-analysis/.direnv/python-3.4.3/lib/python3.4/site-packages/pandas/core/indexing.py:407: SettingWithCopyWarning: \n",
      "A value is trying to be set on a copy of a slice from a DataFrame.\n",
      "Try using .loc[row_indexer,col_indexer] = value instead\n",
      "\n",
      "See the the caveats in the documentation: http://pandas.pydata.org/pandas-docs/stable/indexing.html#indexing-view-versus-copy\n",
      "  self.obj[item] = s\n"
     ]
    }
   ],
   "source": [
    "adults.ix[adults.has_children==False,'has_children'] = 'No'"
   ]
  },
  {
   "cell_type": "code",
   "execution_count": 294,
   "metadata": {
    "collapsed": false
   },
   "outputs": [
    {
     "data": {
      "text/html": [
       "<div style=\"max-height:1000px;max-width:1500px;overflow:auto;\">\n",
       "<table border=\"1\" class=\"dataframe\">\n",
       "  <thead>\n",
       "    <tr style=\"text-align: right;\">\n",
       "      <th></th>\n",
       "      <th>tucaseid</th>\n",
       "      <th>TUFINLWGT</th>\n",
       "      <th>TRYHHCHILD</th>\n",
       "      <th>TEAGE</th>\n",
       "      <th>TESEX</th>\n",
       "      <th>PEEDUCA</th>\n",
       "      <th>PTDTRACE</th>\n",
       "      <th>PEHSPNON</th>\n",
       "      <th>GTMETSTA</th>\n",
       "      <th>TELFS</th>\n",
       "      <th>...</th>\n",
       "      <th>t181599</th>\n",
       "      <th>t181601</th>\n",
       "      <th>t181801</th>\n",
       "      <th>t189999</th>\n",
       "      <th>t500101</th>\n",
       "      <th>t500103</th>\n",
       "      <th>t500105</th>\n",
       "      <th>t500106</th>\n",
       "      <th>t500107</th>\n",
       "      <th>has_children</th>\n",
       "    </tr>\n",
       "  </thead>\n",
       "  <tbody>\n",
       "    <tr>\n",
       "      <th>0</th>\n",
       "      <td>20130101130004</td>\n",
       "      <td>11899905.662034</td>\n",
       "      <td>12</td>\n",
       "      <td>22</td>\n",
       "      <td>2</td>\n",
       "      <td>40</td>\n",
       "      <td>8</td>\n",
       "      <td>2</td>\n",
       "      <td>1</td>\n",
       "      <td>5</td>\n",
       "      <td>...</td>\n",
       "      <td>0</td>\n",
       "      <td>0</td>\n",
       "      <td>0</td>\n",
       "      <td>0</td>\n",
       "      <td>0</td>\n",
       "      <td>0</td>\n",
       "      <td>0</td>\n",
       "      <td>0</td>\n",
       "      <td>0</td>\n",
       "      <td>Yes</td>\n",
       "    </tr>\n",
       "    <tr>\n",
       "      <th>1</th>\n",
       "      <td>20130101130112</td>\n",
       "      <td>4447638.009513</td>\n",
       "      <td>1</td>\n",
       "      <td>39</td>\n",
       "      <td>1</td>\n",
       "      <td>43</td>\n",
       "      <td>1</td>\n",
       "      <td>2</td>\n",
       "      <td>1</td>\n",
       "      <td>1</td>\n",
       "      <td>...</td>\n",
       "      <td>0</td>\n",
       "      <td>0</td>\n",
       "      <td>0</td>\n",
       "      <td>0</td>\n",
       "      <td>0</td>\n",
       "      <td>0</td>\n",
       "      <td>0</td>\n",
       "      <td>0</td>\n",
       "      <td>0</td>\n",
       "      <td>Yes</td>\n",
       "    </tr>\n",
       "    <tr>\n",
       "      <th>2</th>\n",
       "      <td>20130101130123</td>\n",
       "      <td>10377056.507734</td>\n",
       "      <td>-1</td>\n",
       "      <td>47</td>\n",
       "      <td>2</td>\n",
       "      <td>40</td>\n",
       "      <td>1</td>\n",
       "      <td>2</td>\n",
       "      <td>1</td>\n",
       "      <td>4</td>\n",
       "      <td>...</td>\n",
       "      <td>0</td>\n",
       "      <td>0</td>\n",
       "      <td>0</td>\n",
       "      <td>0</td>\n",
       "      <td>0</td>\n",
       "      <td>0</td>\n",
       "      <td>0</td>\n",
       "      <td>0</td>\n",
       "      <td>0</td>\n",
       "      <td>No</td>\n",
       "    </tr>\n",
       "    <tr>\n",
       "      <th>3</th>\n",
       "      <td>20130101130611</td>\n",
       "      <td>7731257.992805</td>\n",
       "      <td>-1</td>\n",
       "      <td>50</td>\n",
       "      <td>2</td>\n",
       "      <td>40</td>\n",
       "      <td>1</td>\n",
       "      <td>1</td>\n",
       "      <td>1</td>\n",
       "      <td>1</td>\n",
       "      <td>...</td>\n",
       "      <td>0</td>\n",
       "      <td>0</td>\n",
       "      <td>0</td>\n",
       "      <td>0</td>\n",
       "      <td>0</td>\n",
       "      <td>0</td>\n",
       "      <td>0</td>\n",
       "      <td>0</td>\n",
       "      <td>0</td>\n",
       "      <td>No</td>\n",
       "    </tr>\n",
       "    <tr>\n",
       "      <th>4</th>\n",
       "      <td>20130101130616</td>\n",
       "      <td>4725269.227067</td>\n",
       "      <td>-1</td>\n",
       "      <td>45</td>\n",
       "      <td>2</td>\n",
       "      <td>40</td>\n",
       "      <td>2</td>\n",
       "      <td>2</td>\n",
       "      <td>1</td>\n",
       "      <td>1</td>\n",
       "      <td>...</td>\n",
       "      <td>0</td>\n",
       "      <td>0</td>\n",
       "      <td>0</td>\n",
       "      <td>0</td>\n",
       "      <td>0</td>\n",
       "      <td>0</td>\n",
       "      <td>0</td>\n",
       "      <td>0</td>\n",
       "      <td>0</td>\n",
       "      <td>No</td>\n",
       "    </tr>\n",
       "  </tbody>\n",
       "</table>\n",
       "<p>5 rows × 414 columns</p>\n",
       "</div>"
      ],
      "text/plain": [
       "         tucaseid        TUFINLWGT  TRYHHCHILD  TEAGE  TESEX  PEEDUCA  \\\n",
       "0  20130101130004  11899905.662034          12     22      2       40   \n",
       "1  20130101130112   4447638.009513           1     39      1       43   \n",
       "2  20130101130123  10377056.507734          -1     47      2       40   \n",
       "3  20130101130611   7731257.992805          -1     50      2       40   \n",
       "4  20130101130616   4725269.227067          -1     45      2       40   \n",
       "\n",
       "   PTDTRACE  PEHSPNON  GTMETSTA  TELFS      ...       t181599  t181601  \\\n",
       "0         8         2         1      5      ...             0        0   \n",
       "1         1         2         1      1      ...             0        0   \n",
       "2         1         2         1      4      ...             0        0   \n",
       "3         1         1         1      1      ...             0        0   \n",
       "4         2         2         1      1      ...             0        0   \n",
       "\n",
       "   t181801  t189999  t500101  t500103  t500105  t500106  t500107  has_children  \n",
       "0        0        0        0        0        0        0        0           Yes  \n",
       "1        0        0        0        0        0        0        0           Yes  \n",
       "2        0        0        0        0        0        0        0            No  \n",
       "3        0        0        0        0        0        0        0            No  \n",
       "4        0        0        0        0        0        0        0            No  \n",
       "\n",
       "[5 rows x 414 columns]"
      ]
     },
     "execution_count": 294,
     "metadata": {},
     "output_type": "execute_result"
    }
   ],
   "source": [
    "adults.head()"
   ]
  },
  {
   "cell_type": "code",
   "execution_count": 295,
   "metadata": {
    "collapsed": false
   },
   "outputs": [
    {
     "name": "stderr",
     "output_type": "stream",
     "text": [
      "/Users/briandeshazer/tiy/atus-analysis/.direnv/python-3.4.3/lib/python3.4/site-packages/IPython/kernel/__main__.py:1: SettingWithCopyWarning: \n",
      "A value is trying to be set on a copy of a slice from a DataFrame.\n",
      "Try using .loc[row_indexer,col_indexer] = value instead\n",
      "\n",
      "See the the caveats in the documentation: http://pandas.pydata.org/pandas-docs/stable/indexing.html#indexing-view-versus-copy\n",
      "  if __name__ == '__main__':\n"
     ]
    }
   ],
   "source": [
    "adults['sex'] = adults.pop('TESEX')"
   ]
  },
  {
   "cell_type": "code",
   "execution_count": 296,
   "metadata": {
    "collapsed": false
   },
   "outputs": [
    {
     "name": "stderr",
     "output_type": "stream",
     "text": [
      "/Users/briandeshazer/tiy/atus-analysis/.direnv/python-3.4.3/lib/python3.4/site-packages/pandas/core/indexing.py:407: SettingWithCopyWarning: \n",
      "A value is trying to be set on a copy of a slice from a DataFrame.\n",
      "Try using .loc[row_indexer,col_indexer] = value instead\n",
      "\n",
      "See the the caveats in the documentation: http://pandas.pydata.org/pandas-docs/stable/indexing.html#indexing-view-versus-copy\n",
      "  self.obj[item] = s\n"
     ]
    }
   ],
   "source": [
    "adults.ix[adults.sex == 2,'sex'] = 'F'"
   ]
  },
  {
   "cell_type": "code",
   "execution_count": 297,
   "metadata": {
    "collapsed": false
   },
   "outputs": [
    {
     "name": "stderr",
     "output_type": "stream",
     "text": [
      "/Users/briandeshazer/tiy/atus-analysis/.direnv/python-3.4.3/lib/python3.4/site-packages/pandas/core/indexing.py:407: SettingWithCopyWarning: \n",
      "A value is trying to be set on a copy of a slice from a DataFrame.\n",
      "Try using .loc[row_indexer,col_indexer] = value instead\n",
      "\n",
      "See the the caveats in the documentation: http://pandas.pydata.org/pandas-docs/stable/indexing.html#indexing-view-versus-copy\n",
      "  self.obj[item] = s\n"
     ]
    }
   ],
   "source": [
    "adults.ix[adults.sex == 1,'sex'] = 'M'"
   ]
  },
  {
   "cell_type": "code",
   "execution_count": 298,
   "metadata": {
    "collapsed": false
   },
   "outputs": [
    {
     "data": {
      "text/html": [
       "<div style=\"max-height:1000px;max-width:1500px;overflow:auto;\">\n",
       "<table border=\"1\" class=\"dataframe\">\n",
       "  <thead>\n",
       "    <tr style=\"text-align: right;\">\n",
       "      <th></th>\n",
       "      <th>tucaseid</th>\n",
       "      <th>TUFINLWGT</th>\n",
       "      <th>TRYHHCHILD</th>\n",
       "      <th>TEAGE</th>\n",
       "      <th>PEEDUCA</th>\n",
       "      <th>PTDTRACE</th>\n",
       "      <th>PEHSPNON</th>\n",
       "      <th>GTMETSTA</th>\n",
       "      <th>TELFS</th>\n",
       "      <th>TEMJOT</th>\n",
       "      <th>...</th>\n",
       "      <th>t181601</th>\n",
       "      <th>t181801</th>\n",
       "      <th>t189999</th>\n",
       "      <th>t500101</th>\n",
       "      <th>t500103</th>\n",
       "      <th>t500105</th>\n",
       "      <th>t500106</th>\n",
       "      <th>t500107</th>\n",
       "      <th>has_children</th>\n",
       "      <th>sex</th>\n",
       "    </tr>\n",
       "  </thead>\n",
       "  <tbody>\n",
       "    <tr>\n",
       "      <th>0</th>\n",
       "      <td>20130101130004</td>\n",
       "      <td>11899905.662034</td>\n",
       "      <td>12</td>\n",
       "      <td>22</td>\n",
       "      <td>40</td>\n",
       "      <td>8</td>\n",
       "      <td>2</td>\n",
       "      <td>1</td>\n",
       "      <td>5</td>\n",
       "      <td>-1</td>\n",
       "      <td>...</td>\n",
       "      <td>0</td>\n",
       "      <td>0</td>\n",
       "      <td>0</td>\n",
       "      <td>0</td>\n",
       "      <td>0</td>\n",
       "      <td>0</td>\n",
       "      <td>0</td>\n",
       "      <td>0</td>\n",
       "      <td>Yes</td>\n",
       "      <td>F</td>\n",
       "    </tr>\n",
       "    <tr>\n",
       "      <th>1</th>\n",
       "      <td>20130101130112</td>\n",
       "      <td>4447638.009513</td>\n",
       "      <td>1</td>\n",
       "      <td>39</td>\n",
       "      <td>43</td>\n",
       "      <td>1</td>\n",
       "      <td>2</td>\n",
       "      <td>1</td>\n",
       "      <td>1</td>\n",
       "      <td>2</td>\n",
       "      <td>...</td>\n",
       "      <td>0</td>\n",
       "      <td>0</td>\n",
       "      <td>0</td>\n",
       "      <td>0</td>\n",
       "      <td>0</td>\n",
       "      <td>0</td>\n",
       "      <td>0</td>\n",
       "      <td>0</td>\n",
       "      <td>Yes</td>\n",
       "      <td>M</td>\n",
       "    </tr>\n",
       "    <tr>\n",
       "      <th>2</th>\n",
       "      <td>20130101130123</td>\n",
       "      <td>10377056.507734</td>\n",
       "      <td>-1</td>\n",
       "      <td>47</td>\n",
       "      <td>40</td>\n",
       "      <td>1</td>\n",
       "      <td>2</td>\n",
       "      <td>1</td>\n",
       "      <td>4</td>\n",
       "      <td>-1</td>\n",
       "      <td>...</td>\n",
       "      <td>0</td>\n",
       "      <td>0</td>\n",
       "      <td>0</td>\n",
       "      <td>0</td>\n",
       "      <td>0</td>\n",
       "      <td>0</td>\n",
       "      <td>0</td>\n",
       "      <td>0</td>\n",
       "      <td>No</td>\n",
       "      <td>F</td>\n",
       "    </tr>\n",
       "    <tr>\n",
       "      <th>3</th>\n",
       "      <td>20130101130611</td>\n",
       "      <td>7731257.992805</td>\n",
       "      <td>-1</td>\n",
       "      <td>50</td>\n",
       "      <td>40</td>\n",
       "      <td>1</td>\n",
       "      <td>1</td>\n",
       "      <td>1</td>\n",
       "      <td>1</td>\n",
       "      <td>2</td>\n",
       "      <td>...</td>\n",
       "      <td>0</td>\n",
       "      <td>0</td>\n",
       "      <td>0</td>\n",
       "      <td>0</td>\n",
       "      <td>0</td>\n",
       "      <td>0</td>\n",
       "      <td>0</td>\n",
       "      <td>0</td>\n",
       "      <td>No</td>\n",
       "      <td>F</td>\n",
       "    </tr>\n",
       "    <tr>\n",
       "      <th>4</th>\n",
       "      <td>20130101130616</td>\n",
       "      <td>4725269.227067</td>\n",
       "      <td>-1</td>\n",
       "      <td>45</td>\n",
       "      <td>40</td>\n",
       "      <td>2</td>\n",
       "      <td>2</td>\n",
       "      <td>1</td>\n",
       "      <td>1</td>\n",
       "      <td>1</td>\n",
       "      <td>...</td>\n",
       "      <td>0</td>\n",
       "      <td>0</td>\n",
       "      <td>0</td>\n",
       "      <td>0</td>\n",
       "      <td>0</td>\n",
       "      <td>0</td>\n",
       "      <td>0</td>\n",
       "      <td>0</td>\n",
       "      <td>No</td>\n",
       "      <td>F</td>\n",
       "    </tr>\n",
       "  </tbody>\n",
       "</table>\n",
       "<p>5 rows × 414 columns</p>\n",
       "</div>"
      ],
      "text/plain": [
       "         tucaseid        TUFINLWGT  TRYHHCHILD  TEAGE  PEEDUCA  PTDTRACE  \\\n",
       "0  20130101130004  11899905.662034          12     22       40         8   \n",
       "1  20130101130112   4447638.009513           1     39       43         1   \n",
       "2  20130101130123  10377056.507734          -1     47       40         1   \n",
       "3  20130101130611   7731257.992805          -1     50       40         1   \n",
       "4  20130101130616   4725269.227067          -1     45       40         2   \n",
       "\n",
       "   PEHSPNON  GTMETSTA  TELFS  TEMJOT ...   t181601  t181801  t189999  t500101  \\\n",
       "0         2         1      5      -1 ...         0        0        0        0   \n",
       "1         2         1      1       2 ...         0        0        0        0   \n",
       "2         2         1      4      -1 ...         0        0        0        0   \n",
       "3         1         1      1       2 ...         0        0        0        0   \n",
       "4         2         1      1       1 ...         0        0        0        0   \n",
       "\n",
       "   t500103  t500105  t500106  t500107  has_children  sex  \n",
       "0        0        0        0        0           Yes    F  \n",
       "1        0        0        0        0           Yes    M  \n",
       "2        0        0        0        0            No    F  \n",
       "3        0        0        0        0            No    F  \n",
       "4        0        0        0        0            No    F  \n",
       "\n",
       "[5 rows x 414 columns]"
      ]
     },
     "execution_count": 298,
     "metadata": {},
     "output_type": "execute_result"
    }
   ],
   "source": [
    "adults.head()"
   ]
  },
  {
   "cell_type": "code",
   "execution_count": 300,
   "metadata": {
    "collapsed": false
   },
   "outputs": [
    {
     "name": "stderr",
     "output_type": "stream",
     "text": [
      "/Users/briandeshazer/tiy/atus-analysis/.direnv/python-3.4.3/lib/python3.4/site-packages/IPython/kernel/__main__.py:1: SettingWithCopyWarning: \n",
      "A value is trying to be set on a copy of a slice from a DataFrame.\n",
      "Try using .loc[row_indexer,col_indexer] = value instead\n",
      "\n",
      "See the the caveats in the documentation: http://pandas.pydata.org/pandas-docs/stable/indexing.html#indexing-view-versus-copy\n",
      "  if __name__ == '__main__':\n"
     ]
    }
   ],
   "source": [
    "adults['wk_wage'] = adults.pop('TRERNWA')"
   ]
  },
  {
   "cell_type": "code",
   "execution_count": 301,
   "metadata": {
    "collapsed": false
   },
   "outputs": [],
   "source": [
    "adults = adults[adults.wk_wage != -1]"
   ]
  },
  {
   "cell_type": "code",
   "execution_count": 302,
   "metadata": {
    "collapsed": false
   },
   "outputs": [
    {
     "name": "stdout",
     "output_type": "stream",
     "text": [
      "<class 'pandas.core.frame.DataFrame'>\n",
      "Int64Index: 5986 entries, 1 to 11383\n",
      "Columns: 414 entries, tucaseid to wk_wage\n",
      "dtypes: float64(1), int64(411), object(2)\n",
      "memory usage: 19.0+ MB\n"
     ]
    }
   ],
   "source": [
    "adults.info()"
   ]
  },
  {
   "cell_type": "code",
   "execution_count": 303,
   "metadata": {
    "collapsed": false
   },
   "outputs": [
    {
     "name": "stderr",
     "output_type": "stream",
     "text": [
      "/Users/briandeshazer/tiy/atus-analysis/.direnv/python-3.4.3/lib/python3.4/site-packages/IPython/kernel/__main__.py:1: SettingWithCopyWarning: \n",
      "A value is trying to be set on a copy of a slice from a DataFrame.\n",
      "Try using .loc[row_indexer,col_indexer] = value instead\n",
      "\n",
      "See the the caveats in the documentation: http://pandas.pydata.org/pandas-docs/stable/indexing.html#indexing-view-versus-copy\n",
      "  if __name__ == '__main__':\n"
     ]
    }
   ],
   "source": [
    "adults['wk_wage'] = adults.wk_wage / 100"
   ]
  },
  {
   "cell_type": "code",
   "execution_count": 304,
   "metadata": {
    "collapsed": false
   },
   "outputs": [
    {
     "data": {
      "text/html": [
       "<div style=\"max-height:1000px;max-width:1500px;overflow:auto;\">\n",
       "<table border=\"1\" class=\"dataframe\">\n",
       "  <thead>\n",
       "    <tr style=\"text-align: right;\">\n",
       "      <th></th>\n",
       "      <th>tucaseid</th>\n",
       "      <th>TUFINLWGT</th>\n",
       "      <th>TRYHHCHILD</th>\n",
       "      <th>TEAGE</th>\n",
       "      <th>PEEDUCA</th>\n",
       "      <th>PTDTRACE</th>\n",
       "      <th>PEHSPNON</th>\n",
       "      <th>GTMETSTA</th>\n",
       "      <th>TELFS</th>\n",
       "      <th>TEMJOT</th>\n",
       "      <th>...</th>\n",
       "      <th>t181801</th>\n",
       "      <th>t189999</th>\n",
       "      <th>t500101</th>\n",
       "      <th>t500103</th>\n",
       "      <th>t500105</th>\n",
       "      <th>t500106</th>\n",
       "      <th>t500107</th>\n",
       "      <th>has_children</th>\n",
       "      <th>sex</th>\n",
       "      <th>wk_wage</th>\n",
       "    </tr>\n",
       "  </thead>\n",
       "  <tbody>\n",
       "    <tr>\n",
       "      <th>1</th>\n",
       "      <td>20130101130112</td>\n",
       "      <td>4447638.009513</td>\n",
       "      <td>1</td>\n",
       "      <td>39</td>\n",
       "      <td>43</td>\n",
       "      <td>1</td>\n",
       "      <td>2</td>\n",
       "      <td>1</td>\n",
       "      <td>1</td>\n",
       "      <td>2</td>\n",
       "      <td>...</td>\n",
       "      <td>0</td>\n",
       "      <td>0</td>\n",
       "      <td>0</td>\n",
       "      <td>0</td>\n",
       "      <td>0</td>\n",
       "      <td>0</td>\n",
       "      <td>0</td>\n",
       "      <td>Yes</td>\n",
       "      <td>M</td>\n",
       "      <td>1730.76</td>\n",
       "    </tr>\n",
       "    <tr>\n",
       "      <th>3</th>\n",
       "      <td>20130101130611</td>\n",
       "      <td>7731257.992805</td>\n",
       "      <td>-1</td>\n",
       "      <td>50</td>\n",
       "      <td>40</td>\n",
       "      <td>1</td>\n",
       "      <td>1</td>\n",
       "      <td>1</td>\n",
       "      <td>1</td>\n",
       "      <td>2</td>\n",
       "      <td>...</td>\n",
       "      <td>0</td>\n",
       "      <td>0</td>\n",
       "      <td>0</td>\n",
       "      <td>0</td>\n",
       "      <td>0</td>\n",
       "      <td>0</td>\n",
       "      <td>0</td>\n",
       "      <td>No</td>\n",
       "      <td>F</td>\n",
       "      <td>865.38</td>\n",
       "    </tr>\n",
       "    <tr>\n",
       "      <th>4</th>\n",
       "      <td>20130101130616</td>\n",
       "      <td>4725269.227067</td>\n",
       "      <td>-1</td>\n",
       "      <td>45</td>\n",
       "      <td>40</td>\n",
       "      <td>2</td>\n",
       "      <td>2</td>\n",
       "      <td>1</td>\n",
       "      <td>1</td>\n",
       "      <td>1</td>\n",
       "      <td>...</td>\n",
       "      <td>0</td>\n",
       "      <td>0</td>\n",
       "      <td>0</td>\n",
       "      <td>0</td>\n",
       "      <td>0</td>\n",
       "      <td>0</td>\n",
       "      <td>0</td>\n",
       "      <td>No</td>\n",
       "      <td>F</td>\n",
       "      <td>230.00</td>\n",
       "    </tr>\n",
       "    <tr>\n",
       "      <th>8</th>\n",
       "      <td>20130101130734</td>\n",
       "      <td>1378191.194810</td>\n",
       "      <td>-1</td>\n",
       "      <td>57</td>\n",
       "      <td>34</td>\n",
       "      <td>2</td>\n",
       "      <td>2</td>\n",
       "      <td>1</td>\n",
       "      <td>1</td>\n",
       "      <td>2</td>\n",
       "      <td>...</td>\n",
       "      <td>0</td>\n",
       "      <td>0</td>\n",
       "      <td>0</td>\n",
       "      <td>0</td>\n",
       "      <td>0</td>\n",
       "      <td>0</td>\n",
       "      <td>0</td>\n",
       "      <td>No</td>\n",
       "      <td>F</td>\n",
       "      <td>400.00</td>\n",
       "    </tr>\n",
       "    <tr>\n",
       "      <th>10</th>\n",
       "      <td>20130101130740</td>\n",
       "      <td>4538371.462244</td>\n",
       "      <td>0</td>\n",
       "      <td>59</td>\n",
       "      <td>39</td>\n",
       "      <td>2</td>\n",
       "      <td>2</td>\n",
       "      <td>2</td>\n",
       "      <td>1</td>\n",
       "      <td>2</td>\n",
       "      <td>...</td>\n",
       "      <td>0</td>\n",
       "      <td>0</td>\n",
       "      <td>0</td>\n",
       "      <td>0</td>\n",
       "      <td>0</td>\n",
       "      <td>0</td>\n",
       "      <td>0</td>\n",
       "      <td>Yes</td>\n",
       "      <td>F</td>\n",
       "      <td>320.00</td>\n",
       "    </tr>\n",
       "  </tbody>\n",
       "</table>\n",
       "<p>5 rows × 414 columns</p>\n",
       "</div>"
      ],
      "text/plain": [
       "          tucaseid       TUFINLWGT  TRYHHCHILD  TEAGE  PEEDUCA  PTDTRACE  \\\n",
       "1   20130101130112  4447638.009513           1     39       43         1   \n",
       "3   20130101130611  7731257.992805          -1     50       40         1   \n",
       "4   20130101130616  4725269.227067          -1     45       40         2   \n",
       "8   20130101130734  1378191.194810          -1     57       34         2   \n",
       "10  20130101130740  4538371.462244           0     59       39         2   \n",
       "\n",
       "    PEHSPNON  GTMETSTA  TELFS  TEMJOT   ...     t181801  t189999  t500101  \\\n",
       "1          2         1      1       2   ...           0        0        0   \n",
       "3          1         1      1       2   ...           0        0        0   \n",
       "4          2         1      1       1   ...           0        0        0   \n",
       "8          2         1      1       2   ...           0        0        0   \n",
       "10         2         2      1       2   ...           0        0        0   \n",
       "\n",
       "    t500103  t500105  t500106  t500107  has_children  sex  wk_wage  \n",
       "1         0        0        0        0           Yes    M  1730.76  \n",
       "3         0        0        0        0            No    F   865.38  \n",
       "4         0        0        0        0            No    F   230.00  \n",
       "8         0        0        0        0            No    F   400.00  \n",
       "10        0        0        0        0           Yes    F   320.00  \n",
       "\n",
       "[5 rows x 414 columns]"
      ]
     },
     "execution_count": 304,
     "metadata": {},
     "output_type": "execute_result"
    }
   ],
   "source": [
    "adults.head()"
   ]
  },
  {
   "cell_type": "code",
   "execution_count": 305,
   "metadata": {
    "collapsed": false
   },
   "outputs": [],
   "source": [
    "adults = adults.rename(columns = {'TEAGE': 'age', 'TUFINLWGT':'weight'})"
   ]
  },
  {
   "cell_type": "code",
   "execution_count": 306,
   "metadata": {
    "collapsed": false
   },
   "outputs": [
    {
     "data": {
      "text/html": [
       "<div style=\"max-height:1000px;max-width:1500px;overflow:auto;\">\n",
       "<table border=\"1\" class=\"dataframe\">\n",
       "  <thead>\n",
       "    <tr style=\"text-align: right;\">\n",
       "      <th></th>\n",
       "      <th>tucaseid</th>\n",
       "      <th>weight</th>\n",
       "      <th>TRYHHCHILD</th>\n",
       "      <th>age</th>\n",
       "      <th>PEEDUCA</th>\n",
       "      <th>PTDTRACE</th>\n",
       "      <th>PEHSPNON</th>\n",
       "      <th>GTMETSTA</th>\n",
       "      <th>TELFS</th>\n",
       "      <th>TEMJOT</th>\n",
       "      <th>...</th>\n",
       "      <th>t181801</th>\n",
       "      <th>t189999</th>\n",
       "      <th>t500101</th>\n",
       "      <th>t500103</th>\n",
       "      <th>t500105</th>\n",
       "      <th>t500106</th>\n",
       "      <th>t500107</th>\n",
       "      <th>has_children</th>\n",
       "      <th>sex</th>\n",
       "      <th>wk_wage</th>\n",
       "    </tr>\n",
       "  </thead>\n",
       "  <tbody>\n",
       "    <tr>\n",
       "      <th>1</th>\n",
       "      <td>20130101130112</td>\n",
       "      <td>4447638.009513</td>\n",
       "      <td>1</td>\n",
       "      <td>39</td>\n",
       "      <td>43</td>\n",
       "      <td>1</td>\n",
       "      <td>2</td>\n",
       "      <td>1</td>\n",
       "      <td>1</td>\n",
       "      <td>2</td>\n",
       "      <td>...</td>\n",
       "      <td>0</td>\n",
       "      <td>0</td>\n",
       "      <td>0</td>\n",
       "      <td>0</td>\n",
       "      <td>0</td>\n",
       "      <td>0</td>\n",
       "      <td>0</td>\n",
       "      <td>Yes</td>\n",
       "      <td>M</td>\n",
       "      <td>1730.76</td>\n",
       "    </tr>\n",
       "    <tr>\n",
       "      <th>3</th>\n",
       "      <td>20130101130611</td>\n",
       "      <td>7731257.992805</td>\n",
       "      <td>-1</td>\n",
       "      <td>50</td>\n",
       "      <td>40</td>\n",
       "      <td>1</td>\n",
       "      <td>1</td>\n",
       "      <td>1</td>\n",
       "      <td>1</td>\n",
       "      <td>2</td>\n",
       "      <td>...</td>\n",
       "      <td>0</td>\n",
       "      <td>0</td>\n",
       "      <td>0</td>\n",
       "      <td>0</td>\n",
       "      <td>0</td>\n",
       "      <td>0</td>\n",
       "      <td>0</td>\n",
       "      <td>No</td>\n",
       "      <td>F</td>\n",
       "      <td>865.38</td>\n",
       "    </tr>\n",
       "    <tr>\n",
       "      <th>4</th>\n",
       "      <td>20130101130616</td>\n",
       "      <td>4725269.227067</td>\n",
       "      <td>-1</td>\n",
       "      <td>45</td>\n",
       "      <td>40</td>\n",
       "      <td>2</td>\n",
       "      <td>2</td>\n",
       "      <td>1</td>\n",
       "      <td>1</td>\n",
       "      <td>1</td>\n",
       "      <td>...</td>\n",
       "      <td>0</td>\n",
       "      <td>0</td>\n",
       "      <td>0</td>\n",
       "      <td>0</td>\n",
       "      <td>0</td>\n",
       "      <td>0</td>\n",
       "      <td>0</td>\n",
       "      <td>No</td>\n",
       "      <td>F</td>\n",
       "      <td>230.00</td>\n",
       "    </tr>\n",
       "    <tr>\n",
       "      <th>8</th>\n",
       "      <td>20130101130734</td>\n",
       "      <td>1378191.194810</td>\n",
       "      <td>-1</td>\n",
       "      <td>57</td>\n",
       "      <td>34</td>\n",
       "      <td>2</td>\n",
       "      <td>2</td>\n",
       "      <td>1</td>\n",
       "      <td>1</td>\n",
       "      <td>2</td>\n",
       "      <td>...</td>\n",
       "      <td>0</td>\n",
       "      <td>0</td>\n",
       "      <td>0</td>\n",
       "      <td>0</td>\n",
       "      <td>0</td>\n",
       "      <td>0</td>\n",
       "      <td>0</td>\n",
       "      <td>No</td>\n",
       "      <td>F</td>\n",
       "      <td>400.00</td>\n",
       "    </tr>\n",
       "    <tr>\n",
       "      <th>10</th>\n",
       "      <td>20130101130740</td>\n",
       "      <td>4538371.462244</td>\n",
       "      <td>0</td>\n",
       "      <td>59</td>\n",
       "      <td>39</td>\n",
       "      <td>2</td>\n",
       "      <td>2</td>\n",
       "      <td>2</td>\n",
       "      <td>1</td>\n",
       "      <td>2</td>\n",
       "      <td>...</td>\n",
       "      <td>0</td>\n",
       "      <td>0</td>\n",
       "      <td>0</td>\n",
       "      <td>0</td>\n",
       "      <td>0</td>\n",
       "      <td>0</td>\n",
       "      <td>0</td>\n",
       "      <td>Yes</td>\n",
       "      <td>F</td>\n",
       "      <td>320.00</td>\n",
       "    </tr>\n",
       "  </tbody>\n",
       "</table>\n",
       "<p>5 rows × 414 columns</p>\n",
       "</div>"
      ],
      "text/plain": [
       "          tucaseid          weight  TRYHHCHILD  age  PEEDUCA  PTDTRACE  \\\n",
       "1   20130101130112  4447638.009513           1   39       43         1   \n",
       "3   20130101130611  7731257.992805          -1   50       40         1   \n",
       "4   20130101130616  4725269.227067          -1   45       40         2   \n",
       "8   20130101130734  1378191.194810          -1   57       34         2   \n",
       "10  20130101130740  4538371.462244           0   59       39         2   \n",
       "\n",
       "    PEHSPNON  GTMETSTA  TELFS  TEMJOT   ...     t181801  t189999  t500101  \\\n",
       "1          2         1      1       2   ...           0        0        0   \n",
       "3          1         1      1       2   ...           0        0        0   \n",
       "4          2         1      1       1   ...           0        0        0   \n",
       "8          2         1      1       2   ...           0        0        0   \n",
       "10         2         2      1       2   ...           0        0        0   \n",
       "\n",
       "    t500103  t500105  t500106  t500107  has_children  sex  wk_wage  \n",
       "1         0        0        0        0           Yes    M  1730.76  \n",
       "3         0        0        0        0            No    F   865.38  \n",
       "4         0        0        0        0            No    F   230.00  \n",
       "8         0        0        0        0            No    F   400.00  \n",
       "10        0        0        0        0           Yes    F   320.00  \n",
       "\n",
       "[5 rows x 414 columns]"
      ]
     },
     "execution_count": 306,
     "metadata": {},
     "output_type": "execute_result"
    }
   ],
   "source": [
    "adults.head()"
   ]
  },
  {
   "cell_type": "code",
   "execution_count": 313,
   "metadata": {
    "collapsed": false
   },
   "outputs": [
    {
     "data": {
      "text/plain": [
       "681.46971672201903"
      ]
     },
     "execution_count": 313,
     "metadata": {},
     "output_type": "execute_result"
    }
   ],
   "source": [
    "adults.wk_wage.std()"
   ]
  },
  {
   "cell_type": "markdown",
   "metadata": {},
   "source": [
    "##Classes:\n",
    "* Upper (1%): 6,619.74\n",
    "* Upper Middle (15%): 1,192.80 \n",
    "* Lower Middle (32%): 593.89 \n",
    "* Working (32%): 284.15 \n",
    "* Lower (14-20%): < 284"
   ]
  },
  {
   "cell_type": "code",
   "execution_count": 331,
   "metadata": {
    "collapsed": false
   },
   "outputs": [],
   "source": [
    "adults['status'] = 'Upper'"
   ]
  },
  {
   "cell_type": "code",
   "execution_count": 332,
   "metadata": {
    "collapsed": true
   },
   "outputs": [],
   "source": [
    "adults.loc[adults.wk_wage >= 6619.74, 'status'] = 'upper'"
   ]
  },
  {
   "cell_type": "code",
   "execution_count": 333,
   "metadata": {
    "collapsed": true
   },
   "outputs": [],
   "source": [
    "adults.loc[(adults.wk_wage < 6619.74) & (adults.wk_wage >= 1192.80), 'status'] = 'upmid'"
   ]
  },
  {
   "cell_type": "code",
   "execution_count": 334,
   "metadata": {
    "collapsed": true
   },
   "outputs": [],
   "source": [
    "adults.loc[(adults.wk_wage < 1192.80) & (adults.wk_wage >= 593.89), 'status'] = 'lomid'"
   ]
  },
  {
   "cell_type": "code",
   "execution_count": 335,
   "metadata": {
    "collapsed": true
   },
   "outputs": [],
   "source": [
    "adults.loc[(adults.wk_wage < 593.89) & (adults.wk_wage >= 284.15), 'status'] = 'working'"
   ]
  },
  {
   "cell_type": "code",
   "execution_count": 336,
   "metadata": {
    "collapsed": true
   },
   "outputs": [],
   "source": [
    "adults.loc[adults.wk_wage < 284.15, 'status'] = 'lower'"
   ]
  },
  {
   "cell_type": "code",
   "execution_count": 337,
   "metadata": {
    "collapsed": false
   },
   "outputs": [
    {
     "data": {
      "text/html": [
       "<div style=\"max-height:1000px;max-width:1500px;overflow:auto;\">\n",
       "<table border=\"1\" class=\"dataframe\">\n",
       "  <thead>\n",
       "    <tr style=\"text-align: right;\">\n",
       "      <th></th>\n",
       "      <th>tucaseid</th>\n",
       "      <th>weight</th>\n",
       "      <th>TRYHHCHILD</th>\n",
       "      <th>age</th>\n",
       "      <th>PEEDUCA</th>\n",
       "      <th>PTDTRACE</th>\n",
       "      <th>PEHSPNON</th>\n",
       "      <th>GTMETSTA</th>\n",
       "      <th>TELFS</th>\n",
       "      <th>TEMJOT</th>\n",
       "      <th>...</th>\n",
       "      <th>t189999</th>\n",
       "      <th>t500101</th>\n",
       "      <th>t500103</th>\n",
       "      <th>t500105</th>\n",
       "      <th>t500106</th>\n",
       "      <th>t500107</th>\n",
       "      <th>has_children</th>\n",
       "      <th>sex</th>\n",
       "      <th>wk_wage</th>\n",
       "      <th>status</th>\n",
       "    </tr>\n",
       "  </thead>\n",
       "  <tbody>\n",
       "    <tr>\n",
       "      <th>1</th>\n",
       "      <td>20130101130112</td>\n",
       "      <td>4447638.009513</td>\n",
       "      <td>1</td>\n",
       "      <td>39</td>\n",
       "      <td>43</td>\n",
       "      <td>1</td>\n",
       "      <td>2</td>\n",
       "      <td>1</td>\n",
       "      <td>1</td>\n",
       "      <td>2</td>\n",
       "      <td>...</td>\n",
       "      <td>0</td>\n",
       "      <td>0</td>\n",
       "      <td>0</td>\n",
       "      <td>0</td>\n",
       "      <td>0</td>\n",
       "      <td>0</td>\n",
       "      <td>Yes</td>\n",
       "      <td>M</td>\n",
       "      <td>1730.76</td>\n",
       "      <td>upmid</td>\n",
       "    </tr>\n",
       "    <tr>\n",
       "      <th>3</th>\n",
       "      <td>20130101130611</td>\n",
       "      <td>7731257.992805</td>\n",
       "      <td>-1</td>\n",
       "      <td>50</td>\n",
       "      <td>40</td>\n",
       "      <td>1</td>\n",
       "      <td>1</td>\n",
       "      <td>1</td>\n",
       "      <td>1</td>\n",
       "      <td>2</td>\n",
       "      <td>...</td>\n",
       "      <td>0</td>\n",
       "      <td>0</td>\n",
       "      <td>0</td>\n",
       "      <td>0</td>\n",
       "      <td>0</td>\n",
       "      <td>0</td>\n",
       "      <td>No</td>\n",
       "      <td>F</td>\n",
       "      <td>865.38</td>\n",
       "      <td>lomid</td>\n",
       "    </tr>\n",
       "    <tr>\n",
       "      <th>4</th>\n",
       "      <td>20130101130616</td>\n",
       "      <td>4725269.227067</td>\n",
       "      <td>-1</td>\n",
       "      <td>45</td>\n",
       "      <td>40</td>\n",
       "      <td>2</td>\n",
       "      <td>2</td>\n",
       "      <td>1</td>\n",
       "      <td>1</td>\n",
       "      <td>1</td>\n",
       "      <td>...</td>\n",
       "      <td>0</td>\n",
       "      <td>0</td>\n",
       "      <td>0</td>\n",
       "      <td>0</td>\n",
       "      <td>0</td>\n",
       "      <td>0</td>\n",
       "      <td>No</td>\n",
       "      <td>F</td>\n",
       "      <td>230.00</td>\n",
       "      <td>lower</td>\n",
       "    </tr>\n",
       "    <tr>\n",
       "      <th>8</th>\n",
       "      <td>20130101130734</td>\n",
       "      <td>1378191.194810</td>\n",
       "      <td>-1</td>\n",
       "      <td>57</td>\n",
       "      <td>34</td>\n",
       "      <td>2</td>\n",
       "      <td>2</td>\n",
       "      <td>1</td>\n",
       "      <td>1</td>\n",
       "      <td>2</td>\n",
       "      <td>...</td>\n",
       "      <td>0</td>\n",
       "      <td>0</td>\n",
       "      <td>0</td>\n",
       "      <td>0</td>\n",
       "      <td>0</td>\n",
       "      <td>0</td>\n",
       "      <td>No</td>\n",
       "      <td>F</td>\n",
       "      <td>400.00</td>\n",
       "      <td>working</td>\n",
       "    </tr>\n",
       "    <tr>\n",
       "      <th>10</th>\n",
       "      <td>20130101130740</td>\n",
       "      <td>4538371.462244</td>\n",
       "      <td>0</td>\n",
       "      <td>59</td>\n",
       "      <td>39</td>\n",
       "      <td>2</td>\n",
       "      <td>2</td>\n",
       "      <td>2</td>\n",
       "      <td>1</td>\n",
       "      <td>2</td>\n",
       "      <td>...</td>\n",
       "      <td>0</td>\n",
       "      <td>0</td>\n",
       "      <td>0</td>\n",
       "      <td>0</td>\n",
       "      <td>0</td>\n",
       "      <td>0</td>\n",
       "      <td>Yes</td>\n",
       "      <td>F</td>\n",
       "      <td>320.00</td>\n",
       "      <td>working</td>\n",
       "    </tr>\n",
       "  </tbody>\n",
       "</table>\n",
       "<p>5 rows × 415 columns</p>\n",
       "</div>"
      ],
      "text/plain": [
       "          tucaseid          weight  TRYHHCHILD  age  PEEDUCA  PTDTRACE  \\\n",
       "1   20130101130112  4447638.009513           1   39       43         1   \n",
       "3   20130101130611  7731257.992805          -1   50       40         1   \n",
       "4   20130101130616  4725269.227067          -1   45       40         2   \n",
       "8   20130101130734  1378191.194810          -1   57       34         2   \n",
       "10  20130101130740  4538371.462244           0   59       39         2   \n",
       "\n",
       "    PEHSPNON  GTMETSTA  TELFS  TEMJOT   ...     t189999  t500101  t500103  \\\n",
       "1          2         1      1       2   ...           0        0        0   \n",
       "3          1         1      1       2   ...           0        0        0   \n",
       "4          2         1      1       1   ...           0        0        0   \n",
       "8          2         1      1       2   ...           0        0        0   \n",
       "10         2         2      1       2   ...           0        0        0   \n",
       "\n",
       "    t500105  t500106  t500107  has_children  sex  wk_wage   status  \n",
       "1         0        0        0           Yes    M  1730.76    upmid  \n",
       "3         0        0        0            No    F   865.38    lomid  \n",
       "4         0        0        0            No    F   230.00    lower  \n",
       "8         0        0        0            No    F   400.00  working  \n",
       "10        0        0        0           Yes    F   320.00  working  \n",
       "\n",
       "[5 rows x 415 columns]"
      ]
     },
     "execution_count": 337,
     "metadata": {},
     "output_type": "execute_result"
    }
   ],
   "source": [
    "adults.head()"
   ]
  },
  {
   "cell_type": "markdown",
   "metadata": {},
   "source": [
    "###RANGE"
   ]
  },
  {
   "cell_type": "code",
   "execution_count": 371,
   "metadata": {
    "collapsed": false
   },
   "outputs": [],
   "source": [
    "adults['leisure']=adults.loc[:,'t120101':'t130299'].sum(axis=1)"
   ]
  },
  {
   "cell_type": "code",
   "execution_count": 373,
   "metadata": {
    "collapsed": true
   },
   "outputs": [],
   "source": [
    "adults['volunteer']=adults.loc[:,'t150101':'t159999'].sum(axis=1)"
   ]
  },
  {
   "cell_type": "code",
   "execution_count": 374,
   "metadata": {
    "collapsed": true
   },
   "outputs": [],
   "source": [
    "adults['religion']=adults.loc[:,'t140101':'t149999'].sum(axis=1)"
   ]
  },
  {
   "cell_type": "code",
   "execution_count": 375,
   "metadata": {
    "collapsed": true
   },
   "outputs": [],
   "source": [
    "adults['work']=adults.loc[:,'t050101':'t050399'].sum(axis=1)"
   ]
  },
  {
   "cell_type": "code",
   "execution_count": 376,
   "metadata": {
    "collapsed": true
   },
   "outputs": [],
   "source": [
    "adults['timekids']=adults.loc[:,'t030101':'t030399'].sum(axis=1)"
   ]
  },
  {
   "cell_type": "code",
   "execution_count": 386,
   "metadata": {
    "collapsed": false
   },
   "outputs": [],
   "source": [
    "adults['sleep']=adults.loc[:,'t010101']"
   ]
  },
  {
   "cell_type": "code",
   "execution_count": 492,
   "metadata": {
    "collapsed": false
   },
   "outputs": [],
   "source": [
    "adults['education']=adults.loc[:,'t060101':'t060399'].sum(axis=1)"
   ]
  },
  {
   "cell_type": "code",
   "execution_count": 493,
   "metadata": {
    "collapsed": true
   },
   "outputs": [],
   "source": [
    "values_list=['sleep','leisure','volunteer','religion','work','timekids','education']"
   ]
  },
  {
   "cell_type": "code",
   "execution_count": 494,
   "metadata": {
    "collapsed": false
   },
   "outputs": [],
   "source": [
    "for col in values_list:\n",
    "    adults['w' + col] = adults[col] * adults.weight"
   ]
  },
  {
   "cell_type": "code",
   "execution_count": 495,
   "metadata": {
    "collapsed": false
   },
   "outputs": [
    {
     "data": {
      "text/html": [
       "<div style=\"max-height:1000px;max-width:1500px;overflow:auto;\">\n",
       "<table border=\"1\" class=\"dataframe\">\n",
       "  <thead>\n",
       "    <tr style=\"text-align: right;\">\n",
       "      <th></th>\n",
       "      <th>tucaseid</th>\n",
       "      <th>weight</th>\n",
       "      <th>TRYHHCHILD</th>\n",
       "      <th>age</th>\n",
       "      <th>PEEDUCA</th>\n",
       "      <th>PTDTRACE</th>\n",
       "      <th>PEHSPNON</th>\n",
       "      <th>GTMETSTA</th>\n",
       "      <th>TELFS</th>\n",
       "      <th>TEMJOT</th>\n",
       "      <th>...</th>\n",
       "      <th>timekids</th>\n",
       "      <th>sleep</th>\n",
       "      <th>wsleep</th>\n",
       "      <th>wleisure</th>\n",
       "      <th>wvolunteer</th>\n",
       "      <th>wreligion</th>\n",
       "      <th>wwork</th>\n",
       "      <th>wtimekids</th>\n",
       "      <th>education</th>\n",
       "      <th>weducation</th>\n",
       "    </tr>\n",
       "  </thead>\n",
       "  <tbody>\n",
       "    <tr>\n",
       "      <th>1</th>\n",
       "      <td>20130101130112</td>\n",
       "      <td>4447638.009513</td>\n",
       "      <td>1</td>\n",
       "      <td>39</td>\n",
       "      <td>43</td>\n",
       "      <td>1</td>\n",
       "      <td>2</td>\n",
       "      <td>1</td>\n",
       "      <td>1</td>\n",
       "      <td>2</td>\n",
       "      <td>...</td>\n",
       "      <td>389</td>\n",
       "      <td>580</td>\n",
       "      <td>2.579630e+09</td>\n",
       "      <td>7.116221e+08</td>\n",
       "      <td>0</td>\n",
       "      <td>0</td>\n",
       "      <td>0.000000e+00</td>\n",
       "      <td>1.730131e+09</td>\n",
       "      <td>0</td>\n",
       "      <td>0.000000e+00</td>\n",
       "    </tr>\n",
       "    <tr>\n",
       "      <th>3</th>\n",
       "      <td>20130101130611</td>\n",
       "      <td>7731257.992805</td>\n",
       "      <td>-1</td>\n",
       "      <td>50</td>\n",
       "      <td>40</td>\n",
       "      <td>1</td>\n",
       "      <td>1</td>\n",
       "      <td>1</td>\n",
       "      <td>1</td>\n",
       "      <td>2</td>\n",
       "      <td>...</td>\n",
       "      <td>0</td>\n",
       "      <td>450</td>\n",
       "      <td>3.479066e+09</td>\n",
       "      <td>9.664072e+08</td>\n",
       "      <td>0</td>\n",
       "      <td>0</td>\n",
       "      <td>5.257255e+09</td>\n",
       "      <td>0.000000e+00</td>\n",
       "      <td>0</td>\n",
       "      <td>0.000000e+00</td>\n",
       "    </tr>\n",
       "    <tr>\n",
       "      <th>4</th>\n",
       "      <td>20130101130616</td>\n",
       "      <td>4725269.227067</td>\n",
       "      <td>-1</td>\n",
       "      <td>45</td>\n",
       "      <td>40</td>\n",
       "      <td>2</td>\n",
       "      <td>2</td>\n",
       "      <td>1</td>\n",
       "      <td>1</td>\n",
       "      <td>1</td>\n",
       "      <td>...</td>\n",
       "      <td>0</td>\n",
       "      <td>570</td>\n",
       "      <td>2.693403e+09</td>\n",
       "      <td>7.087904e+08</td>\n",
       "      <td>0</td>\n",
       "      <td>0</td>\n",
       "      <td>0.000000e+00</td>\n",
       "      <td>0.000000e+00</td>\n",
       "      <td>510</td>\n",
       "      <td>2.409887e+09</td>\n",
       "    </tr>\n",
       "    <tr>\n",
       "      <th>8</th>\n",
       "      <td>20130101130734</td>\n",
       "      <td>1378191.194810</td>\n",
       "      <td>-1</td>\n",
       "      <td>57</td>\n",
       "      <td>34</td>\n",
       "      <td>2</td>\n",
       "      <td>2</td>\n",
       "      <td>1</td>\n",
       "      <td>1</td>\n",
       "      <td>2</td>\n",
       "      <td>...</td>\n",
       "      <td>0</td>\n",
       "      <td>930</td>\n",
       "      <td>1.281718e+09</td>\n",
       "      <td>3.721116e+08</td>\n",
       "      <td>0</td>\n",
       "      <td>0</td>\n",
       "      <td>0.000000e+00</td>\n",
       "      <td>0.000000e+00</td>\n",
       "      <td>0</td>\n",
       "      <td>0.000000e+00</td>\n",
       "    </tr>\n",
       "    <tr>\n",
       "      <th>10</th>\n",
       "      <td>20130101130740</td>\n",
       "      <td>4538371.462244</td>\n",
       "      <td>0</td>\n",
       "      <td>59</td>\n",
       "      <td>39</td>\n",
       "      <td>2</td>\n",
       "      <td>2</td>\n",
       "      <td>2</td>\n",
       "      <td>1</td>\n",
       "      <td>2</td>\n",
       "      <td>...</td>\n",
       "      <td>190</td>\n",
       "      <td>210</td>\n",
       "      <td>9.530580e+08</td>\n",
       "      <td>1.420510e+09</td>\n",
       "      <td>0</td>\n",
       "      <td>0</td>\n",
       "      <td>2.450721e+09</td>\n",
       "      <td>8.622906e+08</td>\n",
       "      <td>0</td>\n",
       "      <td>0.000000e+00</td>\n",
       "    </tr>\n",
       "  </tbody>\n",
       "</table>\n",
       "<p>5 rows × 429 columns</p>\n",
       "</div>"
      ],
      "text/plain": [
       "          tucaseid          weight  TRYHHCHILD  age  PEEDUCA  PTDTRACE  \\\n",
       "1   20130101130112  4447638.009513           1   39       43         1   \n",
       "3   20130101130611  7731257.992805          -1   50       40         1   \n",
       "4   20130101130616  4725269.227067          -1   45       40         2   \n",
       "8   20130101130734  1378191.194810          -1   57       34         2   \n",
       "10  20130101130740  4538371.462244           0   59       39         2   \n",
       "\n",
       "    PEHSPNON  GTMETSTA  TELFS  TEMJOT      ...       timekids  sleep  \\\n",
       "1          2         1      1       2      ...            389    580   \n",
       "3          1         1      1       2      ...              0    450   \n",
       "4          2         1      1       1      ...              0    570   \n",
       "8          2         1      1       2      ...              0    930   \n",
       "10         2         2      1       2      ...            190    210   \n",
       "\n",
       "          wsleep      wleisure  wvolunteer  wreligion         wwork  \\\n",
       "1   2.579630e+09  7.116221e+08           0          0  0.000000e+00   \n",
       "3   3.479066e+09  9.664072e+08           0          0  5.257255e+09   \n",
       "4   2.693403e+09  7.087904e+08           0          0  0.000000e+00   \n",
       "8   1.281718e+09  3.721116e+08           0          0  0.000000e+00   \n",
       "10  9.530580e+08  1.420510e+09           0          0  2.450721e+09   \n",
       "\n",
       "       wtimekids  education    weducation  \n",
       "1   1.730131e+09          0  0.000000e+00  \n",
       "3   0.000000e+00          0  0.000000e+00  \n",
       "4   0.000000e+00        510  2.409887e+09  \n",
       "8   0.000000e+00          0  0.000000e+00  \n",
       "10  8.622906e+08          0  0.000000e+00  \n",
       "\n",
       "[5 rows x 429 columns]"
      ]
     },
     "execution_count": 495,
     "metadata": {},
     "output_type": "execute_result"
    }
   ],
   "source": [
    "adults.head()"
   ]
  },
  {
   "cell_type": "code",
   "execution_count": 496,
   "metadata": {
    "collapsed": false
   },
   "outputs": [
    {
     "data": {
      "text/plain": [
       "<bound method Series.sort of lomid      2154\n",
       "upmid      1609\n",
       "working    1475\n",
       "lower       748\n",
       "dtype: int64>"
      ]
     },
     "execution_count": 496,
     "metadata": {},
     "output_type": "execute_result"
    }
   ],
   "source": [
    "adults.status.value_counts().sort"
   ]
  },
  {
   "cell_type": "code",
   "execution_count": 498,
   "metadata": {
    "collapsed": false
   },
   "outputs": [],
   "source": [
    "table = adults.pivot_table(index='status',values=['wsleep','wleisure','wvolunteer','wreligion','wwork','wtimekids','weight','weducation'],aggfunc=sum)"
   ]
  },
  {
   "cell_type": "code",
   "execution_count": 499,
   "metadata": {
    "collapsed": false
   },
   "outputs": [
    {
     "data": {
      "text/html": [
       "<div style=\"max-height:1000px;max-width:1500px;overflow:auto;\">\n",
       "<table border=\"1\" class=\"dataframe\">\n",
       "  <thead>\n",
       "    <tr style=\"text-align: right;\">\n",
       "      <th></th>\n",
       "      <th>weducation</th>\n",
       "      <th>weight</th>\n",
       "      <th>wleisure</th>\n",
       "      <th>wreligion</th>\n",
       "      <th>wsleep</th>\n",
       "      <th>wtimekids</th>\n",
       "      <th>wvolunteer</th>\n",
       "      <th>wwork</th>\n",
       "    </tr>\n",
       "    <tr>\n",
       "      <th>status</th>\n",
       "      <th></th>\n",
       "      <th></th>\n",
       "      <th></th>\n",
       "      <th></th>\n",
       "      <th></th>\n",
       "      <th></th>\n",
       "      <th></th>\n",
       "      <th></th>\n",
       "    </tr>\n",
       "  </thead>\n",
       "  <tbody>\n",
       "    <tr>\n",
       "      <th>lomid</th>\n",
       "      <td>5.616127e+10</td>\n",
       "      <td>1.685817e+10</td>\n",
       "      <td>3.957616e+12</td>\n",
       "      <td>1.216512e+11</td>\n",
       "      <td>8.320424e+12</td>\n",
       "      <td>4.321863e+11</td>\n",
       "      <td>1.096810e+11</td>\n",
       "      <td>5.714226e+12</td>\n",
       "    </tr>\n",
       "    <tr>\n",
       "      <th>lower</th>\n",
       "      <td>2.480482e+11</td>\n",
       "      <td>6.695986e+09</td>\n",
       "      <td>1.814320e+12</td>\n",
       "      <td>4.707646e+10</td>\n",
       "      <td>3.579116e+12</td>\n",
       "      <td>1.271605e+11</td>\n",
       "      <td>5.821403e+10</td>\n",
       "      <td>1.321834e+12</td>\n",
       "    </tr>\n",
       "    <tr>\n",
       "      <th>upmid</th>\n",
       "      <td>4.075513e+10</td>\n",
       "      <td>1.171558e+10</td>\n",
       "      <td>2.540249e+12</td>\n",
       "      <td>5.391984e+10</td>\n",
       "      <td>5.683867e+12</td>\n",
       "      <td>3.542535e+11</td>\n",
       "      <td>5.982859e+10</td>\n",
       "      <td>4.146503e+12</td>\n",
       "    </tr>\n",
       "    <tr>\n",
       "      <th>working</th>\n",
       "      <td>7.923582e+10</td>\n",
       "      <td>1.307464e+10</td>\n",
       "      <td>3.250197e+12</td>\n",
       "      <td>1.008563e+11</td>\n",
       "      <td>6.684679e+12</td>\n",
       "      <td>2.922426e+11</td>\n",
       "      <td>4.380639e+10</td>\n",
       "      <td>4.188310e+12</td>\n",
       "    </tr>\n",
       "  </tbody>\n",
       "</table>\n",
       "</div>"
      ],
      "text/plain": [
       "           weducation        weight      wleisure     wreligion        wsleep  \\\n",
       "status                                                                          \n",
       "lomid    5.616127e+10  1.685817e+10  3.957616e+12  1.216512e+11  8.320424e+12   \n",
       "lower    2.480482e+11  6.695986e+09  1.814320e+12  4.707646e+10  3.579116e+12   \n",
       "upmid    4.075513e+10  1.171558e+10  2.540249e+12  5.391984e+10  5.683867e+12   \n",
       "working  7.923582e+10  1.307464e+10  3.250197e+12  1.008563e+11  6.684679e+12   \n",
       "\n",
       "            wtimekids    wvolunteer         wwork  \n",
       "status                                             \n",
       "lomid    4.321863e+11  1.096810e+11  5.714226e+12  \n",
       "lower    1.271605e+11  5.821403e+10  1.321834e+12  \n",
       "upmid    3.542535e+11  5.982859e+10  4.146503e+12  \n",
       "working  2.922426e+11  4.380639e+10  4.188310e+12  "
      ]
     },
     "execution_count": 499,
     "metadata": {},
     "output_type": "execute_result"
    }
   ],
   "source": [
    "table"
   ]
  },
  {
   "cell_type": "code",
   "execution_count": 500,
   "metadata": {
    "collapsed": false
   },
   "outputs": [
    {
     "data": {
      "text/html": [
       "<div style=\"max-height:1000px;max-width:1500px;overflow:auto;\">\n",
       "<table border=\"1\" class=\"dataframe\">\n",
       "  <thead>\n",
       "    <tr style=\"text-align: right;\">\n",
       "      <th></th>\n",
       "      <th>weducation</th>\n",
       "      <th>weight</th>\n",
       "      <th>wleisure</th>\n",
       "      <th>wreligion</th>\n",
       "      <th>wsleep</th>\n",
       "      <th>wtimekids</th>\n",
       "      <th>wvolunteer</th>\n",
       "      <th>wwork</th>\n",
       "    </tr>\n",
       "    <tr>\n",
       "      <th>status</th>\n",
       "      <th></th>\n",
       "      <th></th>\n",
       "      <th></th>\n",
       "      <th></th>\n",
       "      <th></th>\n",
       "      <th></th>\n",
       "      <th></th>\n",
       "      <th></th>\n",
       "    </tr>\n",
       "  </thead>\n",
       "  <tbody>\n",
       "    <tr>\n",
       "      <th>lomid</th>\n",
       "      <td>3.331397</td>\n",
       "      <td>1</td>\n",
       "      <td>234.759500</td>\n",
       "      <td>7.216154</td>\n",
       "      <td>493.554256</td>\n",
       "      <td>25.636601</td>\n",
       "      <td>6.506099</td>\n",
       "      <td>338.958760</td>\n",
       "    </tr>\n",
       "    <tr>\n",
       "      <th>lower</th>\n",
       "      <td>37.044317</td>\n",
       "      <td>1</td>\n",
       "      <td>270.956321</td>\n",
       "      <td>7.030549</td>\n",
       "      <td>534.516652</td>\n",
       "      <td>18.990559</td>\n",
       "      <td>8.693870</td>\n",
       "      <td>197.406952</td>\n",
       "    </tr>\n",
       "    <tr>\n",
       "      <th>upmid</th>\n",
       "      <td>3.478711</td>\n",
       "      <td>1</td>\n",
       "      <td>216.826567</td>\n",
       "      <td>4.602404</td>\n",
       "      <td>485.154523</td>\n",
       "      <td>30.237810</td>\n",
       "      <td>5.106754</td>\n",
       "      <td>353.930623</td>\n",
       "    </tr>\n",
       "    <tr>\n",
       "      <th>working</th>\n",
       "      <td>6.060267</td>\n",
       "      <td>1</td>\n",
       "      <td>248.587814</td>\n",
       "      <td>7.713887</td>\n",
       "      <td>511.270507</td>\n",
       "      <td>22.351863</td>\n",
       "      <td>3.350485</td>\n",
       "      <td>320.338374</td>\n",
       "    </tr>\n",
       "  </tbody>\n",
       "</table>\n",
       "</div>"
      ],
      "text/plain": [
       "         weducation  weight    wleisure  wreligion      wsleep  wtimekids  \\\n",
       "status                                                                      \n",
       "lomid      3.331397       1  234.759500   7.216154  493.554256  25.636601   \n",
       "lower     37.044317       1  270.956321   7.030549  534.516652  18.990559   \n",
       "upmid      3.478711       1  216.826567   4.602404  485.154523  30.237810   \n",
       "working    6.060267       1  248.587814   7.713887  511.270507  22.351863   \n",
       "\n",
       "         wvolunteer       wwork  \n",
       "status                           \n",
       "lomid      6.506099  338.958760  \n",
       "lower      8.693870  197.406952  \n",
       "upmid      5.106754  353.930623  \n",
       "working    3.350485  320.338374  "
      ]
     },
     "execution_count": 500,
     "metadata": {},
     "output_type": "execute_result"
    }
   ],
   "source": [
    "avg = table.div(table.weight, axis='index'); avg\n"
   ]
  },
  {
   "cell_type": "code",
   "execution_count": 501,
   "metadata": {
    "collapsed": false
   },
   "outputs": [],
   "source": [
    "del avg['weight']"
   ]
  },
  {
   "cell_type": "code",
   "execution_count": 503,
   "metadata": {
    "collapsed": false
   },
   "outputs": [
    {
     "data": {
      "text/html": [
       "<div style=\"max-height:1000px;max-width:1500px;overflow:auto;\">\n",
       "<table border=\"1\" class=\"dataframe\">\n",
       "  <thead>\n",
       "    <tr style=\"text-align: right;\">\n",
       "      <th></th>\n",
       "      <th>weducation</th>\n",
       "      <th>wleisure</th>\n",
       "      <th>wreligion</th>\n",
       "      <th>wsleep</th>\n",
       "      <th>wtimekids</th>\n",
       "      <th>wvolunteer</th>\n",
       "      <th>wwork</th>\n",
       "    </tr>\n",
       "    <tr>\n",
       "      <th>status</th>\n",
       "      <th></th>\n",
       "      <th></th>\n",
       "      <th></th>\n",
       "      <th></th>\n",
       "      <th></th>\n",
       "      <th></th>\n",
       "      <th></th>\n",
       "    </tr>\n",
       "  </thead>\n",
       "  <tbody>\n",
       "    <tr>\n",
       "      <th>lomid</th>\n",
       "      <td>0.055523</td>\n",
       "      <td>3.912658</td>\n",
       "      <td>0.120269</td>\n",
       "      <td>8.225904</td>\n",
       "      <td>0.427277</td>\n",
       "      <td>0.108435</td>\n",
       "      <td>5.649313</td>\n",
       "    </tr>\n",
       "    <tr>\n",
       "      <th>lower</th>\n",
       "      <td>0.617405</td>\n",
       "      <td>4.515939</td>\n",
       "      <td>0.117176</td>\n",
       "      <td>8.908611</td>\n",
       "      <td>0.316509</td>\n",
       "      <td>0.144898</td>\n",
       "      <td>3.290116</td>\n",
       "    </tr>\n",
       "    <tr>\n",
       "      <th>upmid</th>\n",
       "      <td>0.057979</td>\n",
       "      <td>3.613776</td>\n",
       "      <td>0.076707</td>\n",
       "      <td>8.085909</td>\n",
       "      <td>0.503963</td>\n",
       "      <td>0.085113</td>\n",
       "      <td>5.898844</td>\n",
       "    </tr>\n",
       "    <tr>\n",
       "      <th>working</th>\n",
       "      <td>0.101004</td>\n",
       "      <td>4.143130</td>\n",
       "      <td>0.128565</td>\n",
       "      <td>8.521175</td>\n",
       "      <td>0.372531</td>\n",
       "      <td>0.055841</td>\n",
       "      <td>5.338973</td>\n",
       "    </tr>\n",
       "  </tbody>\n",
       "</table>\n",
       "</div>"
      ],
      "text/plain": [
       "         weducation  wleisure  wreligion    wsleep  wtimekids  wvolunteer  \\\n",
       "status                                                                      \n",
       "lomid      0.055523  3.912658   0.120269  8.225904   0.427277    0.108435   \n",
       "lower      0.617405  4.515939   0.117176  8.908611   0.316509    0.144898   \n",
       "upmid      0.057979  3.613776   0.076707  8.085909   0.503963    0.085113   \n",
       "working    0.101004  4.143130   0.128565  8.521175   0.372531    0.055841   \n",
       "\n",
       "            wwork  \n",
       "status             \n",
       "lomid    5.649313  \n",
       "lower    3.290116  \n",
       "upmid    5.898844  \n",
       "working  5.338973  "
      ]
     },
     "execution_count": 503,
     "metadata": {},
     "output_type": "execute_result"
    }
   ],
   "source": [
    "avg = avg / 60; avg"
   ]
  },
  {
   "cell_type": "code",
   "execution_count": 526,
   "metadata": {
    "collapsed": false
   },
   "outputs": [
    {
     "data": {
      "text/html": [
       "<div style=\"max-height:1000px;max-width:1500px;overflow:auto;\">\n",
       "<table border=\"1\" class=\"dataframe\">\n",
       "  <thead>\n",
       "    <tr style=\"text-align: right;\">\n",
       "      <th></th>\n",
       "      <th>weducation</th>\n",
       "      <th>wleisure</th>\n",
       "      <th>wreligion</th>\n",
       "      <th>wsleep</th>\n",
       "      <th>wtimekids</th>\n",
       "      <th>wvolunteer</th>\n",
       "      <th>wwork</th>\n",
       "      <th>total</th>\n",
       "    </tr>\n",
       "    <tr>\n",
       "      <th>status</th>\n",
       "      <th></th>\n",
       "      <th></th>\n",
       "      <th></th>\n",
       "      <th></th>\n",
       "      <th></th>\n",
       "      <th></th>\n",
       "      <th></th>\n",
       "      <th></th>\n",
       "    </tr>\n",
       "  </thead>\n",
       "  <tbody>\n",
       "    <tr>\n",
       "      <th>lomid</th>\n",
       "      <td>0.055523</td>\n",
       "      <td>3.912658</td>\n",
       "      <td>0.120269</td>\n",
       "      <td>8.225904</td>\n",
       "      <td>0.427277</td>\n",
       "      <td>0.108435</td>\n",
       "      <td>5.649313</td>\n",
       "      <td>18.499379</td>\n",
       "    </tr>\n",
       "    <tr>\n",
       "      <th>lower</th>\n",
       "      <td>0.617405</td>\n",
       "      <td>4.515939</td>\n",
       "      <td>0.117176</td>\n",
       "      <td>8.908611</td>\n",
       "      <td>0.316509</td>\n",
       "      <td>0.144898</td>\n",
       "      <td>3.290116</td>\n",
       "      <td>17.910654</td>\n",
       "    </tr>\n",
       "    <tr>\n",
       "      <th>upmid</th>\n",
       "      <td>0.057979</td>\n",
       "      <td>3.613776</td>\n",
       "      <td>0.076707</td>\n",
       "      <td>8.085909</td>\n",
       "      <td>0.503963</td>\n",
       "      <td>0.085113</td>\n",
       "      <td>5.898844</td>\n",
       "      <td>18.322290</td>\n",
       "    </tr>\n",
       "    <tr>\n",
       "      <th>working</th>\n",
       "      <td>0.101004</td>\n",
       "      <td>4.143130</td>\n",
       "      <td>0.128565</td>\n",
       "      <td>8.521175</td>\n",
       "      <td>0.372531</td>\n",
       "      <td>0.055841</td>\n",
       "      <td>5.338973</td>\n",
       "      <td>18.661220</td>\n",
       "    </tr>\n",
       "  </tbody>\n",
       "</table>\n",
       "</div>"
      ],
      "text/plain": [
       "         weducation  wleisure  wreligion    wsleep  wtimekids  wvolunteer  \\\n",
       "status                                                                      \n",
       "lomid      0.055523  3.912658   0.120269  8.225904   0.427277    0.108435   \n",
       "lower      0.617405  4.515939   0.117176  8.908611   0.316509    0.144898   \n",
       "upmid      0.057979  3.613776   0.076707  8.085909   0.503963    0.085113   \n",
       "working    0.101004  4.143130   0.128565  8.521175   0.372531    0.055841   \n",
       "\n",
       "            wwork      total  \n",
       "status                        \n",
       "lomid    5.649313  18.499379  \n",
       "lower    3.290116  17.910654  \n",
       "upmid    5.898844  18.322290  \n",
       "working  5.338973  18.661220  "
      ]
     },
     "execution_count": 526,
     "metadata": {},
     "output_type": "execute_result"
    }
   ],
   "source": [
    "avg['total']= avg.sum(axis=1); avg"
   ]
  },
  {
   "cell_type": "code",
   "execution_count": 537,
   "metadata": {
    "collapsed": false
   },
   "outputs": [
    {
     "data": {
      "text/plain": [
       "<matplotlib.axes._subplots.AxesSubplot at 0x15074c4a8>"
      ]
     },
     "execution_count": 537,
     "metadata": {},
     "output_type": "execute_result"
    },
    {
     "data": {
      "image/png": "[encoded data removed]",
      "text/plain": [
       "<matplotlib.figure.Figure at 0x1507999e8>"
      ]
     },
     "metadata": {},
     "output_type": "display_data"
    }
   ],
   "source": [
    "avg.weducation.transpose().plot(kind='bar', figsize=(5,5))"
   ]
  },
  {
   "cell_type": "code",
   "execution_count": 534,
   "metadata": {
    "collapsed": false
   },
   "outputs": [
    {
     "data": {
      "text/plain": [
       "<matplotlib.axes._subplots.AxesSubplot at 0x14f09d400>"
      ]
     },
     "execution_count": 534,
     "metadata": {},
     "output_type": "execute_result"
    },
    {
     "data": {
      "image/png": "[encoded data removed]",
      "text/plain": [
       "<matplotlib.figure.Figure at 0x14f0b1550>"
      ]
     },
     "metadata": {},
     "output_type": "display_data"
    }
   ],
   "source": [
    "avg.wleisure.transpose().plot(kind='bar', figsize=(5,5), ylim=(2,5))"
   ]
  },
  {
   "cell_type": "code",
   "execution_count": 535,
   "metadata": {
    "collapsed": false
   },
   "outputs": [
    {
     "data": {
      "text/plain": [
       "<matplotlib.axes._subplots.AxesSubplot at 0x1505b6780>"
      ]
     },
     "execution_count": 535,
     "metadata": {},
     "output_type": "execute_result"
    },
    {
     "data": {
      "image/png": "[encoded data removed]",
      "text/plain": [
       "<matplotlib.figure.Figure at 0x1506c4940>"
      ]
     },
     "metadata": {},
     "output_type": "display_data"
    }
   ],
   "source": [
    "avg.wreligion.transpose().plot(kind='bar', figsize=(5,5))"
   ]
  },
  {
   "cell_type": "code",
   "execution_count": 536,
   "metadata": {
    "collapsed": false
   },
   "outputs": [
    {
     "data": {
      "text/plain": [
       "<matplotlib.axes._subplots.AxesSubplot at 0x1506e0b38>"
      ]
     },
     "execution_count": 536,
     "metadata": {},
     "output_type": "execute_result"
    },
    {
     "data": {
      "image/png": "[encoded data removed]",
      "text/plain": [
       "<matplotlib.figure.Figure at 0x1506f04e0>"
      ]
     },
     "metadata": {},
     "output_type": "display_data"
    }
   ],
   "source": [
    "avg.wsleep.transpose().plot(kind='bar', figsize=(5,5), ylim=(6,9))"
   ]
  },
  {
   "cell_type": "code",
   "execution_count": 539,
   "metadata": {
    "collapsed": false
   },
   "outputs": [
    {
     "data": {
      "text/plain": [
       "<matplotlib.axes._subplots.AxesSubplot at 0x14f09d160>"
      ]
     },
     "execution_count": 539,
     "metadata": {},
     "output_type": "execute_result"
    },
    {
     "data": {
      "image/png": "[encoded data removed]",
      "text/plain": [
       "<matplotlib.figure.Figure at 0x1509485f8>"
      ]
     },
     "metadata": {},
     "output_type": "display_data"
    }
   ],
   "source": [
    "avg.wtimekids.transpose().plot(kind='bar', figsize=(5,5))"
   ]
  },
  {
   "cell_type": "code",
   "execution_count": 540,
   "metadata": {
    "collapsed": false
   },
   "outputs": [
    {
     "data": {
      "text/plain": [
       "<matplotlib.axes._subplots.AxesSubplot at 0x150966978>"
      ]
     },
     "execution_count": 540,
     "metadata": {},
     "output_type": "execute_result"
    },
    {
     "data": {
      "image/png": "[encoded data removed]",
      "text/plain": [
       "<matplotlib.figure.Figure at 0x15096e320>"
      ]
     },
     "metadata": {},
     "output_type": "display_data"
    }
   ],
   "source": [
    "avg.wvolunteer.transpose().plot(kind='bar', figsize=(5,5))"
   ]
  },
  {
   "cell_type": "code",
   "execution_count": 541,
   "metadata": {
    "collapsed": false
   },
   "outputs": [
    {
     "data": {
      "text/plain": [
       "<matplotlib.axes._subplots.AxesSubplot at 0x150a3ceb8>"
      ]
     },
     "execution_count": 541,
     "metadata": {},
     "output_type": "execute_result"
    },
    {
     "data": {
      "image/png": "[encoded data removed]",
      "text/plain": [
       "<matplotlib.figure.Figure at 0x150af1208>"
      ]
     },
     "metadata": {},
     "output_type": "display_data"
    }
   ],
   "source": [
    "avg.wwork.transpose().plot(kind='bar', figsize=(5,5))"
   ]
  },
  {
   "cell_type": "code",
   "execution_count": null,
   "metadata": {
    "collapsed": true
   },
   "outputs": [],
   "source": []
  }
 ],
 "metadata": {
  "kernelspec": {
   "display_name": "Python 3",
   "language": "python",
   "name": "python3"
  },
  "language_info": {
   "codemirror_mode": {
    "name": "ipython",
    "version": 3
   },
   "file_extension": ".py",
   "mimetype": "text/x-python",
   "name": "python",
   "nbconvert_exporter": "python",
   "pygments_lexer": "ipython3",
   "version": "3.4.3"
  }
 },
 "nbformat": 4,
 "nbformat_minor": 0
}
